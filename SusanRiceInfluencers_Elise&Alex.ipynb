{
 "cells": [
  {
   "cell_type": "markdown",
   "metadata": {},
   "source": [
    "**Mentions as a measure of influence in the #SusanRice story**\n",
    "\n",
    "**Code by Elise Hansen and Alex Seigman**\n",
    "\n",
    "**Premise:** In our computational journalism class with Mark Hansen, we looked at the origin and spread of the #SusanRice hashtag in order to understand how stories start outside the mainstream, then permute and spread until they reach mainstream news outlets. We used tweets and metadata gathered from API calls to examine different elements of the trend. \n",
    "\n",
    "This was a classwide project, so the angle my classmate, Alex Seigman, and I took was to look at “mentions” in a tweet as a measure of influence, to see who might be relevant to shaping the conversation. \n",
    "\n",
    "We looked at the people with the top 4 volume of mentions. Their volume--and the timing of the volume variations--demonstrates how different influencers appeared on the scene at different times and gained enough volume to become a part of the conversation.\n",
    "\n",
    "We also looked at the top URLs shared in tweets as one way to gauge the nature of the conversation and see when certain outlets rose to prominence. \n",
    "\n",
    "**Note:** This project is a work in progress, so we do not yet have an accompanying article or interviews. However, the computational work demonstrates some of the tasks that have become fairly routine at this point, and I have attempted to add commentary in places where it may be useful."
   ]
  },
  {
   "cell_type": "code",
   "execution_count": null,
   "metadata": {
    "collapsed": true
   },
   "outputs": [],
   "source": []
  },
  {
   "cell_type": "code",
   "execution_count": 3,
   "metadata": {
    "collapsed": false,
    "deletable": true,
    "editable": true
   },
   "outputs": [],
   "source": [
    "from os import listdir\n",
    "from json import loads\n",
    "import pandas as pd\n",
    "from pandas import read_csv"
   ]
  },
  {
   "cell_type": "code",
   "execution_count": 4,
   "metadata": {
    "collapsed": false,
    "deletable": true,
    "editable": true
   },
   "outputs": [
    {
     "data": {
      "text/html": [
       "<div>\n",
       "<table border=\"1\" class=\"dataframe\">\n",
       "  <thead>\n",
       "    <tr style=\"text-align: right;\">\n",
       "      <th></th>\n",
       "      <th>id</th>\n",
       "      <th>created_at</th>\n",
       "      <th>screen_name</th>\n",
       "      <th>mention</th>\n",
       "    </tr>\n",
       "  </thead>\n",
       "  <tbody>\n",
       "    <tr>\n",
       "      <th>0</th>\n",
       "      <td>848395569160704000</td>\n",
       "      <td>Sun Apr 02 04:44:00 +0000 2017</td>\n",
       "      <td>tracieeeeee</td>\n",
       "      <td>catiecate7</td>\n",
       "    </tr>\n",
       "    <tr>\n",
       "      <th>1</th>\n",
       "      <td>848395569160704000</td>\n",
       "      <td>Sun Apr 02 04:44:00 +0000 2017</td>\n",
       "      <td>tracieeeeee</td>\n",
       "      <td>SheriffClarke</td>\n",
       "    </tr>\n",
       "    <tr>\n",
       "      <th>2</th>\n",
       "      <td>848662888755736578</td>\n",
       "      <td>Sun Apr 02 22:26:14 +0000 2017</td>\n",
       "      <td>latmadays</td>\n",
       "      <td>Cernovich</td>\n",
       "    </tr>\n",
       "    <tr>\n",
       "      <th>3</th>\n",
       "      <td>848664135923621893</td>\n",
       "      <td>Sun Apr 02 22:31:12 +0000 2017</td>\n",
       "      <td>anthonycasey2</td>\n",
       "      <td>latmadays</td>\n",
       "    </tr>\n",
       "    <tr>\n",
       "      <th>4</th>\n",
       "      <td>848664135923621893</td>\n",
       "      <td>Sun Apr 02 22:31:12 +0000 2017</td>\n",
       "      <td>anthonycasey2</td>\n",
       "      <td>Cernovich</td>\n",
       "    </tr>\n",
       "  </tbody>\n",
       "</table>\n",
       "</div>"
      ],
      "text/plain": [
       "                   id                      created_at    screen_name  \\\n",
       "0  848395569160704000  Sun Apr 02 04:44:00 +0000 2017    tracieeeeee   \n",
       "1  848395569160704000  Sun Apr 02 04:44:00 +0000 2017    tracieeeeee   \n",
       "2  848662888755736578  Sun Apr 02 22:26:14 +0000 2017      latmadays   \n",
       "3  848664135923621893  Sun Apr 02 22:31:12 +0000 2017  anthonycasey2   \n",
       "4  848664135923621893  Sun Apr 02 22:31:12 +0000 2017  anthonycasey2   \n",
       "\n",
       "         mention  \n",
       "0     catiecate7  \n",
       "1  SheriffClarke  \n",
       "2      Cernovich  \n",
       "3      latmadays  \n",
       "4      Cernovich  "
      ]
     },
     "execution_count": 4,
     "metadata": {},
     "output_type": "execute_result"
    }
   ],
   "source": [
    "#\"mentions\" csv\n",
    "\n",
    "df = pd.read_csv(\"fake-news-tweets-json/mentions.csv\")\n",
    "df.head()"
   ]
  },
  {
   "cell_type": "code",
   "execution_count": 5,
   "metadata": {
    "collapsed": false,
    "deletable": true,
    "editable": true,
    "scrolled": true
   },
   "outputs": [
    {
     "data": {
      "text/plain": [
       "Cernovich          51175\n",
       "RealJamesWoods     17881\n",
       "realDonaldTrump    16595\n",
       "CNN                16001\n",
       "dbongino           11876\n",
       "DJTJohnMiller      11422\n",
       "StockMonsterUSA    10977\n",
       "JackPosobiec       10716\n",
       "Pamela_Moore13     10360\n",
       "PrisonPlanet       10273\n",
       "bfraser747         10157\n",
       "ABC                 9529\n",
       "POTUS               9525\n",
       "DonaldJTrumpJr      9125\n",
       "AmbassadorRice      9113\n",
       "DBloom451           8140\n",
       "carrieksada         8037\n",
       "Rockprincess818     7369\n",
       "JessieJaneDuff      7247\n",
       "RealVinnieJames     6582\n",
       "Stevenwhirsch99     6236\n",
       "WeSupport45         6185\n",
       "POTUS44             6114\n",
       "LeahR77             6097\n",
       "nia4_trump          6007\n",
       "peddoc63            5699\n",
       "nytimes             5541\n",
       "asamjulian          5408\n",
       "JoshNoneYaBiz       5398\n",
       "FoxNews             5136\n",
       "                   ...  \n",
       "WISH_TV                1\n",
       "DailymotionUSA         1\n",
       "BethlehamStar          1\n",
       "MAGAmatt84             1\n",
       "drmom47                1\n",
       "ronnieressler          1\n",
       "AplusNDY               1\n",
       "Poppabuzzy             1\n",
       "walidshoebat           1\n",
       "jljacobson             1\n",
       "Jollarn                1\n",
       "BigLee84               1\n",
       "MsHum1970              1\n",
       "heinrichhoffma9        1\n",
       "hrm_1973               1\n",
       "liquid4revolver        1\n",
       "MbdsBrasil             1\n",
       "SaulusSedai            1\n",
       "gjb0318                1\n",
       "Sheilabgood            1\n",
       "EstulinDaniel          1\n",
       "DRayRaven              1\n",
       "homemadeguitars        1\n",
       "hm_mckay               1\n",
       "AgentYankie            1\n",
       "Rimer_Chris            1\n",
       "aliasvaughn            1\n",
       "mrtjlutz               1\n",
       "BARTLETTED             1\n",
       "Unekone2gChris         1\n",
       "Name: mention, dtype: int64"
      ]
     },
     "execution_count": 5,
     "metadata": {},
     "output_type": "execute_result"
    }
   ],
   "source": [
    "#our \"influencers\"\n",
    "\n",
    "df[\"mention\"].value_counts()"
   ]
  },
  {
   "cell_type": "code",
   "execution_count": 6,
   "metadata": {
    "collapsed": false,
    "deletable": true,
    "editable": true
   },
   "outputs": [
    {
     "data": {
      "text/plain": [
       "count        933184\n",
       "unique        21536\n",
       "top       Cernovich\n",
       "freq          51175\n",
       "Name: mention, dtype: object"
      ]
     },
     "execution_count": 6,
     "metadata": {},
     "output_type": "execute_result"
    }
   ],
   "source": [
    "#find the total number of mentions, as well as the number of unique mentions\n",
    "\n",
    "df[\"mention\"].describe()"
   ]
  },
  {
   "cell_type": "code",
   "execution_count": 7,
   "metadata": {
    "collapsed": true,
    "deletable": true,
    "editable": true
   },
   "outputs": [],
   "source": [
    "#timeline: when do people start getting mentioned\n",
    "\n",
    "from pandas import to_datetime, TimeGrouper, set_option\n",
    "set_option(\"display.max_rows\",100)\n",
    "set_option(\"display.max_colwidth\",140)"
   ]
  },
  {
   "cell_type": "code",
   "execution_count": 8,
   "metadata": {
    "collapsed": false,
    "deletable": true,
    "editable": true
   },
   "outputs": [
    {
     "data": {
      "text/html": [
       "<div>\n",
       "<table border=\"1\" class=\"dataframe\">\n",
       "  <thead>\n",
       "    <tr style=\"text-align: right;\">\n",
       "      <th></th>\n",
       "      <th>id</th>\n",
       "      <th>created_at</th>\n",
       "      <th>screen_name</th>\n",
       "      <th>mention</th>\n",
       "    </tr>\n",
       "    <tr>\n",
       "      <th>stamp</th>\n",
       "      <th></th>\n",
       "      <th></th>\n",
       "      <th></th>\n",
       "      <th></th>\n",
       "    </tr>\n",
       "  </thead>\n",
       "  <tbody>\n",
       "    <tr>\n",
       "      <th>2017-04-02 04:44:00</th>\n",
       "      <td>848395569160704000</td>\n",
       "      <td>Sun Apr 02 04:44:00 +0000 2017</td>\n",
       "      <td>tracieeeeee</td>\n",
       "      <td>catiecate7</td>\n",
       "    </tr>\n",
       "    <tr>\n",
       "      <th>2017-04-02 04:44:00</th>\n",
       "      <td>848395569160704000</td>\n",
       "      <td>Sun Apr 02 04:44:00 +0000 2017</td>\n",
       "      <td>tracieeeeee</td>\n",
       "      <td>SheriffClarke</td>\n",
       "    </tr>\n",
       "    <tr>\n",
       "      <th>2017-04-02 22:26:14</th>\n",
       "      <td>848662888755736578</td>\n",
       "      <td>Sun Apr 02 22:26:14 +0000 2017</td>\n",
       "      <td>latmadays</td>\n",
       "      <td>Cernovich</td>\n",
       "    </tr>\n",
       "    <tr>\n",
       "      <th>2017-04-02 22:31:12</th>\n",
       "      <td>848664135923621893</td>\n",
       "      <td>Sun Apr 02 22:31:12 +0000 2017</td>\n",
       "      <td>anthonycasey2</td>\n",
       "      <td>latmadays</td>\n",
       "    </tr>\n",
       "    <tr>\n",
       "      <th>2017-04-02 22:31:12</th>\n",
       "      <td>848664135923621893</td>\n",
       "      <td>Sun Apr 02 22:31:12 +0000 2017</td>\n",
       "      <td>anthonycasey2</td>\n",
       "      <td>Cernovich</td>\n",
       "    </tr>\n",
       "  </tbody>\n",
       "</table>\n",
       "</div>"
      ],
      "text/plain": [
       "                                     id                      created_at  \\\n",
       "stamp                                                                     \n",
       "2017-04-02 04:44:00  848395569160704000  Sun Apr 02 04:44:00 +0000 2017   \n",
       "2017-04-02 04:44:00  848395569160704000  Sun Apr 02 04:44:00 +0000 2017   \n",
       "2017-04-02 22:26:14  848662888755736578  Sun Apr 02 22:26:14 +0000 2017   \n",
       "2017-04-02 22:31:12  848664135923621893  Sun Apr 02 22:31:12 +0000 2017   \n",
       "2017-04-02 22:31:12  848664135923621893  Sun Apr 02 22:31:12 +0000 2017   \n",
       "\n",
       "                       screen_name        mention  \n",
       "stamp                                              \n",
       "2017-04-02 04:44:00    tracieeeeee     catiecate7  \n",
       "2017-04-02 04:44:00    tracieeeeee  SheriffClarke  \n",
       "2017-04-02 22:26:14      latmadays      Cernovich  \n",
       "2017-04-02 22:31:12  anthonycasey2      latmadays  \n",
       "2017-04-02 22:31:12  anthonycasey2      Cernovich  "
      ]
     },
     "execution_count": 8,
     "metadata": {},
     "output_type": "execute_result"
    }
   ],
   "source": [
    "df[\"stamp\"] = to_datetime(df[\"created_at\"],format='%a %b %d %H:%M:%S +0000 %Y')\n",
    "\n",
    "df.set_index(\"stamp\",inplace=True)\n",
    "df.head()"
   ]
  },
  {
   "cell_type": "code",
   "execution_count": 9,
   "metadata": {
    "collapsed": false,
    "deletable": true,
    "editable": true
   },
   "outputs": [
    {
     "data": {
      "text/html": [
       "<div>\n",
       "<table border=\"1\" class=\"dataframe\">\n",
       "  <thead>\n",
       "    <tr style=\"text-align: right;\">\n",
       "      <th></th>\n",
       "      <th>id</th>\n",
       "      <th>created_at</th>\n",
       "      <th>screen_name</th>\n",
       "      <th>mention</th>\n",
       "    </tr>\n",
       "    <tr>\n",
       "      <th>stamp</th>\n",
       "      <th></th>\n",
       "      <th></th>\n",
       "      <th></th>\n",
       "      <th></th>\n",
       "    </tr>\n",
       "  </thead>\n",
       "  <tbody>\n",
       "    <tr>\n",
       "      <th>2017-04-02 22:26:14</th>\n",
       "      <td>848662888755736578</td>\n",
       "      <td>Sun Apr 02 22:26:14 +0000 2017</td>\n",
       "      <td>latmadays</td>\n",
       "      <td>Cernovich</td>\n",
       "    </tr>\n",
       "    <tr>\n",
       "      <th>2017-04-02 22:31:12</th>\n",
       "      <td>848664135923621893</td>\n",
       "      <td>Sun Apr 02 22:31:12 +0000 2017</td>\n",
       "      <td>anthonycasey2</td>\n",
       "      <td>Cernovich</td>\n",
       "    </tr>\n",
       "    <tr>\n",
       "      <th>2017-04-02 22:46:50</th>\n",
       "      <td>848668072684773377</td>\n",
       "      <td>Sun Apr 02 22:46:50 +0000 2017</td>\n",
       "      <td>TruthCape</td>\n",
       "      <td>Cernovich</td>\n",
       "    </tr>\n",
       "    <tr>\n",
       "      <th>2017-04-02 22:47:59</th>\n",
       "      <td>848668362758660096</td>\n",
       "      <td>Sun Apr 02 22:47:59 +0000 2017</td>\n",
       "      <td>Bandini199</td>\n",
       "      <td>Cernovich</td>\n",
       "    </tr>\n",
       "    <tr>\n",
       "      <th>2017-04-02 22:54:21</th>\n",
       "      <td>848669964362010625</td>\n",
       "      <td>Sun Apr 02 22:54:21 +0000 2017</td>\n",
       "      <td>debgagahiggan</td>\n",
       "      <td>Cernovich</td>\n",
       "    </tr>\n",
       "  </tbody>\n",
       "</table>\n",
       "</div>"
      ],
      "text/plain": [
       "                                     id                      created_at  \\\n",
       "stamp                                                                     \n",
       "2017-04-02 22:26:14  848662888755736578  Sun Apr 02 22:26:14 +0000 2017   \n",
       "2017-04-02 22:31:12  848664135923621893  Sun Apr 02 22:31:12 +0000 2017   \n",
       "2017-04-02 22:46:50  848668072684773377  Sun Apr 02 22:46:50 +0000 2017   \n",
       "2017-04-02 22:47:59  848668362758660096  Sun Apr 02 22:47:59 +0000 2017   \n",
       "2017-04-02 22:54:21  848669964362010625  Sun Apr 02 22:54:21 +0000 2017   \n",
       "\n",
       "                       screen_name    mention  \n",
       "stamp                                          \n",
       "2017-04-02 22:26:14      latmadays  Cernovich  \n",
       "2017-04-02 22:31:12  anthonycasey2  Cernovich  \n",
       "2017-04-02 22:46:50      TruthCape  Cernovich  \n",
       "2017-04-02 22:47:59     Bandini199  Cernovich  \n",
       "2017-04-02 22:54:21  debgagahiggan  Cernovich  "
      ]
     },
     "execution_count": 9,
     "metadata": {},
     "output_type": "execute_result"
    }
   ],
   "source": [
    "#let's look at Cernovich\n",
    "\n",
    "df_Cernovich = df[df[\"mention\"]==\"Cernovich\"]\n",
    "df_Cernovich.head()"
   ]
  },
  {
   "cell_type": "code",
   "execution_count": 10,
   "metadata": {
    "collapsed": false,
    "deletable": true,
    "editable": true
   },
   "outputs": [
    {
     "data": {
      "text/html": [
       "<div>\n",
       "<table border=\"1\" class=\"dataframe\">\n",
       "  <thead>\n",
       "    <tr style=\"text-align: right;\">\n",
       "      <th></th>\n",
       "      <th>counts</th>\n",
       "    </tr>\n",
       "    <tr>\n",
       "      <th>stamp</th>\n",
       "      <th></th>\n",
       "    </tr>\n",
       "  </thead>\n",
       "  <tbody>\n",
       "    <tr>\n",
       "      <th>2017-04-02 22:00:00</th>\n",
       "      <td>1</td>\n",
       "    </tr>\n",
       "    <tr>\n",
       "      <th>2017-04-02 22:30:00</th>\n",
       "      <td>4</td>\n",
       "    </tr>\n",
       "    <tr>\n",
       "      <th>2017-04-02 23:00:00</th>\n",
       "      <td>5</td>\n",
       "    </tr>\n",
       "    <tr>\n",
       "      <th>2017-04-02 23:30:00</th>\n",
       "      <td>11</td>\n",
       "    </tr>\n",
       "    <tr>\n",
       "      <th>2017-04-03 00:00:00</th>\n",
       "      <td>22</td>\n",
       "    </tr>\n",
       "  </tbody>\n",
       "</table>\n",
       "</div>"
      ],
      "text/plain": [
       "                     counts\n",
       "stamp                      \n",
       "2017-04-02 22:00:00       1\n",
       "2017-04-02 22:30:00       4\n",
       "2017-04-02 23:00:00       5\n",
       "2017-04-02 23:30:00      11\n",
       "2017-04-03 00:00:00      22"
      ]
     },
     "execution_count": 10,
     "metadata": {},
     "output_type": "execute_result"
    }
   ],
   "source": [
    "Cv_counts = df_Cernovich.groupby(TimeGrouper(freq='30min')).agg({\"id\":{\"counts\":\"count\"}})\n",
    "Cv_counts.columns = Cv_counts.columns.droplevel()\n",
    "\n",
    "Cv_counts.head()"
   ]
  },
  {
   "cell_type": "code",
   "execution_count": 11,
   "metadata": {
    "collapsed": false,
    "deletable": true,
    "editable": true
   },
   "outputs": [
    {
     "data": {
      "text/plain": [
       "counts    2249\n",
       "dtype: int64"
      ]
     },
     "execution_count": 11,
     "metadata": {},
     "output_type": "execute_result"
    }
   ],
   "source": [
    "Cv_counts.max()"
   ]
  },
  {
   "cell_type": "code",
   "execution_count": 12,
   "metadata": {
    "collapsed": true,
    "deletable": true,
    "editable": true
   },
   "outputs": [],
   "source": [
    "#so it looks like Cernovich peaks at 'counts == 2249' at 2017-04-09 22:00:00 "
   ]
  },
  {
   "cell_type": "code",
   "execution_count": 116,
   "metadata": {
    "collapsed": false,
    "deletable": true,
    "editable": true
   },
   "outputs": [
    {
     "data": {
      "text/plain": [
       "<matplotlib.axes._subplots.AxesSubplot at 0x122f727d0>"
      ]
     },
     "execution_count": 116,
     "metadata": {},
     "output_type": "execute_result"
    },
    {
     "data": {
      "image/png": "[encoded data removed]",
      "text/plain": [
       "<matplotlib.figure.Figure at 0x1215f3b50>"
      ]
     },
     "metadata": {},
     "output_type": "display_data"
    }
   ],
   "source": [
    "import matplotlib\n",
    "%matplotlib inline\n",
    "\n",
    "Cv_counts.plot(kind=\"line\")"
   ]
  },
  {
   "cell_type": "code",
   "execution_count": 14,
   "metadata": {
    "collapsed": false,
    "deletable": true,
    "editable": true,
    "scrolled": true
   },
   "outputs": [
    {
     "data": {
      "text/html": [
       "<div>\n",
       "<table border=\"1\" class=\"dataframe\">\n",
       "  <thead>\n",
       "    <tr style=\"text-align: right;\">\n",
       "      <th></th>\n",
       "      <th>id</th>\n",
       "      <th>text</th>\n",
       "      <th>created_at</th>\n",
       "      <th>retweeted</th>\n",
       "      <th>in_reply_to_screen_name</th>\n",
       "      <th>in_reply_to_status_id</th>\n",
       "      <th>source</th>\n",
       "      <th>retweet_count</th>\n",
       "      <th>screen_name</th>\n",
       "      <th>followers_count</th>\n",
       "      <th>friends_count</th>\n",
       "    </tr>\n",
       "  </thead>\n",
       "  <tbody>\n",
       "    <tr>\n",
       "      <th>0</th>\n",
       "      <td>848370744706740224</td>\n",
       "      <td>#JackieSpeier We're positive #DevinNunes was contacted by a #Whistleblower and that #AdamSchiff tells lies on TV like #SusanRice</td>\n",
       "      <td>Sun Apr 02 03:05:22 +0000 2017</td>\n",
       "      <td>False</td>\n",
       "      <td>NaN</td>\n",
       "      <td>NaN</td>\n",
       "      <td>&lt;a href=\"http://twitter.com\" rel=\"nofollow\"&gt;Twitter Web Client&lt;/a&gt;</td>\n",
       "      <td>72</td>\n",
       "      <td>kgarrison</td>\n",
       "      <td>7153</td>\n",
       "      <td>5830</td>\n",
       "    </tr>\n",
       "    <tr>\n",
       "      <th>1</th>\n",
       "      <td>848395569160704000</td>\n",
       "      <td>@catiecate7 @SheriffClarke Oh I believe we will just like with #CrookedHillary, #ValerieJarret, #SusanRice #NancyPelosi, and many more</td>\n",
       "      <td>Sun Apr 02 04:44:00 +0000 2017</td>\n",
       "      <td>False</td>\n",
       "      <td>catiecate7</td>\n",
       "      <td>8.483947e+17</td>\n",
       "      <td>&lt;a href=\"http://twitter.com/download/iphone\" rel=\"nofollow\"&gt;Twitter for iPhone&lt;/a&gt;</td>\n",
       "      <td>34</td>\n",
       "      <td>tracieeeeee</td>\n",
       "      <td>63837</td>\n",
       "      <td>59993</td>\n",
       "    </tr>\n",
       "    <tr>\n",
       "      <th>2</th>\n",
       "      <td>848662888755736578</td>\n",
       "      <td>@Cernovich If so, 2 times the #fallgirl. #SusanRice</td>\n",
       "      <td>Sun Apr 02 22:26:14 +0000 2017</td>\n",
       "      <td>False</td>\n",
       "      <td>Cernovich</td>\n",
       "      <td>8.486621e+17</td>\n",
       "      <td>&lt;a href=\"http://twitter.com/download/iphone\" rel=\"nofollow\"&gt;Twitter for iPhone&lt;/a&gt;</td>\n",
       "      <td>58</td>\n",
       "      <td>latmadays</td>\n",
       "      <td>1968</td>\n",
       "      <td>2664</td>\n",
       "    </tr>\n",
       "    <tr>\n",
       "      <th>3</th>\n",
       "      <td>848664135923621893</td>\n",
       "      <td>RT @latmadays: @Cernovich If so, 2 times the #fallgirl. #SusanRice</td>\n",
       "      <td>Sun Apr 02 22:31:12 +0000 2017</td>\n",
       "      <td>False</td>\n",
       "      <td>NaN</td>\n",
       "      <td>NaN</td>\n",
       "      <td>&lt;a href=\"http://twitter.com/download/iphone\" rel=\"nofollow\"&gt;Twitter for iPhone&lt;/a&gt;</td>\n",
       "      <td>58</td>\n",
       "      <td>anthonycasey2</td>\n",
       "      <td>2562</td>\n",
       "      <td>3026</td>\n",
       "    </tr>\n",
       "    <tr>\n",
       "      <th>4</th>\n",
       "      <td>848665319539261442</td>\n",
       "      <td>More like it: someone has named a SPECIFIC name. #SusanRice https://t.co/REZGF10NAC</td>\n",
       "      <td>Sun Apr 02 22:35:54 +0000 2017</td>\n",
       "      <td>False</td>\n",
       "      <td>NaN</td>\n",
       "      <td>NaN</td>\n",
       "      <td>&lt;a href=\"http://twitter.com/download/android\" rel=\"nofollow\"&gt;Twitter for Android&lt;/a&gt;</td>\n",
       "      <td>82</td>\n",
       "      <td>PlaynCharacter</td>\n",
       "      <td>1121</td>\n",
       "      <td>1087</td>\n",
       "    </tr>\n",
       "  </tbody>\n",
       "</table>\n",
       "</div>"
      ],
      "text/plain": [
       "                   id  \\\n",
       "0  848370744706740224   \n",
       "1  848395569160704000   \n",
       "2  848662888755736578   \n",
       "3  848664135923621893   \n",
       "4  848665319539261442   \n",
       "\n",
       "                                                                                                                                     text  \\\n",
       "0        #JackieSpeier We're positive #DevinNunes was contacted by a #Whistleblower and that #AdamSchiff tells lies on TV like #SusanRice   \n",
       "1  @catiecate7 @SheriffClarke Oh I believe we will just like with #CrookedHillary, #ValerieJarret, #SusanRice #NancyPelosi, and many more   \n",
       "2                                                                                     @Cernovich If so, 2 times the #fallgirl. #SusanRice   \n",
       "3                                                                      RT @latmadays: @Cernovich If so, 2 times the #fallgirl. #SusanRice   \n",
       "4                                                     More like it: someone has named a SPECIFIC name. #SusanRice https://t.co/REZGF10NAC   \n",
       "\n",
       "                       created_at retweeted in_reply_to_screen_name  \\\n",
       "0  Sun Apr 02 03:05:22 +0000 2017     False                     NaN   \n",
       "1  Sun Apr 02 04:44:00 +0000 2017     False              catiecate7   \n",
       "2  Sun Apr 02 22:26:14 +0000 2017     False               Cernovich   \n",
       "3  Sun Apr 02 22:31:12 +0000 2017     False                     NaN   \n",
       "4  Sun Apr 02 22:35:54 +0000 2017     False                     NaN   \n",
       "\n",
       "   in_reply_to_status_id  \\\n",
       "0                    NaN   \n",
       "1           8.483947e+17   \n",
       "2           8.486621e+17   \n",
       "3                    NaN   \n",
       "4                    NaN   \n",
       "\n",
       "                                                                                 source  \\\n",
       "0                    <a href=\"http://twitter.com\" rel=\"nofollow\">Twitter Web Client</a>   \n",
       "1    <a href=\"http://twitter.com/download/iphone\" rel=\"nofollow\">Twitter for iPhone</a>   \n",
       "2    <a href=\"http://twitter.com/download/iphone\" rel=\"nofollow\">Twitter for iPhone</a>   \n",
       "3    <a href=\"http://twitter.com/download/iphone\" rel=\"nofollow\">Twitter for iPhone</a>   \n",
       "4  <a href=\"http://twitter.com/download/android\" rel=\"nofollow\">Twitter for Android</a>   \n",
       "\n",
       "   retweet_count     screen_name  followers_count  friends_count  \n",
       "0             72       kgarrison             7153           5830  \n",
       "1             34     tracieeeeee            63837          59993  \n",
       "2             58       latmadays             1968           2664  \n",
       "3             58   anthonycasey2             2562           3026  \n",
       "4             82  PlaynCharacter             1121           1087  "
      ]
     },
     "execution_count": 14,
     "metadata": {},
     "output_type": "execute_result"
    }
   ],
   "source": [
    "#How does Cernovich's rise and fall compare to all tweets?\n",
    "\n",
    "df_tweets = pd.read_csv(\"fake-news-tweets-json/tweets.csv\")\n",
    "df_tweets.head()"
   ]
  },
  {
   "cell_type": "code",
   "execution_count": 15,
   "metadata": {
    "collapsed": true,
    "deletable": true,
    "editable": true
   },
   "outputs": [],
   "source": [
    "from pandas import to_datetime, TimeGrouper, set_option"
   ]
  },
  {
   "cell_type": "code",
   "execution_count": 16,
   "metadata": {
    "collapsed": false,
    "deletable": true,
    "editable": true,
    "scrolled": true
   },
   "outputs": [
    {
     "data": {
      "text/html": [
       "<div>\n",
       "<table border=\"1\" class=\"dataframe\">\n",
       "  <thead>\n",
       "    <tr style=\"text-align: right;\">\n",
       "      <th></th>\n",
       "      <th>id</th>\n",
       "      <th>text</th>\n",
       "      <th>created_at</th>\n",
       "      <th>retweeted</th>\n",
       "      <th>in_reply_to_screen_name</th>\n",
       "      <th>in_reply_to_status_id</th>\n",
       "      <th>source</th>\n",
       "      <th>retweet_count</th>\n",
       "      <th>screen_name</th>\n",
       "      <th>followers_count</th>\n",
       "      <th>friends_count</th>\n",
       "    </tr>\n",
       "    <tr>\n",
       "      <th>stamp</th>\n",
       "      <th></th>\n",
       "      <th></th>\n",
       "      <th></th>\n",
       "      <th></th>\n",
       "      <th></th>\n",
       "      <th></th>\n",
       "      <th></th>\n",
       "      <th></th>\n",
       "      <th></th>\n",
       "      <th></th>\n",
       "      <th></th>\n",
       "    </tr>\n",
       "  </thead>\n",
       "  <tbody>\n",
       "    <tr>\n",
       "      <th>2017-04-02 03:05:22</th>\n",
       "      <td>848370744706740224</td>\n",
       "      <td>#JackieSpeier We're positive #DevinNunes was contacted by a #Whistleblower and that #AdamSchiff tells lies on TV like #SusanRice</td>\n",
       "      <td>Sun Apr 02 03:05:22 +0000 2017</td>\n",
       "      <td>False</td>\n",
       "      <td>NaN</td>\n",
       "      <td>NaN</td>\n",
       "      <td>&lt;a href=\"http://twitter.com\" rel=\"nofollow\"&gt;Twitter Web Client&lt;/a&gt;</td>\n",
       "      <td>72</td>\n",
       "      <td>kgarrison</td>\n",
       "      <td>7153</td>\n",
       "      <td>5830</td>\n",
       "    </tr>\n",
       "    <tr>\n",
       "      <th>2017-04-02 04:44:00</th>\n",
       "      <td>848395569160704000</td>\n",
       "      <td>@catiecate7 @SheriffClarke Oh I believe we will just like with #CrookedHillary, #ValerieJarret, #SusanRice #NancyPelosi, and many more</td>\n",
       "      <td>Sun Apr 02 04:44:00 +0000 2017</td>\n",
       "      <td>False</td>\n",
       "      <td>catiecate7</td>\n",
       "      <td>8.483947e+17</td>\n",
       "      <td>&lt;a href=\"http://twitter.com/download/iphone\" rel=\"nofollow\"&gt;Twitter for iPhone&lt;/a&gt;</td>\n",
       "      <td>34</td>\n",
       "      <td>tracieeeeee</td>\n",
       "      <td>63837</td>\n",
       "      <td>59993</td>\n",
       "    </tr>\n",
       "    <tr>\n",
       "      <th>2017-04-02 22:26:14</th>\n",
       "      <td>848662888755736578</td>\n",
       "      <td>@Cernovich If so, 2 times the #fallgirl. #SusanRice</td>\n",
       "      <td>Sun Apr 02 22:26:14 +0000 2017</td>\n",
       "      <td>False</td>\n",
       "      <td>Cernovich</td>\n",
       "      <td>8.486621e+17</td>\n",
       "      <td>&lt;a href=\"http://twitter.com/download/iphone\" rel=\"nofollow\"&gt;Twitter for iPhone&lt;/a&gt;</td>\n",
       "      <td>58</td>\n",
       "      <td>latmadays</td>\n",
       "      <td>1968</td>\n",
       "      <td>2664</td>\n",
       "    </tr>\n",
       "    <tr>\n",
       "      <th>2017-04-02 22:31:12</th>\n",
       "      <td>848664135923621893</td>\n",
       "      <td>RT @latmadays: @Cernovich If so, 2 times the #fallgirl. #SusanRice</td>\n",
       "      <td>Sun Apr 02 22:31:12 +0000 2017</td>\n",
       "      <td>False</td>\n",
       "      <td>NaN</td>\n",
       "      <td>NaN</td>\n",
       "      <td>&lt;a href=\"http://twitter.com/download/iphone\" rel=\"nofollow\"&gt;Twitter for iPhone&lt;/a&gt;</td>\n",
       "      <td>58</td>\n",
       "      <td>anthonycasey2</td>\n",
       "      <td>2562</td>\n",
       "      <td>3026</td>\n",
       "    </tr>\n",
       "    <tr>\n",
       "      <th>2017-04-02 22:35:54</th>\n",
       "      <td>848665319539261442</td>\n",
       "      <td>More like it: someone has named a SPECIFIC name. #SusanRice https://t.co/REZGF10NAC</td>\n",
       "      <td>Sun Apr 02 22:35:54 +0000 2017</td>\n",
       "      <td>False</td>\n",
       "      <td>NaN</td>\n",
       "      <td>NaN</td>\n",
       "      <td>&lt;a href=\"http://twitter.com/download/android\" rel=\"nofollow\"&gt;Twitter for Android&lt;/a&gt;</td>\n",
       "      <td>82</td>\n",
       "      <td>PlaynCharacter</td>\n",
       "      <td>1121</td>\n",
       "      <td>1087</td>\n",
       "    </tr>\n",
       "  </tbody>\n",
       "</table>\n",
       "</div>"
      ],
      "text/plain": [
       "                                     id  \\\n",
       "stamp                                     \n",
       "2017-04-02 03:05:22  848370744706740224   \n",
       "2017-04-02 04:44:00  848395569160704000   \n",
       "2017-04-02 22:26:14  848662888755736578   \n",
       "2017-04-02 22:31:12  848664135923621893   \n",
       "2017-04-02 22:35:54  848665319539261442   \n",
       "\n",
       "                                                                                                                                                       text  \\\n",
       "stamp                                                                                                                                                         \n",
       "2017-04-02 03:05:22        #JackieSpeier We're positive #DevinNunes was contacted by a #Whistleblower and that #AdamSchiff tells lies on TV like #SusanRice   \n",
       "2017-04-02 04:44:00  @catiecate7 @SheriffClarke Oh I believe we will just like with #CrookedHillary, #ValerieJarret, #SusanRice #NancyPelosi, and many more   \n",
       "2017-04-02 22:26:14                                                                                     @Cernovich If so, 2 times the #fallgirl. #SusanRice   \n",
       "2017-04-02 22:31:12                                                                      RT @latmadays: @Cernovich If so, 2 times the #fallgirl. #SusanRice   \n",
       "2017-04-02 22:35:54                                                     More like it: someone has named a SPECIFIC name. #SusanRice https://t.co/REZGF10NAC   \n",
       "\n",
       "                                         created_at retweeted  \\\n",
       "stamp                                                           \n",
       "2017-04-02 03:05:22  Sun Apr 02 03:05:22 +0000 2017     False   \n",
       "2017-04-02 04:44:00  Sun Apr 02 04:44:00 +0000 2017     False   \n",
       "2017-04-02 22:26:14  Sun Apr 02 22:26:14 +0000 2017     False   \n",
       "2017-04-02 22:31:12  Sun Apr 02 22:31:12 +0000 2017     False   \n",
       "2017-04-02 22:35:54  Sun Apr 02 22:35:54 +0000 2017     False   \n",
       "\n",
       "                    in_reply_to_screen_name  in_reply_to_status_id  \\\n",
       "stamp                                                                \n",
       "2017-04-02 03:05:22                     NaN                    NaN   \n",
       "2017-04-02 04:44:00              catiecate7           8.483947e+17   \n",
       "2017-04-02 22:26:14               Cernovich           8.486621e+17   \n",
       "2017-04-02 22:31:12                     NaN                    NaN   \n",
       "2017-04-02 22:35:54                     NaN                    NaN   \n",
       "\n",
       "                                                                                                   source  \\\n",
       "stamp                                                                                                       \n",
       "2017-04-02 03:05:22                    <a href=\"http://twitter.com\" rel=\"nofollow\">Twitter Web Client</a>   \n",
       "2017-04-02 04:44:00    <a href=\"http://twitter.com/download/iphone\" rel=\"nofollow\">Twitter for iPhone</a>   \n",
       "2017-04-02 22:26:14    <a href=\"http://twitter.com/download/iphone\" rel=\"nofollow\">Twitter for iPhone</a>   \n",
       "2017-04-02 22:31:12    <a href=\"http://twitter.com/download/iphone\" rel=\"nofollow\">Twitter for iPhone</a>   \n",
       "2017-04-02 22:35:54  <a href=\"http://twitter.com/download/android\" rel=\"nofollow\">Twitter for Android</a>   \n",
       "\n",
       "                     retweet_count     screen_name  followers_count  \\\n",
       "stamp                                                                 \n",
       "2017-04-02 03:05:22             72       kgarrison             7153   \n",
       "2017-04-02 04:44:00             34     tracieeeeee            63837   \n",
       "2017-04-02 22:26:14             58       latmadays             1968   \n",
       "2017-04-02 22:31:12             58   anthonycasey2             2562   \n",
       "2017-04-02 22:35:54             82  PlaynCharacter             1121   \n",
       "\n",
       "                     friends_count  \n",
       "stamp                               \n",
       "2017-04-02 03:05:22           5830  \n",
       "2017-04-02 04:44:00          59993  \n",
       "2017-04-02 22:26:14           2664  \n",
       "2017-04-02 22:31:12           3026  \n",
       "2017-04-02 22:35:54           1087  "
      ]
     },
     "execution_count": 16,
     "metadata": {},
     "output_type": "execute_result"
    }
   ],
   "source": [
    "df_tweets[\"stamp\"] = to_datetime(df_tweets[\"created_at\"],format='%a %b %d %H:%M:%S +0000 %Y')\n",
    "\n",
    "df_tweets.set_index(\"stamp\",inplace=True)\n",
    "df_tweets.head()"
   ]
  },
  {
   "cell_type": "code",
   "execution_count": 17,
   "metadata": {
    "collapsed": false,
    "deletable": true,
    "editable": true
   },
   "outputs": [
    {
     "data": {
      "text/html": [
       "<div>\n",
       "<table border=\"1\" class=\"dataframe\">\n",
       "  <thead>\n",
       "    <tr style=\"text-align: right;\">\n",
       "      <th></th>\n",
       "      <th>counts</th>\n",
       "    </tr>\n",
       "    <tr>\n",
       "      <th>stamp</th>\n",
       "      <th></th>\n",
       "    </tr>\n",
       "  </thead>\n",
       "  <tbody>\n",
       "    <tr>\n",
       "      <th>2017-04-02 03:00:00</th>\n",
       "      <td>1</td>\n",
       "    </tr>\n",
       "    <tr>\n",
       "      <th>2017-04-02 03:30:00</th>\n",
       "      <td>0</td>\n",
       "    </tr>\n",
       "    <tr>\n",
       "      <th>2017-04-02 04:00:00</th>\n",
       "      <td>0</td>\n",
       "    </tr>\n",
       "    <tr>\n",
       "      <th>2017-04-02 04:30:00</th>\n",
       "      <td>1</td>\n",
       "    </tr>\n",
       "    <tr>\n",
       "      <th>2017-04-02 05:00:00</th>\n",
       "      <td>0</td>\n",
       "    </tr>\n",
       "  </tbody>\n",
       "</table>\n",
       "</div>"
      ],
      "text/plain": [
       "                     counts\n",
       "stamp                      \n",
       "2017-04-02 03:00:00       1\n",
       "2017-04-02 03:30:00       0\n",
       "2017-04-02 04:00:00       0\n",
       "2017-04-02 04:30:00       1\n",
       "2017-04-02 05:00:00       0"
      ]
     },
     "execution_count": 17,
     "metadata": {},
     "output_type": "execute_result"
    }
   ],
   "source": [
    "tweet_counts = df_tweets.groupby(TimeGrouper(freq='30min')).agg({\"id\":{\"counts\":\"count\"}})\n",
    "tweet_counts.columns = tweet_counts.columns.droplevel()\n",
    "\n",
    "\n",
    "tweet_counts.head()"
   ]
  },
  {
   "cell_type": "code",
   "execution_count": 18,
   "metadata": {
    "collapsed": false,
    "deletable": true,
    "editable": true
   },
   "outputs": [
    {
     "data": {
      "text/plain": [
       "<matplotlib.axes._subplots.AxesSubplot at 0x125d0dc50>"
      ]
     },
     "execution_count": 18,
     "metadata": {},
     "output_type": "execute_result"
    },
    {
     "data": {
      "image/png": "[encoded data removed]",
      "text/plain": [
       "<matplotlib.figure.Figure at 0x125cff410>"
      ]
     },
     "metadata": {},
     "output_type": "display_data"
    }
   ],
   "source": [
    "tweet_counts.plot(kind=\"line\")"
   ]
  },
  {
   "cell_type": "code",
   "execution_count": 19,
   "metadata": {
    "collapsed": false,
    "deletable": true,
    "editable": true
   },
   "outputs": [
    {
     "data": {
      "text/plain": [
       "<matplotlib.axes._subplots.AxesSubplot at 0x125cff1d0>"
      ]
     },
     "execution_count": 19,
     "metadata": {},
     "output_type": "execute_result"
    },
    {
     "data": {
      "image/png": "[encoded data removed]",
      "text/plain": [
       "<matplotlib.figure.Figure at 0x116d67cd0>"
      ]
     },
     "metadata": {},
     "output_type": "display_data"
    }
   ],
   "source": [
    "#plot them together\n",
    "\n",
    "ax = Cv_counts.plot(kind=\"line\", color = \"red\", xlim=(\"04-03-2017 00:00:00\", \"04-08-2017 00:00:00\"))\n",
    "tweet_counts.plot(ax=ax, kind=\"line\", xlim=(\"04-03-2017 00:00:00\", \"04-08-2017 00:00:00\"))"
   ]
  },
  {
   "cell_type": "code",
   "execution_count": 20,
   "metadata": {
    "collapsed": false,
    "deletable": true,
    "editable": true
   },
   "outputs": [
    {
     "data": {
      "text/plain": [
       "<matplotlib.axes._subplots.AxesSubplot at 0x1170bc110>"
      ]
     },
     "execution_count": 20,
     "metadata": {},
     "output_type": "execute_result"
    },
    {
     "data": {
      "image/png": "[encoded data removed]",
      "text/plain": [
       "<matplotlib.figure.Figure at 0x116d67b90>"
      ]
     },
     "metadata": {},
     "output_type": "display_data"
    }
   ],
   "source": [
    "#plot them together and zoom in a bit\n",
    "\n",
    "ax = Cv_counts.plot(kind=\"line\", color = \"red\", xlim=(\"04-03-2017 00:00:00\", \"04-08-2017 00:00:00\"))\n",
    "tweet_counts.plot(ax=ax, kind=\"line\", xlim=(\"04-03-2017 00:00:00\", \"04-08-2017 00:00:00\"))"
   ]
  },
  {
   "cell_type": "code",
   "execution_count": 21,
   "metadata": {
    "collapsed": true,
    "deletable": true,
    "editable": true
   },
   "outputs": [],
   "source": [
    "#ok, let's get some more people in here"
   ]
  },
  {
   "cell_type": "code",
   "execution_count": 22,
   "metadata": {
    "collapsed": false,
    "deletable": true,
    "editable": true
   },
   "outputs": [
    {
     "data": {
      "text/html": [
       "<div>\n",
       "<table border=\"1\" class=\"dataframe\">\n",
       "  <thead>\n",
       "    <tr style=\"text-align: right;\">\n",
       "      <th></th>\n",
       "      <th>id</th>\n",
       "      <th>created_at</th>\n",
       "      <th>screen_name</th>\n",
       "      <th>mention</th>\n",
       "    </tr>\n",
       "    <tr>\n",
       "      <th>stamp</th>\n",
       "      <th></th>\n",
       "      <th></th>\n",
       "      <th></th>\n",
       "      <th></th>\n",
       "    </tr>\n",
       "  </thead>\n",
       "  <tbody>\n",
       "    <tr>\n",
       "      <th>2017-04-02 23:45:52</th>\n",
       "      <td>848682928532066304</td>\n",
       "      <td>Sun Apr 02 23:45:52 +0000 2017</td>\n",
       "      <td>suziepn</td>\n",
       "      <td>RealJamesWoods</td>\n",
       "    </tr>\n",
       "    <tr>\n",
       "      <th>2017-04-03 00:05:59</th>\n",
       "      <td>848687990448717824</td>\n",
       "      <td>Mon Apr 03 00:05:59 +0000 2017</td>\n",
       "      <td>TheOldOuthouse</td>\n",
       "      <td>RealJamesWoods</td>\n",
       "    </tr>\n",
       "    <tr>\n",
       "      <th>2017-04-03 00:24:33</th>\n",
       "      <td>848692663260000256</td>\n",
       "      <td>Mon Apr 03 00:24:33 +0000 2017</td>\n",
       "      <td>francesme</td>\n",
       "      <td>RealJamesWoods</td>\n",
       "    </tr>\n",
       "    <tr>\n",
       "      <th>2017-04-03 00:24:51</th>\n",
       "      <td>848692736853233664</td>\n",
       "      <td>Mon Apr 03 00:24:51 +0000 2017</td>\n",
       "      <td>francesme</td>\n",
       "      <td>RealJamesWoods</td>\n",
       "    </tr>\n",
       "    <tr>\n",
       "      <th>2017-04-03 00:48:46</th>\n",
       "      <td>848698757558546434</td>\n",
       "      <td>Mon Apr 03 00:48:46 +0000 2017</td>\n",
       "      <td>mechanixtn</td>\n",
       "      <td>RealJamesWoods</td>\n",
       "    </tr>\n",
       "  </tbody>\n",
       "</table>\n",
       "</div>"
      ],
      "text/plain": [
       "                                     id                      created_at  \\\n",
       "stamp                                                                     \n",
       "2017-04-02 23:45:52  848682928532066304  Sun Apr 02 23:45:52 +0000 2017   \n",
       "2017-04-03 00:05:59  848687990448717824  Mon Apr 03 00:05:59 +0000 2017   \n",
       "2017-04-03 00:24:33  848692663260000256  Mon Apr 03 00:24:33 +0000 2017   \n",
       "2017-04-03 00:24:51  848692736853233664  Mon Apr 03 00:24:51 +0000 2017   \n",
       "2017-04-03 00:48:46  848698757558546434  Mon Apr 03 00:48:46 +0000 2017   \n",
       "\n",
       "                        screen_name         mention  \n",
       "stamp                                                \n",
       "2017-04-02 23:45:52         suziepn  RealJamesWoods  \n",
       "2017-04-03 00:05:59  TheOldOuthouse  RealJamesWoods  \n",
       "2017-04-03 00:24:33       francesme  RealJamesWoods  \n",
       "2017-04-03 00:24:51       francesme  RealJamesWoods  \n",
       "2017-04-03 00:48:46      mechanixtn  RealJamesWoods  "
      ]
     },
     "execution_count": 22,
     "metadata": {},
     "output_type": "execute_result"
    }
   ],
   "source": [
    "df_Woods = df[df[\"mention\"]==\"RealJamesWoods\"]\n",
    "df_Woods.head()"
   ]
  },
  {
   "cell_type": "code",
   "execution_count": 23,
   "metadata": {
    "collapsed": false,
    "deletable": true,
    "editable": true
   },
   "outputs": [
    {
     "data": {
      "text/html": [
       "<div>\n",
       "<table border=\"1\" class=\"dataframe\">\n",
       "  <thead>\n",
       "    <tr style=\"text-align: right;\">\n",
       "      <th></th>\n",
       "      <th>counts</th>\n",
       "    </tr>\n",
       "    <tr>\n",
       "      <th>stamp</th>\n",
       "      <th></th>\n",
       "    </tr>\n",
       "  </thead>\n",
       "  <tbody>\n",
       "    <tr>\n",
       "      <th>2017-04-02 23:30:00</th>\n",
       "      <td>1</td>\n",
       "    </tr>\n",
       "    <tr>\n",
       "      <th>2017-04-03 00:00:00</th>\n",
       "      <td>3</td>\n",
       "    </tr>\n",
       "    <tr>\n",
       "      <th>2017-04-03 00:30:00</th>\n",
       "      <td>5</td>\n",
       "    </tr>\n",
       "    <tr>\n",
       "      <th>2017-04-03 01:00:00</th>\n",
       "      <td>2</td>\n",
       "    </tr>\n",
       "    <tr>\n",
       "      <th>2017-04-03 01:30:00</th>\n",
       "      <td>2</td>\n",
       "    </tr>\n",
       "  </tbody>\n",
       "</table>\n",
       "</div>"
      ],
      "text/plain": [
       "                     counts\n",
       "stamp                      \n",
       "2017-04-02 23:30:00       1\n",
       "2017-04-03 00:00:00       3\n",
       "2017-04-03 00:30:00       5\n",
       "2017-04-03 01:00:00       2\n",
       "2017-04-03 01:30:00       2"
      ]
     },
     "execution_count": 23,
     "metadata": {},
     "output_type": "execute_result"
    }
   ],
   "source": [
    "JW_counts = df_Woods.groupby(TimeGrouper(freq='30min')).agg({\"id\":{\"counts\":\"count\"}})\n",
    "JW_counts.columns = JW_counts.columns.droplevel()\n",
    "\n",
    "\n",
    "JW_counts.head()"
   ]
  },
  {
   "cell_type": "code",
   "execution_count": 24,
   "metadata": {
    "collapsed": false,
    "deletable": true,
    "editable": true
   },
   "outputs": [
    {
     "data": {
      "text/html": [
       "<div>\n",
       "<table border=\"1\" class=\"dataframe\">\n",
       "  <thead>\n",
       "    <tr style=\"text-align: right;\">\n",
       "      <th></th>\n",
       "      <th>id</th>\n",
       "      <th>created_at</th>\n",
       "      <th>screen_name</th>\n",
       "      <th>mention</th>\n",
       "    </tr>\n",
       "    <tr>\n",
       "      <th>stamp</th>\n",
       "      <th></th>\n",
       "      <th></th>\n",
       "      <th></th>\n",
       "      <th></th>\n",
       "    </tr>\n",
       "  </thead>\n",
       "  <tbody>\n",
       "    <tr>\n",
       "      <th>2017-04-02 23:17:49</th>\n",
       "      <td>848675870671749120</td>\n",
       "      <td>Sun Apr 02 23:17:49 +0000 2017</td>\n",
       "      <td>lestilton</td>\n",
       "      <td>realDonaldTrump</td>\n",
       "    </tr>\n",
       "    <tr>\n",
       "      <th>2017-04-02 23:32:58</th>\n",
       "      <td>848679683122016256</td>\n",
       "      <td>Sun Apr 02 23:32:58 +0000 2017</td>\n",
       "      <td>LottaFaChina</td>\n",
       "      <td>realDonaldTrump</td>\n",
       "    </tr>\n",
       "    <tr>\n",
       "      <th>2017-04-02 23:34:51</th>\n",
       "      <td>848680154624913410</td>\n",
       "      <td>Sun Apr 02 23:34:51 +0000 2017</td>\n",
       "      <td>Egyptianstyle11</td>\n",
       "      <td>realDonaldTrump</td>\n",
       "    </tr>\n",
       "    <tr>\n",
       "      <th>2017-04-02 23:35:12</th>\n",
       "      <td>848680243527389184</td>\n",
       "      <td>Sun Apr 02 23:35:12 +0000 2017</td>\n",
       "      <td>SpyvPie</td>\n",
       "      <td>realDonaldTrump</td>\n",
       "    </tr>\n",
       "    <tr>\n",
       "      <th>2017-04-02 23:45:55</th>\n",
       "      <td>848682942381641730</td>\n",
       "      <td>Sun Apr 02 23:45:55 +0000 2017</td>\n",
       "      <td>pixiedust5135</td>\n",
       "      <td>realDonaldTrump</td>\n",
       "    </tr>\n",
       "  </tbody>\n",
       "</table>\n",
       "</div>"
      ],
      "text/plain": [
       "                                     id                      created_at  \\\n",
       "stamp                                                                     \n",
       "2017-04-02 23:17:49  848675870671749120  Sun Apr 02 23:17:49 +0000 2017   \n",
       "2017-04-02 23:32:58  848679683122016256  Sun Apr 02 23:32:58 +0000 2017   \n",
       "2017-04-02 23:34:51  848680154624913410  Sun Apr 02 23:34:51 +0000 2017   \n",
       "2017-04-02 23:35:12  848680243527389184  Sun Apr 02 23:35:12 +0000 2017   \n",
       "2017-04-02 23:45:55  848682942381641730  Sun Apr 02 23:45:55 +0000 2017   \n",
       "\n",
       "                         screen_name          mention  \n",
       "stamp                                                  \n",
       "2017-04-02 23:17:49        lestilton  realDonaldTrump  \n",
       "2017-04-02 23:32:58     LottaFaChina  realDonaldTrump  \n",
       "2017-04-02 23:34:51  Egyptianstyle11  realDonaldTrump  \n",
       "2017-04-02 23:35:12          SpyvPie  realDonaldTrump  \n",
       "2017-04-02 23:45:55    pixiedust5135  realDonaldTrump  "
      ]
     },
     "execution_count": 24,
     "metadata": {},
     "output_type": "execute_result"
    }
   ],
   "source": [
    "df_Trump = df[df[\"mention\"]==\"realDonaldTrump\"]\n",
    "df_Trump.head()"
   ]
  },
  {
   "cell_type": "code",
   "execution_count": 25,
   "metadata": {
    "collapsed": false,
    "deletable": true,
    "editable": true
   },
   "outputs": [
    {
     "data": {
      "text/html": [
       "<div>\n",
       "<table border=\"1\" class=\"dataframe\">\n",
       "  <thead>\n",
       "    <tr style=\"text-align: right;\">\n",
       "      <th></th>\n",
       "      <th>counts</th>\n",
       "    </tr>\n",
       "    <tr>\n",
       "      <th>stamp</th>\n",
       "      <th></th>\n",
       "    </tr>\n",
       "  </thead>\n",
       "  <tbody>\n",
       "    <tr>\n",
       "      <th>2017-04-02 23:00:00</th>\n",
       "      <td>1</td>\n",
       "    </tr>\n",
       "    <tr>\n",
       "      <th>2017-04-02 23:30:00</th>\n",
       "      <td>7</td>\n",
       "    </tr>\n",
       "    <tr>\n",
       "      <th>2017-04-03 00:00:00</th>\n",
       "      <td>8</td>\n",
       "    </tr>\n",
       "    <tr>\n",
       "      <th>2017-04-03 00:30:00</th>\n",
       "      <td>13</td>\n",
       "    </tr>\n",
       "    <tr>\n",
       "      <th>2017-04-03 01:00:00</th>\n",
       "      <td>11</td>\n",
       "    </tr>\n",
       "  </tbody>\n",
       "</table>\n",
       "</div>"
      ],
      "text/plain": [
       "                     counts\n",
       "stamp                      \n",
       "2017-04-02 23:00:00       1\n",
       "2017-04-02 23:30:00       7\n",
       "2017-04-03 00:00:00       8\n",
       "2017-04-03 00:30:00      13\n",
       "2017-04-03 01:00:00      11"
      ]
     },
     "execution_count": 25,
     "metadata": {},
     "output_type": "execute_result"
    }
   ],
   "source": [
    "DT_counts = df_Trump.groupby(TimeGrouper(freq='30min')).agg({\"id\":{\"counts\":\"count\"}})\n",
    "DT_counts.columns = DT_counts.columns.droplevel()\n",
    "\n",
    "\n",
    "DT_counts.head()"
   ]
  },
  {
   "cell_type": "code",
   "execution_count": 26,
   "metadata": {
    "collapsed": false,
    "deletable": true,
    "editable": true
   },
   "outputs": [
    {
     "data": {
      "text/html": [
       "<div>\n",
       "<table border=\"1\" class=\"dataframe\">\n",
       "  <thead>\n",
       "    <tr style=\"text-align: right;\">\n",
       "      <th></th>\n",
       "      <th>id</th>\n",
       "      <th>created_at</th>\n",
       "      <th>screen_name</th>\n",
       "      <th>mention</th>\n",
       "    </tr>\n",
       "    <tr>\n",
       "      <th>stamp</th>\n",
       "      <th></th>\n",
       "      <th></th>\n",
       "      <th></th>\n",
       "      <th></th>\n",
       "    </tr>\n",
       "  </thead>\n",
       "  <tbody>\n",
       "    <tr>\n",
       "      <th>2017-04-02 22:53:46</th>\n",
       "      <td>848669815485104128</td>\n",
       "      <td>Sun Apr 02 22:53:46 +0000 2017</td>\n",
       "      <td>JoosieLeaks</td>\n",
       "      <td>CNN</td>\n",
       "    </tr>\n",
       "    <tr>\n",
       "      <th>2017-04-02 22:54:35</th>\n",
       "      <td>848670023581396992</td>\n",
       "      <td>Sun Apr 02 22:54:35 +0000 2017</td>\n",
       "      <td>bobo_anime</td>\n",
       "      <td>CNN</td>\n",
       "    </tr>\n",
       "    <tr>\n",
       "      <th>2017-04-02 22:54:39</th>\n",
       "      <td>848670040757075969</td>\n",
       "      <td>Sun Apr 02 22:54:39 +0000 2017</td>\n",
       "      <td>Trues55</td>\n",
       "      <td>CNN</td>\n",
       "    </tr>\n",
       "    <tr>\n",
       "      <th>2017-04-02 22:55:12</th>\n",
       "      <td>848670178917441540</td>\n",
       "      <td>Sun Apr 02 22:55:12 +0000 2017</td>\n",
       "      <td>anthonycasey2</td>\n",
       "      <td>CNN</td>\n",
       "    </tr>\n",
       "    <tr>\n",
       "      <th>2017-04-02 22:56:31</th>\n",
       "      <td>848670509243940865</td>\n",
       "      <td>Sun Apr 02 22:56:31 +0000 2017</td>\n",
       "      <td>GodzillaReign</td>\n",
       "      <td>CNN</td>\n",
       "    </tr>\n",
       "  </tbody>\n",
       "</table>\n",
       "</div>"
      ],
      "text/plain": [
       "                                     id                      created_at  \\\n",
       "stamp                                                                     \n",
       "2017-04-02 22:53:46  848669815485104128  Sun Apr 02 22:53:46 +0000 2017   \n",
       "2017-04-02 22:54:35  848670023581396992  Sun Apr 02 22:54:35 +0000 2017   \n",
       "2017-04-02 22:54:39  848670040757075969  Sun Apr 02 22:54:39 +0000 2017   \n",
       "2017-04-02 22:55:12  848670178917441540  Sun Apr 02 22:55:12 +0000 2017   \n",
       "2017-04-02 22:56:31  848670509243940865  Sun Apr 02 22:56:31 +0000 2017   \n",
       "\n",
       "                       screen_name mention  \n",
       "stamp                                       \n",
       "2017-04-02 22:53:46    JoosieLeaks     CNN  \n",
       "2017-04-02 22:54:35     bobo_anime     CNN  \n",
       "2017-04-02 22:54:39        Trues55     CNN  \n",
       "2017-04-02 22:55:12  anthonycasey2     CNN  \n",
       "2017-04-02 22:56:31  GodzillaReign     CNN  "
      ]
     },
     "execution_count": 26,
     "metadata": {},
     "output_type": "execute_result"
    }
   ],
   "source": [
    "df_CNN = df[df[\"mention\"]==\"CNN\"]\n",
    "df_CNN.head()"
   ]
  },
  {
   "cell_type": "code",
   "execution_count": 27,
   "metadata": {
    "collapsed": false,
    "deletable": true,
    "editable": true
   },
   "outputs": [
    {
     "data": {
      "text/html": [
       "<div>\n",
       "<table border=\"1\" class=\"dataframe\">\n",
       "  <thead>\n",
       "    <tr style=\"text-align: right;\">\n",
       "      <th></th>\n",
       "      <th>counts</th>\n",
       "    </tr>\n",
       "    <tr>\n",
       "      <th>stamp</th>\n",
       "      <th></th>\n",
       "    </tr>\n",
       "  </thead>\n",
       "  <tbody>\n",
       "    <tr>\n",
       "      <th>2017-04-02 22:30:00</th>\n",
       "      <td>6</td>\n",
       "    </tr>\n",
       "    <tr>\n",
       "      <th>2017-04-02 23:00:00</th>\n",
       "      <td>20</td>\n",
       "    </tr>\n",
       "    <tr>\n",
       "      <th>2017-04-02 23:30:00</th>\n",
       "      <td>15</td>\n",
       "    </tr>\n",
       "    <tr>\n",
       "      <th>2017-04-03 00:00:00</th>\n",
       "      <td>9</td>\n",
       "    </tr>\n",
       "    <tr>\n",
       "      <th>2017-04-03 00:30:00</th>\n",
       "      <td>26</td>\n",
       "    </tr>\n",
       "  </tbody>\n",
       "</table>\n",
       "</div>"
      ],
      "text/plain": [
       "                     counts\n",
       "stamp                      \n",
       "2017-04-02 22:30:00       6\n",
       "2017-04-02 23:00:00      20\n",
       "2017-04-02 23:30:00      15\n",
       "2017-04-03 00:00:00       9\n",
       "2017-04-03 00:30:00      26"
      ]
     },
     "execution_count": 27,
     "metadata": {},
     "output_type": "execute_result"
    }
   ],
   "source": [
    "CNN_counts = df_CNN.groupby(TimeGrouper(freq='30min')).agg({\"id\":{\"counts\":\"count\"}})\n",
    "CNN_counts.columns = CNN_counts.columns.droplevel()\n",
    "\n",
    "\n",
    "CNN_counts.head()"
   ]
  },
  {
   "cell_type": "code",
   "execution_count": 28,
   "metadata": {
    "collapsed": false,
    "deletable": true,
    "editable": true
   },
   "outputs": [
    {
     "data": {
      "text/plain": [
       "<matplotlib.axes._subplots.AxesSubplot at 0x1175b9350>"
      ]
     },
     "execution_count": 28,
     "metadata": {},
     "output_type": "execute_result"
    },
    {
     "data": {
      "image/png": "[encoded data removed]",
      "text/plain": [
       "<matplotlib.figure.Figure at 0x116b019d0>"
      ]
     },
     "metadata": {},
     "output_type": "display_data"
    }
   ],
   "source": [
    "ax = Cv_counts.plot(kind=\"line\", color = \"red\", xlim=(\"04-02-2017 00:00:00\", \"04-08-2017 00:00:00\"))\n",
    "tweet_counts.plot(ax=ax, kind=\"line\", xlim=(\"04-02-2017 00:00:00\", \"04-08-2017 00:00:00\"))\n",
    "DT_counts.plot(ax=ax, kind=\"line\", xlim=(\"04-02-2017 00:00:00\", \"04-08-2017 00:00:00\"), color=\"green\")\n",
    "JW_counts.plot(ax=ax, kind=\"line\",xlim=(\"04-02-2017 00:00:00\", \"04-08-2017 00:00:00\"), color=\"purple\")\n",
    "CNN_counts.plot(ax=ax, kind=\"line\", xlim=(\"04-02-2017 00:00:00\", \"04-08-2017 00:00:00\"), color=\"yellow\")\n",
    "\n",
    "#ta-da!"
   ]
  },
  {
   "cell_type": "code",
   "execution_count": 29,
   "metadata": {
    "collapsed": false,
    "deletable": true,
    "editable": true
   },
   "outputs": [
    {
     "data": {
      "text/plain": [
       "<matplotlib.axes._subplots.AxesSubplot at 0x1185492d0>"
      ]
     },
     "execution_count": 29,
     "metadata": {},
     "output_type": "execute_result"
    },
    {
     "data": {
      "image/png": "[encoded data removed]",
      "text/plain": [
       "<matplotlib.figure.Figure at 0x11619cf50>"
      ]
     },
     "metadata": {},
     "output_type": "display_data"
    }
   ],
   "source": [
    "#zooming in\n",
    "\n",
    "ax = Cv_counts.plot(kind=\"line\", color = \"red\", xlim=(\"04-02-2017 00:00:00\", \"04-06-2017 00:00:00\"))\n",
    "tweet_counts.plot(ax=ax, kind=\"line\", xlim=(\"04-02-2017 00:00:00\", \"04-06-2017 00:00:00\"))\n",
    "DT_counts.plot(ax=ax, kind=\"line\", xlim=(\"04-02-2017 00:00:00\", \"04-06-2017 00:00:00\"), color=\"green\")\n",
    "JW_counts.plot(ax=ax, kind=\"line\", xlim=(\"04-02-2017 00:00:00\", \"04-06-2017 00:00:00\"), color=\"purple\")\n",
    "CNN_counts.plot(ax=ax, kind=\"line\", xlim=(\"04-02-2017 00:00:00\", \"04-06-2017 00:00:00\"), color=\"yellow\")"
   ]
  },
  {
   "cell_type": "code",
   "execution_count": 30,
   "metadata": {
    "collapsed": false,
    "deletable": true,
    "editable": true
   },
   "outputs": [
    {
     "data": {
      "text/plain": [
       "<matplotlib.axes._subplots.AxesSubplot at 0x118df1790>"
      ]
     },
     "execution_count": 30,
     "metadata": {},
     "output_type": "execute_result"
    },
    {
     "data": {
      "image/png": "[encoded data removed]",
      "text/plain": [
       "<matplotlib.figure.Figure at 0x1170f0a10>"
      ]
     },
     "metadata": {},
     "output_type": "display_data"
    }
   ],
   "source": [
    "#zooming in again\n",
    "\n",
    "ax = Cv_counts.plot(kind=\"line\", color = \"red\", xlim=(\"04-02-2017 12:00:00\", \"04-05-2017 12:00:00\"))\n",
    "tweet_counts.plot(ax=ax, kind=\"line\", xlim=(\"04-02-2017 12:00:00\", \"04-05-2017 12:00:00\"))\n",
    "DT_counts.plot(ax=ax, kind=\"line\", xlim=(\"04-02-2017 12:00:00\", \"04-05-2017 12:00:00\"), color=\"green\")\n",
    "JW_counts.plot(ax=ax, kind=\"line\", xlim=(\"04-02-2017 12:00:00\", \"04-05-2017 12:00:00\"), color=\"purple\")\n",
    "CNN_counts.plot(ax=ax, kind=\"line\", xlim=(\"04-02-2017 12:00:00\", \"04-05-2017 12:00:00\"), color=\"yellow\")"
   ]
  },
  {
   "cell_type": "code",
   "execution_count": 31,
   "metadata": {
    "collapsed": true,
    "deletable": true,
    "editable": true
   },
   "outputs": [],
   "source": [
    "#constrain y axis, just to get a better look at our mentions"
   ]
  },
  {
   "cell_type": "code",
   "execution_count": 32,
   "metadata": {
    "collapsed": false,
    "deletable": true,
    "editable": true
   },
   "outputs": [
    {
     "data": {
      "text/plain": [
       "<matplotlib.axes._subplots.AxesSubplot at 0x1191fbfd0>"
      ]
     },
     "execution_count": 32,
     "metadata": {},
     "output_type": "execute_result"
    },
    {
     "data": {
      "image/png": "[encoded data removed]",
      "text/plain": [
       "<matplotlib.figure.Figure at 0x118482790>"
      ]
     },
     "metadata": {},
     "output_type": "display_data"
    }
   ],
   "source": [
    "ax = Cv_counts.plot(kind=\"line\", color = \"red\", xlim=(\"04-02-2017 12:00:00\", \"04-05-2017 12:00:00\"), ylim=(0,3000))\n",
    "tweet_counts.plot(ax=ax, kind=\"line\", xlim=(\"04-02-2017 12:00:00\", \"04-05-2017 12:00:00\"), ylim=(0,3000))\n",
    "DT_counts.plot(ax=ax, kind=\"line\", xlim=(\"04-02-2017 12:00:00\", \"04-05-2017 12:00:00\"), ylim=(0,3000), color=\"green\")\n",
    "JW_counts.plot(ax=ax, kind=\"line\", xlim=(\"04-02-2017 12:00:00\", \"04-05-2017 12:00:00\"), ylim=(0,3000), color=\"purple\")\n",
    "CNN_counts.plot(ax=ax, kind=\"line\", xlim=(\"04-02-2017 12:00:00\", \"04-05-2017 12:00:00\"), ylim=(0,3000), color=\"orange\")"
   ]
  },
  {
   "cell_type": "markdown",
   "metadata": {
    "deletable": true,
    "editable": true
   },
   "source": [
    "**A few notes**\n",
    "\n",
    "*Donald Trump mentions (green) stay relatively low and relatively level. They appear in the first major spike. (hypothesis: this is right after his Pulitzer tweet?)\n",
    "\n",
    "*Cernovich mentions (red) roughly correlate to the overall tweet volume.\n",
    "\n",
    "*James Woods mentions (purple) come later: they start in day 2 of the story, then rise as high as Cernovich during that day's tweet peak. \n",
    "\n",
    "*CNN mentions (yellow/orange) has a really similar trajectory to Donald Trump. \n"
   ]
  },
  {
   "cell_type": "markdown",
   "metadata": {
    "collapsed": true,
    "deletable": true,
    "editable": true
   },
   "source": [
    "Some helpful links\n",
    "\n",
    "Cernovich breaks story (April 2): https://medium.com/@Cernovich/susan-rice-requested-unmasking-of-incoming-trump-administration-officials-30085b5cff16\n",
    "Cernovich's medium post about being hijacked by Bloomberg (April 3): https://medium.com/@Cernovich/timeline-of-susan-rice-spy-story-and-the-fake-news-medias-reaction-b52f2cfab67c"
   ]
  },
  {
   "cell_type": "markdown",
   "metadata": {
    "collapsed": true,
    "deletable": true,
    "editable": true
   },
   "source": [
    "*So how do we detrmine when and where the story changed? Where did it diverge from the 'master branch'? \n",
    "\n",
    "We'll look at the prevalence of different URLs and their text.\n",
    "We'll also take a look at some of the tweets that contain our big-name mentions"
   ]
  },
  {
   "cell_type": "code",
   "execution_count": 33,
   "metadata": {
    "collapsed": true,
    "deletable": true,
    "editable": true
   },
   "outputs": [],
   "source": [
    "#Cernovich breaks story (April 2): https://medium.com/@Cernovich/susan-rice-requested-unmasking-of-incoming-trump-administration-officials-30085b5cff16\n",
    "#^this is the 'master branch'"
   ]
  },
  {
   "cell_type": "code",
   "execution_count": 34,
   "metadata": {
    "collapsed": true,
    "deletable": true,
    "editable": true
   },
   "outputs": [],
   "source": [
    "#when did various URLs become prevalent?"
   ]
  },
  {
   "cell_type": "code",
   "execution_count": 35,
   "metadata": {
    "collapsed": false,
    "deletable": true,
    "editable": true
   },
   "outputs": [
    {
     "data": {
      "text/html": [
       "<div>\n",
       "<table border=\"1\" class=\"dataframe\">\n",
       "  <thead>\n",
       "    <tr style=\"text-align: right;\">\n",
       "      <th></th>\n",
       "      <th>id</th>\n",
       "      <th>created_at</th>\n",
       "      <th>screen_name</th>\n",
       "      <th>url</th>\n",
       "    </tr>\n",
       "  </thead>\n",
       "  <tbody>\n",
       "    <tr>\n",
       "      <th>0</th>\n",
       "      <td>848665319539261442</td>\n",
       "      <td>Sun Apr 02 22:35:54 +0000 2017</td>\n",
       "      <td>PlaynCharacter</td>\n",
       "      <td>https://twitter.com/Cernovich/status/848662120912658434</td>\n",
       "    </tr>\n",
       "    <tr>\n",
       "      <th>1</th>\n",
       "      <td>848666236913422337</td>\n",
       "      <td>Sun Apr 02 22:39:32 +0000 2017</td>\n",
       "      <td>Xavier_Trumpin</td>\n",
       "      <td>https://twitter.com/Cernovich/status/848662120912658434</td>\n",
       "    </tr>\n",
       "    <tr>\n",
       "      <th>2</th>\n",
       "      <td>848668413366943744</td>\n",
       "      <td>Sun Apr 02 22:48:11 +0000 2017</td>\n",
       "      <td>satirist_indian</td>\n",
       "      <td>https://twitter.com/Cernovich/status/848662120912658434</td>\n",
       "    </tr>\n",
       "    <tr>\n",
       "      <th>3</th>\n",
       "      <td>848668686802194432</td>\n",
       "      <td>Sun Apr 02 22:49:17 +0000 2017</td>\n",
       "      <td>TwiterIsFascist</td>\n",
       "      <td>http://circa.com/politics/barack-obama-changed-how-nsa-intercepts-of-americans-like-donald-trump-could-be-shared</td>\n",
       "    </tr>\n",
       "    <tr>\n",
       "      <th>4</th>\n",
       "      <td>848668720641789952</td>\n",
       "      <td>Sun Apr 02 22:49:25 +0000 2017</td>\n",
       "      <td>Damn_Penguin</td>\n",
       "      <td>http://circa.com/politics/barack-obama-changed-how-nsa-intercepts-of-americans-like-donald-trump-could-be-shared</td>\n",
       "    </tr>\n",
       "  </tbody>\n",
       "</table>\n",
       "</div>"
      ],
      "text/plain": [
       "                   id                      created_at      screen_name  \\\n",
       "0  848665319539261442  Sun Apr 02 22:35:54 +0000 2017   PlaynCharacter   \n",
       "1  848666236913422337  Sun Apr 02 22:39:32 +0000 2017   Xavier_Trumpin   \n",
       "2  848668413366943744  Sun Apr 02 22:48:11 +0000 2017  satirist_indian   \n",
       "3  848668686802194432  Sun Apr 02 22:49:17 +0000 2017  TwiterIsFascist   \n",
       "4  848668720641789952  Sun Apr 02 22:49:25 +0000 2017     Damn_Penguin   \n",
       "\n",
       "                                                                                                                url  \n",
       "0                                                           https://twitter.com/Cernovich/status/848662120912658434  \n",
       "1                                                           https://twitter.com/Cernovich/status/848662120912658434  \n",
       "2                                                           https://twitter.com/Cernovich/status/848662120912658434  \n",
       "3  http://circa.com/politics/barack-obama-changed-how-nsa-intercepts-of-americans-like-donald-trump-could-be-shared  \n",
       "4  http://circa.com/politics/barack-obama-changed-how-nsa-intercepts-of-americans-like-donald-trump-could-be-shared  "
      ]
     },
     "execution_count": 35,
     "metadata": {},
     "output_type": "execute_result"
    }
   ],
   "source": [
    "df_urls = pd.read_csv(\"fake-news-tweets-json/urls.csv\")\n",
    "df_urls.head()"
   ]
  },
  {
   "cell_type": "code",
   "execution_count": 36,
   "metadata": {
    "collapsed": false,
    "deletable": true,
    "editable": true
   },
   "outputs": [
    {
     "data": {
      "text/plain": [
       "https://medium.com/@Cernovich/susan-rice-requested-unmasking-of-incoming-trump-administration-officials-30085b5cff16                                                                                                                                                                          7802\n",
       "https://www.bloomberg.com/view/articles/2017-04-03/top-obama-adviser-sought-names-of-trump-associates-in-intel                                                                                                                                                                                6690\n",
       "http://dailycaller.com/2017/04/03/susan-rice-ordered-spy-agencies-to-produce-detailed-spreadsheets-involving-trump/                                                                                                                                                                           4264\n",
       "https://twitter.com/SargentDaikon/status/848955688214827010                                                                                                                                                                                                                                   2670\n",
       "https://theintercept.com/2016/10/09/exclusive-new-email-leak-reveals-clinton-campaigns-cozy-press-relationship/                                                                                                                                                                               2180\n",
       "http://www.newsmax.com/t/newsmax/article/781483?section=US&keywords=Obama-aides-NSA-intelligence&year=2017&month=03&date=29&id=781483&aliaspath=%2FManage%2FArticles%2FTemplate-Main&oref=t.co                                                                                                1910\n",
       "http://www.nationalreview.com/article/446415/susan-rice-unmasking-trump-campaign-members-obama-administration-fbi-cia-nsa                                                                                                                                                                     1454\n",
       "https://twitter.com/RandPaul/status/848940890236256260                                                                                                                                                                                                                                        1302\n",
       "http://circa.com/politics/barack-obama-changed-how-nsa-intercepts-of-americans-like-donald-trump-could-be-shared                                                                                                                                                                              1257\n",
       "https://www.pscp.tv/w/a7PxhzE0MDc0NTN8MU1ZR05MbmJ3b1Z4d7Xvy8x2542CAt6Nhw07NYyLtk75Otb8vGsYnr6yv90g                                                                                                                                                                                            1134\n",
       "http://www.therebel.media/trump_wiretapping_unmasked_a_video_timeline                                                                                                                                                                                                                         1023\n",
       "https://www.youtube.com/watch?v=LFYfUHycQis&feature=youtu.be                                                                                                                                                                                                                                  1006\n",
       "http://www.dangerandplay.com/2017/02/28/source-of-national-security-breach-identified-leaker-is-david-laufman-of-doj/                                                                                                                                                                          923\n",
       "http://bit.ly/2o3HDho                                                                                                                                                                                                                                                                          847\n",
       "https://twitter.com/cernovich/status/849318458814812160                                                                                                                                                                                                                                        824\n",
       "http://www.grrrgraphics.com                                                                                                                                                                                                                                                                    794\n",
       "http://trib.al/Uc2QjBf                                                                                                                                                                                                                                                                         753\n",
       "https://grabien.com/story.php?id=97511                                                                                                                                                                                                                                                         732\n",
       "https://twitter.com/AmbassadorRice/status/836775348264177664                                                                                                                                                                                                                                   716\n",
       "http://po.st/ndvZTz                                                                                                                                                                                                                                                                            673\n",
       "http://www.washingtonexaminer.com/spicer-hits-medias-lack-of-interest-in-susan-rice-revelations/article/2619209                                                                                                                                                                                671\n",
       "http://www.currentworlddaily.com/2017/04/trump-is-right-again-mike-cernovich.html                                                                                                                                                                                                              619\n",
       "http://insider.foxnews.com/2017/04/05/bill-oreilly-talking-points-scandal-if-susan-rice-helped-obama-democrats-election-trump                                                                                                                                                                  607\n",
       "http://constitution.com/shock-report-susan-rice-behind-illegal-unmasking-trump-team-members/                                                                                                                                                                                                   605\n",
       "http://bit.ly/2nbdFIY                                                                                                                                                                                                                                                                          593\n",
       "http://linkis.com/www.breitbart.com/bi/IT2fJ                                                                                                                                                                                                                                                   565\n",
       "http://www.foxnews.com/politics/2017/04/04/susan-rice-defiant-amid-growing-calls-for-her-to-testify-under-oath.html                                                                                                                                                                            540\n",
       "http://fxn.ws/2ncpZZp                                                                                                                                                                                                                                                                          535\n",
       "http://bit.ly/2oBCgDU                                                                                                                                                                                                                                                                          524\n",
       "https://www.pscp.tv/w/a7FHFjF4ZUtXeEdWcnJhalB8MWxEeExScHdFVmFHbZk-CXPzce8eYeFJjtX2Va3oVruQOER5D0Vdo2DNmcdH                                                                                                                                                                                     505\n",
       "https://www.youtube.com/watch?v=HDg1NaV-mvo                                                                                                                                                                                                                                                    465\n",
       "https://youtu.be/sH0akjRDJsY                                                                                                                                                                                                                                                                   451\n",
       "http://truepundit.com/rand-paul-calls-for-susan-rice-to-testify-on-unmasking-trump-officials/                                                                                                                                                                                                  443\n",
       "http://bit.ly/2m1EbE2                                                                                                                                                                                                                                                                          440\n",
       "http://amzn.to/2g3YOcY                                                                                                                                                                                                                                                                         433\n",
       "https://medium.com/p/fake-news-eli-lake-and-bloomberg-plagiarized-mike-cernovich-susanrice-7809d337be8b                                                                                                                                                                                        422\n",
       "http://dailycaller.com/2017/04/03/rand-paul-calls-for-susan-rice-to-testify-on-unmasking-trump-officials/                                                                                                                                                                                      416\n",
       "https://twitter.com/ambrice44/status/821857354069250048                                                                                                                                                                                                                                        407\n",
       "http://trib.al/LRIR1NZ                                                                                                                                                                                                                                                                         406\n",
       "http://www.washingtonexaminer.com/six-questions-raised-by-the-report-susan-rice-unmasked-names-of-trump-advisers/article/2619252#.WOMbKas1Nys.twitter/?utm_medium=email&utm_campaign=Examiner%20Today&utm_source=StructureCMS                                                                  399\n",
       "http://www.allenbwest.com/derrick-wilburn/whoa-stunning-new-developments-susan-rice-unmasking-case-lead-right                                                                                                                                                                                  386\n",
       "http://bit.ly/2p1REZDre                                                                                                                                                                                                                                                                        385\n",
       "http://www.washingtonexaminer.com/susan-rice-denies-leaking-identities-of-trump-associates-unmasking-them-for-political-purposes/article/2619294?utm_campaign=Washington%20Examiner:%20Breaking%20News&utm_source=Washington%20Examiner:%20Breaking%20News%20-%2004/04/17&utm_medium=email     383\n",
       "https://milo.yiannopoulos.net/2017/04/mike-cernovich-susan-rice/                                                                                                                                                                                                                               381\n",
       "https://twitter.com/ambassadorrice/status/836775348264177664                                                                                                                                                                                                                                   375\n",
       "http://dld.bz/f9NFt                                                                                                                                                                                                                                                                            373\n",
       "http://www.drudgereport.com/                                                                                                                                                                                                                                                                   372\n",
       "https://twitter.com/DonaldJTrumpJr/status/849240401974308864                                                                                                                                                                                                                                   361\n",
       "https://goo.gl/cJ5oM1                                                                                                                                                                                                                                                                          357\n",
       "http://trib.al/33ANWjq                                                                                                                                                                                                                                                                         343\n",
       "                                                                                                                                                                                                                                                                                              ... \n",
       "https://twitter.com/i/web/status/850333476683382785                                                                                                                                                                                                                                              1\n",
       "https://twitter.com/i/web/status/849297366138187782                                                                                                                                                                                                                                              1\n",
       "https://twitter.com/i/web/status/850567230140149760                                                                                                                                                                                                                                              1\n",
       "https://www.youtube.com/watch?v=SCRNDQNjCK4                                                                                                                                                                                                                                                      1\n",
       "https://twitter.com/i/web/status/849681421354643456                                                                                                                                                                                                                                              1\n",
       "https://twitter.com/i/web/status/848956661637275648                                                                                                                                                                                                                                              1\n",
       "https://twitter.com/i/web/status/849234400378318848                                                                                                                                                                                                                                              1\n",
       "https://twitter.com/i/web/status/849709319977398273                                                                                                                                                                                                                                              1\n",
       "http://bigbrother.trendolizer.com/2017/04/susan-rice-edward-snowden-may-hold-key-in-unmasking-scandal.html                                                                                                                                                                                       1\n",
       "https://twitter.com/i/web/status/849116604998836224                                                                                                                                                                                                                                              1\n",
       "https://twitter.com/i/web/status/848977521257443332                                                                                                                                                                                                                                              1\n",
       "http://bit.ly/2nYjjNg                                                                                                                                                                                                                                                                            1\n",
       "https://twitter.com/i/web/status/849835591369801728                                                                                                                                                                                                                                              1\n",
       "http://www.newsmax.com/Newsfront/susan-rice-surveillance-leak-unmask/2017/04/04/id/782444/                                                                                                                                                                                                       1\n",
       "https://twitter.com/i/web/status/849622141008044032                                                                                                                                                                                                                                              1\n",
       "https://twitter.com/i/web/status/849111249099030528                                                                                                                                                                                                                                              1\n",
       "http://thefederalist.com/2017/04/04/why-is-cnn-refuting-the-susan-rice-story-it-refuses-to-cover                                                                                                                                                                                                 1\n",
       "https://twitter.com/i/web/status/850702237752061952                                                                                                                                                                                                                                              1\n",
       "https://twitter.com/i/web/status/849371554014265346                                                                                                                                                                                                                                              1\n",
       "https://twitter.com/marksimoneny/status/849283046524235777                                                                                                                                                                                                                                       1\n",
       "https://twitter.com/mamasuzzzz/status/848691321468485632                                                                                                                                                                                                                                         1\n",
       "https://twitter.com/i/web/status/849038050143477760                                                                                                                                                                                                                                              1\n",
       "https://twitter.com/i/web/status/848939125591945216                                                                                                                                                                                                                                              1\n",
       "https://twitter.com/i/web/status/849392651292073984                                                                                                                                                                                                                                              1\n",
       "https://twitter.com/i/web/status/848958203375366145                                                                                                                                                                                                                                              1\n",
       "http://a.msn.com/01/en-us/BBzdS5w?ocid=st                                                                                                                                                                                                                                                        1\n",
       "https://twitter.com/i/web/status/849271945539571713                                                                                                                                                                                                                                              1\n",
       "https://twitter.com/i/web/status/848947424760651776                                                                                                                                                                                                                                              1\n",
       "https://twitter.com/i/web/status/848960239135318016                                                                                                                                                                                                                                              1\n",
       "https://twitter.com/i/web/status/848994540518125568                                                                                                                                                                                                                                              1\n",
       "https://twitter.com/i/web/status/848921214957563904                                                                                                                                                                                                                                              1\n",
       "https://twitter.com/i/web/status/851050789804154880                                                                                                                                                                                                                                              1\n",
       "https://twitter.com/i/web/status/849888672606547968                                                                                                                                                                                                                                              1\n",
       "https://twitter.com/i/web/status/848902542520176640                                                                                                                                                                                                                                              1\n",
       "https://twitter.com/danpfeiffer/status/849331347025952768                                                                                                                                                                                                                                        1\n",
       "https://twitter.com/i/web/status/849802341289250816                                                                                                                                                                                                                                              1\n",
       "https://twitter.com/tobydavid/status/849003539703771137                                                                                                                                                                                                                                          1\n",
       "https://twitter.com/mediajuggernaut/status/847931406344966145                                                                                                                                                                                                                                    1\n",
       "https://twitter.com/safety_refinery/status/847475326959497216                                                                                                                                                                                                                                    1\n",
       "https://twitter.com/i/web/status/849339868706742276                                                                                                                                                                                                                                              1\n",
       "https://twitter.com/i/web/status/849464567986098177                                                                                                                                                                                                                                              1\n",
       "https://twitter.com/i/web/status/850122352176320512                                                                                                                                                                                                                                              1\n",
       "https://twitter.com/i/web/status/848941633940983808                                                                                                                                                                                                                                              1\n",
       "http://dailynews-us.com/well-well-well-look-susan-rices-husband-works                                                                                                                                                                                                                            1\n",
       "https://twitter.com/i/web/status/850161798644998144                                                                                                                                                                                                                                              1\n",
       "https://youtu.be/MMzd40i8TfA                                                                                                                                                                                                                                                                     1\n",
       "https://twitter.com/i/web/status/850783671527378944                                                                                                                                                                                                                                              1\n",
       "https://twitter.com/i/web/status/848891458098782208                                                                                                                                                                                                                                              1\n",
       "https://twitter.com/i/web/status/850076905751629824                                                                                                                                                                                                                                              1\n",
       "https://twitter.com/i/web/status/849026649958080514                                                                                                                                                                                                                                              1\n",
       "Name: url, dtype: int64"
      ]
     },
     "execution_count": 36,
     "metadata": {},
     "output_type": "execute_result"
    }
   ],
   "source": [
    "#This gives us our top URLs by volume.\n",
    "\n",
    "df_urls[\"url\"].value_counts()"
   ]
  },
  {
   "cell_type": "code",
   "execution_count": 37,
   "metadata": {
    "collapsed": false,
    "deletable": true,
    "editable": true
   },
   "outputs": [
    {
     "data": {
      "text/html": [
       "<div>\n",
       "<table border=\"1\" class=\"dataframe\">\n",
       "  <thead>\n",
       "    <tr style=\"text-align: right;\">\n",
       "      <th></th>\n",
       "      <th>id</th>\n",
       "      <th>created_at</th>\n",
       "      <th>screen_name</th>\n",
       "      <th>url</th>\n",
       "    </tr>\n",
       "    <tr>\n",
       "      <th>stamp</th>\n",
       "      <th></th>\n",
       "      <th></th>\n",
       "      <th></th>\n",
       "      <th></th>\n",
       "    </tr>\n",
       "  </thead>\n",
       "  <tbody>\n",
       "    <tr>\n",
       "      <th>2017-04-02 22:35:54</th>\n",
       "      <td>848665319539261442</td>\n",
       "      <td>Sun Apr 02 22:35:54 +0000 2017</td>\n",
       "      <td>PlaynCharacter</td>\n",
       "      <td>https://twitter.com/Cernovich/status/848662120912658434</td>\n",
       "    </tr>\n",
       "    <tr>\n",
       "      <th>2017-04-02 22:39:32</th>\n",
       "      <td>848666236913422337</td>\n",
       "      <td>Sun Apr 02 22:39:32 +0000 2017</td>\n",
       "      <td>Xavier_Trumpin</td>\n",
       "      <td>https://twitter.com/Cernovich/status/848662120912658434</td>\n",
       "    </tr>\n",
       "    <tr>\n",
       "      <th>2017-04-02 22:48:11</th>\n",
       "      <td>848668413366943744</td>\n",
       "      <td>Sun Apr 02 22:48:11 +0000 2017</td>\n",
       "      <td>satirist_indian</td>\n",
       "      <td>https://twitter.com/Cernovich/status/848662120912658434</td>\n",
       "    </tr>\n",
       "    <tr>\n",
       "      <th>2017-04-02 22:49:17</th>\n",
       "      <td>848668686802194432</td>\n",
       "      <td>Sun Apr 02 22:49:17 +0000 2017</td>\n",
       "      <td>TwiterIsFascist</td>\n",
       "      <td>http://circa.com/politics/barack-obama-changed-how-nsa-intercepts-of-americans-like-donald-trump-could-be-shared</td>\n",
       "    </tr>\n",
       "    <tr>\n",
       "      <th>2017-04-02 22:49:25</th>\n",
       "      <td>848668720641789952</td>\n",
       "      <td>Sun Apr 02 22:49:25 +0000 2017</td>\n",
       "      <td>Damn_Penguin</td>\n",
       "      <td>http://circa.com/politics/barack-obama-changed-how-nsa-intercepts-of-americans-like-donald-trump-could-be-shared</td>\n",
       "    </tr>\n",
       "  </tbody>\n",
       "</table>\n",
       "</div>"
      ],
      "text/plain": [
       "                                     id                      created_at  \\\n",
       "stamp                                                                     \n",
       "2017-04-02 22:35:54  848665319539261442  Sun Apr 02 22:35:54 +0000 2017   \n",
       "2017-04-02 22:39:32  848666236913422337  Sun Apr 02 22:39:32 +0000 2017   \n",
       "2017-04-02 22:48:11  848668413366943744  Sun Apr 02 22:48:11 +0000 2017   \n",
       "2017-04-02 22:49:17  848668686802194432  Sun Apr 02 22:49:17 +0000 2017   \n",
       "2017-04-02 22:49:25  848668720641789952  Sun Apr 02 22:49:25 +0000 2017   \n",
       "\n",
       "                         screen_name  \\\n",
       "stamp                                  \n",
       "2017-04-02 22:35:54   PlaynCharacter   \n",
       "2017-04-02 22:39:32   Xavier_Trumpin   \n",
       "2017-04-02 22:48:11  satirist_indian   \n",
       "2017-04-02 22:49:17  TwiterIsFascist   \n",
       "2017-04-02 22:49:25     Damn_Penguin   \n",
       "\n",
       "                                                                                                                                  url  \n",
       "stamp                                                                                                                                  \n",
       "2017-04-02 22:35:54                                                           https://twitter.com/Cernovich/status/848662120912658434  \n",
       "2017-04-02 22:39:32                                                           https://twitter.com/Cernovich/status/848662120912658434  \n",
       "2017-04-02 22:48:11                                                           https://twitter.com/Cernovich/status/848662120912658434  \n",
       "2017-04-02 22:49:17  http://circa.com/politics/barack-obama-changed-how-nsa-intercepts-of-americans-like-donald-trump-could-be-shared  \n",
       "2017-04-02 22:49:25  http://circa.com/politics/barack-obama-changed-how-nsa-intercepts-of-americans-like-donald-trump-could-be-shared  "
      ]
     },
     "execution_count": 37,
     "metadata": {},
     "output_type": "execute_result"
    }
   ],
   "source": [
    "df_urls[\"stamp\"] = to_datetime(df_urls[\"created_at\"],format='%a %b %d %H:%M:%S +0000 %Y')\n",
    "\n",
    "df_urls.set_index(\"stamp\",inplace=True)\n",
    "\n",
    "df_urls.head()"
   ]
  },
  {
   "cell_type": "code",
   "execution_count": 38,
   "metadata": {
    "collapsed": false,
    "deletable": true,
    "editable": true
   },
   "outputs": [
    {
     "data": {
      "text/html": [
       "<div>\n",
       "<table border=\"1\" class=\"dataframe\">\n",
       "  <thead>\n",
       "    <tr style=\"text-align: right;\">\n",
       "      <th></th>\n",
       "      <th>id</th>\n",
       "      <th>created_at</th>\n",
       "      <th>screen_name</th>\n",
       "      <th>url</th>\n",
       "    </tr>\n",
       "    <tr>\n",
       "      <th>stamp</th>\n",
       "      <th></th>\n",
       "      <th></th>\n",
       "      <th></th>\n",
       "      <th></th>\n",
       "    </tr>\n",
       "  </thead>\n",
       "  <tbody>\n",
       "    <tr>\n",
       "      <th>2017-04-03 01:07:43</th>\n",
       "      <td>848703524422680576</td>\n",
       "      <td>Mon Apr 03 01:07:43 +0000 2017</td>\n",
       "      <td>No1islistening0</td>\n",
       "      <td>https://medium.com/@Cernovich/susan-rice-requested-unmasking-of-incoming-trump-administration-officials-30085b5cff16</td>\n",
       "    </tr>\n",
       "    <tr>\n",
       "      <th>2017-04-03 01:14:49</th>\n",
       "      <td>848705314119708672</td>\n",
       "      <td>Mon Apr 03 01:14:49 +0000 2017</td>\n",
       "      <td>0Libertyordeath</td>\n",
       "      <td>https://medium.com/@Cernovich/susan-rice-requested-unmasking-of-incoming-trump-administration-officials-30085b5cff16</td>\n",
       "    </tr>\n",
       "    <tr>\n",
       "      <th>2017-04-03 01:16:01</th>\n",
       "      <td>848705614930993152</td>\n",
       "      <td>Mon Apr 03 01:16:01 +0000 2017</td>\n",
       "      <td>DigitalForests</td>\n",
       "      <td>https://medium.com/@Cernovich/susan-rice-requested-unmasking-of-incoming-trump-administration-officials-30085b5cff16</td>\n",
       "    </tr>\n",
       "    <tr>\n",
       "      <th>2017-04-03 01:19:42</th>\n",
       "      <td>848706542451003392</td>\n",
       "      <td>Mon Apr 03 01:19:42 +0000 2017</td>\n",
       "      <td>gal_deplorable</td>\n",
       "      <td>https://medium.com/@Cernovich/susan-rice-requested-unmasking-of-incoming-trump-administration-officials-30085b5cff16</td>\n",
       "    </tr>\n",
       "    <tr>\n",
       "      <th>2017-04-03 01:23:12</th>\n",
       "      <td>848707422361440256</td>\n",
       "      <td>Mon Apr 03 01:23:12 +0000 2017</td>\n",
       "      <td>jy_liberty</td>\n",
       "      <td>https://medium.com/@Cernovich/susan-rice-requested-unmasking-of-incoming-trump-administration-officials-30085b5cff16</td>\n",
       "    </tr>\n",
       "  </tbody>\n",
       "</table>\n",
       "</div>"
      ],
      "text/plain": [
       "                                     id                      created_at  \\\n",
       "stamp                                                                     \n",
       "2017-04-03 01:07:43  848703524422680576  Mon Apr 03 01:07:43 +0000 2017   \n",
       "2017-04-03 01:14:49  848705314119708672  Mon Apr 03 01:14:49 +0000 2017   \n",
       "2017-04-03 01:16:01  848705614930993152  Mon Apr 03 01:16:01 +0000 2017   \n",
       "2017-04-03 01:19:42  848706542451003392  Mon Apr 03 01:19:42 +0000 2017   \n",
       "2017-04-03 01:23:12  848707422361440256  Mon Apr 03 01:23:12 +0000 2017   \n",
       "\n",
       "                         screen_name  \\\n",
       "stamp                                  \n",
       "2017-04-03 01:07:43  No1islistening0   \n",
       "2017-04-03 01:14:49  0Libertyordeath   \n",
       "2017-04-03 01:16:01   DigitalForests   \n",
       "2017-04-03 01:19:42   gal_deplorable   \n",
       "2017-04-03 01:23:12       jy_liberty   \n",
       "\n",
       "                                                                                                                                      url  \n",
       "stamp                                                                                                                                      \n",
       "2017-04-03 01:07:43  https://medium.com/@Cernovich/susan-rice-requested-unmasking-of-incoming-trump-administration-officials-30085b5cff16  \n",
       "2017-04-03 01:14:49  https://medium.com/@Cernovich/susan-rice-requested-unmasking-of-incoming-trump-administration-officials-30085b5cff16  \n",
       "2017-04-03 01:16:01  https://medium.com/@Cernovich/susan-rice-requested-unmasking-of-incoming-trump-administration-officials-30085b5cff16  \n",
       "2017-04-03 01:19:42  https://medium.com/@Cernovich/susan-rice-requested-unmasking-of-incoming-trump-administration-officials-30085b5cff16  \n",
       "2017-04-03 01:23:12  https://medium.com/@Cernovich/susan-rice-requested-unmasking-of-incoming-trump-administration-officials-30085b5cff16  "
      ]
     },
     "execution_count": 38,
     "metadata": {},
     "output_type": "execute_result"
    }
   ],
   "source": [
    "#Cernovich's medium post\n",
    "\n",
    "df_Cernovich_url = df_urls[df_urls[\"url\"]==\"https://medium.com/@Cernovich/susan-rice-requested-unmasking-of-incoming-trump-administration-officials-30085b5cff16\"]\n",
    "df_Cernovich_url.head()"
   ]
  },
  {
   "cell_type": "code",
   "execution_count": 40,
   "metadata": {
    "collapsed": false
   },
   "outputs": [
    {
     "data": {
      "text/html": [
       "<div>\n",
       "<table border=\"1\" class=\"dataframe\">\n",
       "  <thead>\n",
       "    <tr style=\"text-align: right;\">\n",
       "      <th></th>\n",
       "      <th>counts</th>\n",
       "    </tr>\n",
       "    <tr>\n",
       "      <th>stamp</th>\n",
       "      <th></th>\n",
       "    </tr>\n",
       "  </thead>\n",
       "  <tbody>\n",
       "    <tr>\n",
       "      <th>2017-04-03 01:00:00</th>\n",
       "      <td>6</td>\n",
       "    </tr>\n",
       "    <tr>\n",
       "      <th>2017-04-03 01:30:00</th>\n",
       "      <td>9</td>\n",
       "    </tr>\n",
       "    <tr>\n",
       "      <th>2017-04-03 02:00:00</th>\n",
       "      <td>25</td>\n",
       "    </tr>\n",
       "    <tr>\n",
       "      <th>2017-04-03 02:30:00</th>\n",
       "      <td>43</td>\n",
       "    </tr>\n",
       "    <tr>\n",
       "      <th>2017-04-03 03:00:00</th>\n",
       "      <td>29</td>\n",
       "    </tr>\n",
       "  </tbody>\n",
       "</table>\n",
       "</div>"
      ],
      "text/plain": [
       "                     counts\n",
       "stamp                      \n",
       "2017-04-03 01:00:00       6\n",
       "2017-04-03 01:30:00       9\n",
       "2017-04-03 02:00:00      25\n",
       "2017-04-03 02:30:00      43\n",
       "2017-04-03 03:00:00      29"
      ]
     },
     "execution_count": 40,
     "metadata": {},
     "output_type": "execute_result"
    }
   ],
   "source": [
    "Cv_url_counts = df_Cernovich_url.groupby(TimeGrouper(freq='30min')).agg({\"id\":{\"counts\":\"count\"}})\n",
    "Cv_url_counts.columns = Cv_url_counts.columns.droplevel()\n",
    "\n",
    "\n",
    "Cv_url_counts.head()"
   ]
  },
  {
   "cell_type": "code",
   "execution_count": 41,
   "metadata": {
    "collapsed": false,
    "deletable": true,
    "editable": true
   },
   "outputs": [
    {
     "data": {
      "text/plain": [
       "<matplotlib.axes._subplots.AxesSubplot at 0x11f684ed0>"
      ]
     },
     "execution_count": 41,
     "metadata": {},
     "output_type": "execute_result"
    },
    {
     "data": {
      "image/png": "[encoded data removed]",
      "text/plain": [
       "<matplotlib.figure.Figure at 0x11f67efd0>"
      ]
     },
     "metadata": {},
     "output_type": "display_data"
    }
   ],
   "source": [
    "%matplotlib inline\n",
    "ax = Cv_url_counts.plot(kind=\"line\", color = \"red\", xlim=(\"04-02-2017 12:00:00\", \"04-08-2017 12:00:00\"), ylim=(0,1000))\n",
    "tweet_counts.plot(ax=ax, kind=\"line\", xlim=(\"04-02-2017 12:00:00\", \"04-08-2017 12:00:00\"), ylim=(0,1000))"
   ]
  },
  {
   "cell_type": "code",
   "execution_count": 42,
   "metadata": {
    "collapsed": false,
    "deletable": true,
    "editable": true
   },
   "outputs": [
    {
     "data": {
      "text/html": [
       "<div>\n",
       "<table border=\"1\" class=\"dataframe\">\n",
       "  <thead>\n",
       "    <tr style=\"text-align: right;\">\n",
       "      <th></th>\n",
       "      <th>id</th>\n",
       "      <th>created_at</th>\n",
       "      <th>screen_name</th>\n",
       "      <th>url</th>\n",
       "    </tr>\n",
       "    <tr>\n",
       "      <th>stamp</th>\n",
       "      <th></th>\n",
       "      <th></th>\n",
       "      <th></th>\n",
       "      <th></th>\n",
       "    </tr>\n",
       "  </thead>\n",
       "  <tbody>\n",
       "    <tr>\n",
       "      <th>2017-04-03 14:21:05</th>\n",
       "      <td>848903183267012608</td>\n",
       "      <td>Mon Apr 03 14:21:05 +0000 2017</td>\n",
       "      <td>Uictoria33</td>\n",
       "      <td>https://www.bloomberg.com/view/articles/2017-04-03/top-obama-adviser-sought-names-of-trump-associates-in-intel</td>\n",
       "    </tr>\n",
       "    <tr>\n",
       "      <th>2017-04-03 14:21:12</th>\n",
       "      <td>848903212228804608</td>\n",
       "      <td>Mon Apr 03 14:21:12 +0000 2017</td>\n",
       "      <td>dekdarion</td>\n",
       "      <td>https://www.bloomberg.com/view/articles/2017-04-03/top-obama-adviser-sought-names-of-trump-associates-in-intel</td>\n",
       "    </tr>\n",
       "    <tr>\n",
       "      <th>2017-04-03 14:22:31</th>\n",
       "      <td>848903542840668160</td>\n",
       "      <td>Mon Apr 03 14:22:31 +0000 2017</td>\n",
       "      <td>brianoflondon</td>\n",
       "      <td>https://www.bloomberg.com/view/articles/2017-04-03/top-obama-adviser-sought-names-of-trump-associates-in-intel</td>\n",
       "    </tr>\n",
       "    <tr>\n",
       "      <th>2017-04-03 14:24:34</th>\n",
       "      <td>848904060270936064</td>\n",
       "      <td>Mon Apr 03 14:24:34 +0000 2017</td>\n",
       "      <td>CatholicSon</td>\n",
       "      <td>https://www.bloomberg.com/view/articles/2017-04-03/top-obama-adviser-sought-names-of-trump-associates-in-intel</td>\n",
       "    </tr>\n",
       "    <tr>\n",
       "      <th>2017-04-03 14:25:07</th>\n",
       "      <td>848904200243224576</td>\n",
       "      <td>Mon Apr 03 14:25:07 +0000 2017</td>\n",
       "      <td>Nancy52778680</td>\n",
       "      <td>https://www.bloomberg.com/view/articles/2017-04-03/top-obama-adviser-sought-names-of-trump-associates-in-intel</td>\n",
       "    </tr>\n",
       "  </tbody>\n",
       "</table>\n",
       "</div>"
      ],
      "text/plain": [
       "                                     id                      created_at  \\\n",
       "stamp                                                                     \n",
       "2017-04-03 14:21:05  848903183267012608  Mon Apr 03 14:21:05 +0000 2017   \n",
       "2017-04-03 14:21:12  848903212228804608  Mon Apr 03 14:21:12 +0000 2017   \n",
       "2017-04-03 14:22:31  848903542840668160  Mon Apr 03 14:22:31 +0000 2017   \n",
       "2017-04-03 14:24:34  848904060270936064  Mon Apr 03 14:24:34 +0000 2017   \n",
       "2017-04-03 14:25:07  848904200243224576  Mon Apr 03 14:25:07 +0000 2017   \n",
       "\n",
       "                       screen_name  \\\n",
       "stamp                                \n",
       "2017-04-03 14:21:05     Uictoria33   \n",
       "2017-04-03 14:21:12      dekdarion   \n",
       "2017-04-03 14:22:31  brianoflondon   \n",
       "2017-04-03 14:24:34    CatholicSon   \n",
       "2017-04-03 14:25:07  Nancy52778680   \n",
       "\n",
       "                                                                                                                                url  \n",
       "stamp                                                                                                                                \n",
       "2017-04-03 14:21:05  https://www.bloomberg.com/view/articles/2017-04-03/top-obama-adviser-sought-names-of-trump-associates-in-intel  \n",
       "2017-04-03 14:21:12  https://www.bloomberg.com/view/articles/2017-04-03/top-obama-adviser-sought-names-of-trump-associates-in-intel  \n",
       "2017-04-03 14:22:31  https://www.bloomberg.com/view/articles/2017-04-03/top-obama-adviser-sought-names-of-trump-associates-in-intel  \n",
       "2017-04-03 14:24:34  https://www.bloomberg.com/view/articles/2017-04-03/top-obama-adviser-sought-names-of-trump-associates-in-intel  \n",
       "2017-04-03 14:25:07  https://www.bloomberg.com/view/articles/2017-04-03/top-obama-adviser-sought-names-of-trump-associates-in-intel  "
      ]
     },
     "execution_count": 42,
     "metadata": {},
     "output_type": "execute_result"
    }
   ],
   "source": [
    "#Bloomberg URL\n",
    "\n",
    "df_Bb_url = df_urls[df_urls[\"url\"]==\"https://www.bloomberg.com/view/articles/2017-04-03/top-obama-adviser-sought-names-of-trump-associates-in-intel\"]\n",
    "df_Bb_url.head()"
   ]
  },
  {
   "cell_type": "code",
   "execution_count": 43,
   "metadata": {
    "collapsed": false,
    "deletable": true,
    "editable": true
   },
   "outputs": [
    {
     "data": {
      "text/html": [
       "<div>\n",
       "<table border=\"1\" class=\"dataframe\">\n",
       "  <thead>\n",
       "    <tr style=\"text-align: right;\">\n",
       "      <th></th>\n",
       "      <th>counts</th>\n",
       "    </tr>\n",
       "    <tr>\n",
       "      <th>stamp</th>\n",
       "      <th></th>\n",
       "    </tr>\n",
       "  </thead>\n",
       "  <tbody>\n",
       "    <tr>\n",
       "      <th>2017-04-03 14:00:00</th>\n",
       "      <td>23</td>\n",
       "    </tr>\n",
       "    <tr>\n",
       "      <th>2017-04-03 14:30:00</th>\n",
       "      <td>212</td>\n",
       "    </tr>\n",
       "    <tr>\n",
       "      <th>2017-04-03 15:00:00</th>\n",
       "      <td>772</td>\n",
       "    </tr>\n",
       "    <tr>\n",
       "      <th>2017-04-03 15:30:00</th>\n",
       "      <td>653</td>\n",
       "    </tr>\n",
       "    <tr>\n",
       "      <th>2017-04-03 16:00:00</th>\n",
       "      <td>506</td>\n",
       "    </tr>\n",
       "  </tbody>\n",
       "</table>\n",
       "</div>"
      ],
      "text/plain": [
       "                     counts\n",
       "stamp                      \n",
       "2017-04-03 14:00:00      23\n",
       "2017-04-03 14:30:00     212\n",
       "2017-04-03 15:00:00     772\n",
       "2017-04-03 15:30:00     653\n",
       "2017-04-03 16:00:00     506"
      ]
     },
     "execution_count": 43,
     "metadata": {},
     "output_type": "execute_result"
    }
   ],
   "source": [
    "Bb_url_counts = df_Bb_url.groupby(TimeGrouper(freq='30min')).agg({\"id\":{\"counts\":\"count\"}})\n",
    "Bb_url_counts.columns = Bb_url_counts.columns.droplevel()\n",
    "\n",
    "\n",
    "Bb_url_counts.head()"
   ]
  },
  {
   "cell_type": "code",
   "execution_count": 44,
   "metadata": {
    "collapsed": false,
    "deletable": true,
    "editable": true
   },
   "outputs": [
    {
     "data": {
      "text/html": [
       "<div>\n",
       "<table border=\"1\" class=\"dataframe\">\n",
       "  <thead>\n",
       "    <tr style=\"text-align: right;\">\n",
       "      <th></th>\n",
       "      <th>id</th>\n",
       "      <th>created_at</th>\n",
       "      <th>screen_name</th>\n",
       "      <th>url</th>\n",
       "    </tr>\n",
       "    <tr>\n",
       "      <th>stamp</th>\n",
       "      <th></th>\n",
       "      <th></th>\n",
       "      <th></th>\n",
       "      <th></th>\n",
       "    </tr>\n",
       "  </thead>\n",
       "  <tbody>\n",
       "    <tr>\n",
       "      <th>2017-04-04 02:45:57</th>\n",
       "      <td>849090636967968768</td>\n",
       "      <td>Tue Apr 04 02:45:57 +0000 2017</td>\n",
       "      <td>GeenaJagger</td>\n",
       "      <td>http://dailycaller.com/2017/04/03/susan-rice-ordered-spy-agencies-to-produce-detailed-spreadsheets-involving-trump/</td>\n",
       "    </tr>\n",
       "    <tr>\n",
       "      <th>2017-04-04 03:05:57</th>\n",
       "      <td>849095669772161024</td>\n",
       "      <td>Tue Apr 04 03:05:57 +0000 2017</td>\n",
       "      <td>orach24463_cj</td>\n",
       "      <td>http://dailycaller.com/2017/04/03/susan-rice-ordered-spy-agencies-to-produce-detailed-spreadsheets-involving-trump/</td>\n",
       "    </tr>\n",
       "    <tr>\n",
       "      <th>2017-04-04 03:35:31</th>\n",
       "      <td>849103109276270597</td>\n",
       "      <td>Tue Apr 04 03:35:31 +0000 2017</td>\n",
       "      <td>DynCorpKidsClub</td>\n",
       "      <td>http://dailycaller.com/2017/04/03/susan-rice-ordered-spy-agencies-to-produce-detailed-spreadsheets-involving-trump/</td>\n",
       "    </tr>\n",
       "    <tr>\n",
       "      <th>2017-04-04 03:42:51</th>\n",
       "      <td>849104955453710337</td>\n",
       "      <td>Tue Apr 04 03:42:51 +0000 2017</td>\n",
       "      <td>ciansong</td>\n",
       "      <td>http://dailycaller.com/2017/04/03/susan-rice-ordered-spy-agencies-to-produce-detailed-spreadsheets-involving-trump/</td>\n",
       "    </tr>\n",
       "    <tr>\n",
       "      <th>2017-04-04 03:46:18</th>\n",
       "      <td>849105823103975424</td>\n",
       "      <td>Tue Apr 04 03:46:18 +0000 2017</td>\n",
       "      <td>Juanoftheguys</td>\n",
       "      <td>http://dailycaller.com/2017/04/03/susan-rice-ordered-spy-agencies-to-produce-detailed-spreadsheets-involving-trump/</td>\n",
       "    </tr>\n",
       "  </tbody>\n",
       "</table>\n",
       "</div>"
      ],
      "text/plain": [
       "                                     id                      created_at  \\\n",
       "stamp                                                                     \n",
       "2017-04-04 02:45:57  849090636967968768  Tue Apr 04 02:45:57 +0000 2017   \n",
       "2017-04-04 03:05:57  849095669772161024  Tue Apr 04 03:05:57 +0000 2017   \n",
       "2017-04-04 03:35:31  849103109276270597  Tue Apr 04 03:35:31 +0000 2017   \n",
       "2017-04-04 03:42:51  849104955453710337  Tue Apr 04 03:42:51 +0000 2017   \n",
       "2017-04-04 03:46:18  849105823103975424  Tue Apr 04 03:46:18 +0000 2017   \n",
       "\n",
       "                         screen_name  \\\n",
       "stamp                                  \n",
       "2017-04-04 02:45:57      GeenaJagger   \n",
       "2017-04-04 03:05:57    orach24463_cj   \n",
       "2017-04-04 03:35:31  DynCorpKidsClub   \n",
       "2017-04-04 03:42:51         ciansong   \n",
       "2017-04-04 03:46:18    Juanoftheguys   \n",
       "\n",
       "                                                                                                                                     url  \n",
       "stamp                                                                                                                                     \n",
       "2017-04-04 02:45:57  http://dailycaller.com/2017/04/03/susan-rice-ordered-spy-agencies-to-produce-detailed-spreadsheets-involving-trump/  \n",
       "2017-04-04 03:05:57  http://dailycaller.com/2017/04/03/susan-rice-ordered-spy-agencies-to-produce-detailed-spreadsheets-involving-trump/  \n",
       "2017-04-04 03:35:31  http://dailycaller.com/2017/04/03/susan-rice-ordered-spy-agencies-to-produce-detailed-spreadsheets-involving-trump/  \n",
       "2017-04-04 03:42:51  http://dailycaller.com/2017/04/03/susan-rice-ordered-spy-agencies-to-produce-detailed-spreadsheets-involving-trump/  \n",
       "2017-04-04 03:46:18  http://dailycaller.com/2017/04/03/susan-rice-ordered-spy-agencies-to-produce-detailed-spreadsheets-involving-trump/  "
      ]
     },
     "execution_count": 44,
     "metadata": {},
     "output_type": "execute_result"
    }
   ],
   "source": [
    "#Daily Caller URL\n",
    "#http://dailycaller.com/2017/04/03/susan-rice-ordered-spy-agencies-to-produce-detailed-spreadsheets-involving-trump/\n",
    "\n",
    "df_DC_url = df_urls[df_urls[\"url\"]==\"http://dailycaller.com/2017/04/03/susan-rice-ordered-spy-agencies-to-produce-detailed-spreadsheets-involving-trump/\"]\n",
    "df_DC_url.head()"
   ]
  },
  {
   "cell_type": "code",
   "execution_count": 45,
   "metadata": {
    "collapsed": false,
    "deletable": true,
    "editable": true
   },
   "outputs": [
    {
     "data": {
      "text/html": [
       "<div>\n",
       "<table border=\"1\" class=\"dataframe\">\n",
       "  <thead>\n",
       "    <tr style=\"text-align: right;\">\n",
       "      <th></th>\n",
       "      <th>counts</th>\n",
       "    </tr>\n",
       "    <tr>\n",
       "      <th>stamp</th>\n",
       "      <th></th>\n",
       "    </tr>\n",
       "  </thead>\n",
       "  <tbody>\n",
       "    <tr>\n",
       "      <th>2017-04-04 02:30:00</th>\n",
       "      <td>1</td>\n",
       "    </tr>\n",
       "    <tr>\n",
       "      <th>2017-04-04 03:00:00</th>\n",
       "      <td>1</td>\n",
       "    </tr>\n",
       "    <tr>\n",
       "      <th>2017-04-04 03:30:00</th>\n",
       "      <td>6</td>\n",
       "    </tr>\n",
       "    <tr>\n",
       "      <th>2017-04-04 04:00:00</th>\n",
       "      <td>1</td>\n",
       "    </tr>\n",
       "    <tr>\n",
       "      <th>2017-04-04 04:30:00</th>\n",
       "      <td>1</td>\n",
       "    </tr>\n",
       "  </tbody>\n",
       "</table>\n",
       "</div>"
      ],
      "text/plain": [
       "                     counts\n",
       "stamp                      \n",
       "2017-04-04 02:30:00       1\n",
       "2017-04-04 03:00:00       1\n",
       "2017-04-04 03:30:00       6\n",
       "2017-04-04 04:00:00       1\n",
       "2017-04-04 04:30:00       1"
      ]
     },
     "execution_count": 45,
     "metadata": {},
     "output_type": "execute_result"
    }
   ],
   "source": [
    "DC_url_counts = df_DC_url.groupby(TimeGrouper(freq='30min')).agg({\"id\":{\"counts\":\"count\"}})\n",
    "DC_url_counts.columns = DC_url_counts.columns.droplevel()\n",
    "\n",
    "DC_url_counts.head()"
   ]
  },
  {
   "cell_type": "code",
   "execution_count": 46,
   "metadata": {
    "collapsed": false,
    "deletable": true,
    "editable": true
   },
   "outputs": [
    {
     "data": {
      "text/plain": [
       "<matplotlib.axes._subplots.AxesSubplot at 0x11fabc690>"
      ]
     },
     "execution_count": 46,
     "metadata": {},
     "output_type": "execute_result"
    },
    {
     "data": {
      "image/png": "[encoded data removed]",
      "text/plain": [
       "<matplotlib.figure.Figure at 0x11fab5710>"
      ]
     },
     "metadata": {},
     "output_type": "display_data"
    }
   ],
   "source": [
    "ax = Cv_url_counts.plot(kind=\"line\", color = \"red\", xlim=(\"2017-04-03 00:00:00\", \"2017-04-07 00:00:00\"), ylim=(0,1000))\n",
    "#tweet_counts.plot(ax=ax, kind=\"line\", xlim=(\"2017-04-03 00:00:00\", \"2017-04-08 00:00:00\"), ylim=(0,1000))\n",
    "Bb_url_counts.plot(ax=ax, kind=\"line\", xlim=(\"2017-04-03 00:00:00\", \"2017-04-07 00:00:00\"), ylim=(0,1000), color=\"green\")\n",
    "DC_url_counts.plot(ax=ax, kind=\"line\", xlim=(\"2017-04-03 00:00:00\", \"2017-04-07 00:00:00\"), ylim=(0,1000), color=\"purple\")\n"
   ]
  },
  {
   "cell_type": "markdown",
   "metadata": {
    "deletable": true,
    "editable": true
   },
   "source": [
    "**Notes**\n",
    "\n",
    "Cernovich's Medium post (red), where the story originated, was the first to gain traction and peak. \n",
    "\n",
    "Then, Bloomberg (green) came on the scene and actually eclipsed Cernovich's original post.\n",
    "\n",
    "Daily Caller (purple) came on the scene a day later and reached about half the volume of Cernovich's original post. "
   ]
  },
  {
   "cell_type": "code",
   "execution_count": null,
   "metadata": {
    "collapsed": true,
    "deletable": true,
    "editable": true
   },
   "outputs": [],
   "source": []
  },
  {
   "cell_type": "code",
   "execution_count": 47,
   "metadata": {
    "collapsed": true,
    "deletable": true,
    "editable": true
   },
   "outputs": [],
   "source": [
    "#Now, we will attempt some text analysis!"
   ]
  },
  {
   "cell_type": "code",
   "execution_count": 48,
   "metadata": {
    "collapsed": false,
    "deletable": true,
    "editable": true
   },
   "outputs": [
    {
     "name": "stderr",
     "output_type": "stream",
     "text": [
      "/Users/christinehansen/.virtualenvs/marksclass/lib/python2.7/site-packages/bs4/__init__.py:181: UserWarning: No parser was explicitly specified, so I'm using the best available HTML parser for this system (\"lxml\"). This usually isn't a problem, but if you run this code on another system, or in a different virtual environment, it may use a different parser and behave differently.\n",
      "\n",
      "The code that caused this warning is on line 162 of the file /System/Library/Frameworks/Python.framework/Versions/2.7/lib/python2.7/runpy.py. To get rid of this warning, change code that looks like this:\n",
      "\n",
      " BeautifulSoup([your markup])\n",
      "\n",
      "to this:\n",
      "\n",
      " BeautifulSoup([your markup], \"lxml\")\n",
      "\n",
      "  markup_type=markup_type))\n"
     ]
    }
   ],
   "source": [
    "from requests import get\n",
    "from bs4 import BeautifulSoup\n",
    "from pandas import DataFrame\n",
    "\n",
    "Cernovich_Medium_url = \"https://medium.com/@Cernovich/susan-rice-requested-unmasking-of-incoming-trump-administration-officials-30085b5cff16\"\n",
    "head_data = {'From': 'as5165@columbia.edu'}\n",
    "\n",
    "response = get(Cernovich_Medium_url,headers=head_data)    \n",
    "page = BeautifulSoup(response.text)"
   ]
  },
  {
   "cell_type": "code",
   "execution_count": 49,
   "metadata": {
    "collapsed": false,
    "deletable": true,
    "editable": true
   },
   "outputs": [
    {
     "name": "stdout",
     "output_type": "stream",
     "text": [
      "<!DOCTYPE html>\n",
      "<html xmlns:cc=\"http://creativecommons.org/ns#\">\n",
      " <head prefix=\"og: http://ogp.me/ns# fb: http://ogp.me/ns/fb# medium-com: http://ogp.me/ns/fb/medium-com#\">\n",
      "  <meta content=\"text/html; charset=utf-8\" http-equiv=\"Content-Type\"/>\n",
      "  <meta content=\"width=device-width, initial-scale=1\" name=\"viewport\"/>\n",
      "  <title>\n",
      "   Susan Rice Requested Unmasking of Incoming Trump Administration Officials\n",
      "  </title>\n",
      "  <link href=\"https://medium.com/@Cernovich/susan-rice-requested-unmasking-of-incoming-trump-administration-officials-30085b5cff16\" rel=\"canonical\"/>\n",
      "  <meta content=\"Susan Rice Requested Unmasking of Incoming Trump Administration Officials\" name=\"title\"/>\n",
      "  <meta content=\"unsafe-url\" name=\"referrer\"/>\n",
      "  <meta content=\"Susan Rice, who served as the National Security Adviser under President Obama, has been identified as the official who requested unmasking of incoming Trump officials, Cernovich Media can exclusively…\" name=\"description\"/>\n",
      "  <meta content=\"#000000\" name=\"theme-color\"/>\n",
      "  <meta content=\"Susan Rice Requested Unmasking of Incoming Trump Administration Officials\" property=\"og:title\"/>\n",
      "  <meta content=\"https://medium.com/@Cernovich/susan-rice-requested-unmasking-of-incoming-trump-administration-officials-30085b5cff16\" property=\"og:url\"/>\n",
      "  <meta content=\"https://cdn-images-1.medium.com/max/1200/1*oOBiBxzsAPZoBoZdI2RGSQ.jpeg\" property=\"og:image\"/>\n",
      "  <meta content=\"542599432471018\" property=\"fb:app_id\"/>\n",
      "  <meta content=\"Susan Rice, who served as the National Security Adviser under President Obama, has been identified as the official who requested unmasking…\" property=\"og:description\"/>\n",
      "  <meta content=\"Susan Rice, who served as the National Security Adviser under President Obama, has been identified as the official who requested unmasking…\" name=\"twitter:description\"/>\n",
      "  <meta content=\"https://cdn-images-1.medium.com/max/1200/1*oOBiBxzsAPZoBoZdI2RGSQ.jpeg\" name=\"twitter:image:src\"/>\n",
      "  <link href=\"https://plus.google.com/103654360130207659246\" rel=\"publisher\"/>\n",
      "  <link href=\"https://medium.com/@Cernovich\" rel=\"author\"/>\n",
      "  <meta content=\"Mike Cernovich\" property=\"author\"/>\n",
      "  <meta content=\"article\" property=\"og:type\"/>\n",
      "  <meta content=\"summary_large_image\" name=\"twitter:card\"/>\n",
      "  <meta content=\"https://www.facebook.com/medium\" property=\"article:publisher\"/>\n",
      "  <meta content=\"https://medium.com/@Cernovich\" property=\"article:author\"/>\n",
      "  <meta content=\"noauto\" property=\"fb:smart_publish:robots\"/>\n",
      "  <meta content=\"index, follow\" name=\"robots\"/>\n",
      "  <meta content=\"2017-04-03T01:02:31.052Z\" property=\"article:published_time\"/>\n",
      "  <meta content=\"@Cernovich\" name=\"twitter:creator\"/>\n",
      "  <meta content=\"@Medium\" name=\"twitter:site\"/>\n",
      "  <meta content=\"Medium\" property=\"og:site_name\"/>\n",
      "  <meta name=\"twitter:label1\" value=\"Reading time\"/>\n",
      "  <meta name=\"twitter:data1\" value=\"3 min read\"/>\n",
      "  <script type=\"application/ld+json\">\n",
      "   {\"@context\":\"http://schema.org\",\"@type\":\"NewsArticle\",\"image\":{\"@type\":\"ImageObject\",\"width\":480,\"height\":360,\"url\":\"https://cdn-images-1.medium.com/max/480/1*oOBiBxzsAPZoBoZdI2RGSQ.jpeg\"},\"datePublished\":\"2017-04-03T01:02:31.052Z\",\"dateModified\":\"2017-05-05T05:48:36.768Z\",\"headline\":\"Susan Rice Requested Unmasking of Incoming Trump Administration Officials\",\"name\":\"Susan Rice Requested Unmasking of Incoming Trump Administration Officials\",\"keywords\":[\"Mike Cernovich\",\"Journalism\",\"National Security\",\"Susan Rice\",\"Unmasking\"],\"author\":{\"@type\":\"Person\",\"name\":\"Mike Cernovich\",\"url\":\"https://medium.com/@Cernovich\"},\"creator\":[\"Mike Cernovich\"],\"mainEntityOfPage\":\"https://medium.com/@Cernovich/susan-rice-requested-unmasking-of-incoming-trump-administration-officials-30085b5cff16\"}\n",
      "  </script>\n",
      "  <meta content=\"Medium\" name=\"twitter:app:name:iphone\"/>\n",
      "  <meta content=\"828256236\" name=\"twitter:app:id:iphone\"/>\n",
      "  <meta content=\"medium://p/30085b5cff16\" name=\"twitter:app:url:iphone\"/>\n",
      "  <meta content=\"Medium\" property=\"al:ios:app_name\"/>\n",
      "  <meta content=\"828256236\" property=\"al:ios:app_store_id\"/>\n",
      "  <meta content=\"com.medium.reader\" property=\"al:android:package\"/>\n",
      "  <meta content=\"Medium\" property=\"al:android:app_name\"/>\n",
      "  <meta content=\"medium://p/30085b5cff16\" property=\"al:ios:url\"/>\n",
      "  <meta content=\"medium://p/30085b5cff16\" property=\"al:android:url\"/>\n",
      "  <meta content=\"https://medium.com/@Cernovich/susan-rice-requested-unmasking-of-incoming-trump-administration-officials-30085b5cff16\" property=\"al:web:url\"/>\n",
      "  <link href=\"/osd.xml\" rel=\"search\" title=\"Medium\" type=\"application/opensearchdescription+xml\"/>\n",
      "  <link href=\"android-app://com.medium.reader/https/medium.com/p/30085b5cff16\" rel=\"alternate\"/>\n",
      "  <link href=\"https://cdn-static-1.medium.com/_/fp/css/main-base.hbOBa6y2abNsRv9iPnbu-w.css\" rel=\"stylesheet\"/>\n",
      "  <script>\n",
      "   if (window.top !== window.self) window.top.location = window.self.location.href;var OB_startTime = new Date().getTime(); var OB_loadErrors = []; function _onerror(e) { OB_loadErrors.push(e) }; if (document.addEventListener) document.addEventListener(\"error\", _onerror, true); else if (document.attachEvent) document.attachEvent(\"onerror\", _onerror); function _asyncScript(u) {var d = document, f = d.getElementsByTagName(\"script\")[0], s = d.createElement(\"script\"); s.type = \"text/javascript\"; s.async = true; s.src = u; f.parentNode.insertBefore(s, f);}function _asyncStyles(u) {var d = document, f = d.getElementsByTagName(\"script\")[0], s = d.createElement(\"link\"); s.rel = \"stylesheet\"; s.href = u; f.parentNode.insertBefore(s, f); return s}(new Image()).src = \"/_/stat?event=pixel.load&origin=\" + encodeURIComponent(location.origin);\n",
      "  </script>\n",
      "  <script>\n",
      "   window.ga=window.ga||function(){(ga.q=ga.q||[]).push(arguments)};ga.l=+new Date; ga(\"create\", \"UA-24232453-2\", \"auto\", {\"allowLinker\": true, \"legacyCookieDomain\": window.location.hostname}); ga(\"send\", \"pageview\");\n",
      "  </script>\n",
      "  <script async=\"\" src=\"https://www.google-analytics.com/analytics.js\">\n",
      "  </script>\n",
      "  <script>\n",
      "   (function () {var height = window.innerHeight || document.documentElement.clientHeight || document.body.clientHeight; var width = window.innerWidth || document.documentElement.clientWidth || document.body.clientWidth; document.write(\"<style>section.section-image--fullBleed.is-backgrounded {padding-top: \" + Math.round(1.1 * height) + \"px;}section.section-image--fullScreen.is-backgrounded, section.section-image--coverFade.is-backgrounded {min-height: \" + height + \"px; padding-top: \" + Math.round(0.5 * height) + \"px;}.u-sizeViewHeight100 {height: \" + height + \"px !important;}.u-sizeViewHeight110 {height: \" + Math.round(1.1 * height) + \"px !important;}.u-sizeViewHeightMin100 {min-height: \" + height + \"px !important;}.u-sizeViewHeightMax100 {max-height: \" + height + \"px !important;}section.section-image--coverFade {height: \" + height + \"px;}.section-aspectRatioViewportPlaceholder, .section-aspectRatioViewportCropPlaceholder {max-height: \" + height + \"px;}.section-aspectRatioViewportBottomSpacer, .section-aspectRatioViewportBottomPlaceholder {max-height: \" + Math.round(0.5 * height) + \"px;}.zoomable:before {top: \" + (-1 * height) + \"px; left: \" + (-1 * width) + \"px; padding: \" + height + \"px \" + width + \"px;}</style>\");})()\n",
      "  </script>\n",
      "  <!--[if lt IE 9]><script charset=\"UTF-8\" src=\"https://cdn-static-1.medium.com/_/fp/js/shiv.RI2ePTZ5gFmMgLzG5bEVAA.js\"></script><![endif]-->\n",
      "  <link class=\"js-favicon\" href=\"https://cdn-static-1.medium.com/_/fp/icons/favicon-medium.TAS6uQ-Y7kcKgi0xjcYHXw.ico\" rel=\"icon\"/>\n",
      "  <link href=\"https://cdn-images-1.medium.com/fit/c/152/152/1*W0nmth_X8nFKjn6BZ388UQ.png\" rel=\"apple-touch-icon\" sizes=\"152x152\"/>\n",
      "  <link href=\"https://cdn-images-1.medium.com/fit/c/120/120/1*W0nmth_X8nFKjn6BZ388UQ.png\" rel=\"apple-touch-icon\" sizes=\"120x120\"/>\n",
      "  <link href=\"https://cdn-images-1.medium.com/fit/c/76/76/1*W0nmth_X8nFKjn6BZ388UQ.png\" rel=\"apple-touch-icon\" sizes=\"76x76\"/>\n",
      "  <link href=\"https://cdn-images-1.medium.com/fit/c/60/60/1*W0nmth_X8nFKjn6BZ388UQ.png\" rel=\"apple-touch-icon\" sizes=\"60x60\"/>\n",
      "  <link color=\"#171717\" href=\"https://cdn-static-1.medium.com/_/fp/icons/favicon.KjTfUJo7yJH_fCoUzzH3cg.svg\" rel=\"mask-icon\"/>\n",
      " </head>\n",
      " <body class=\" postShowScreen is-noJs\" itemscope=\"\">\n",
      "  <script>\n",
      "   document.body.className = document.body.className.replace(/(^|\\s)is-noJs(\\s|$)/, \"$1is-js$2\")\n",
      "  </script>\n",
      "  <div class=\"site-main\" id=\"container\">\n",
      "   <div class=\"butterBar butterBar--error\">\n",
      "   </div>\n",
      "   <div class=\"surface\">\n",
      "    <div class=\"screenContent\" id=\"prerendered\">\n",
      "     <canvas class=\"canvas-renderer\">\n",
      "     </canvas>\n",
      "     <div class=\"container u-maxWidth740 u-xs-margin0 notesPositionContainer js-notesPositionContainer\">\n",
      "     </div>\n",
      "     <div class=\"metabar u-clearfix js-metabar\">\n",
      "      <div class=\"metabar-inner u-marginAuto u-maxWidth1000 u-paddingLeft20 u-paddingRight20 js-metabarMiddle\">\n",
      "       <div class=\"metabar-block metabar-block--left u-floatLeft u-height65 u-xs-height56\">\n",
      "        <a class=\"siteNav-logo\" data-log-event=\"home\" href=\"https://medium.com/\">\n",
      "         <span class=\"svgIcon svgIcon--logoNew svgIcon--45px is-flushLeft\">\n",
      "          <svg class=\"svgIcon-use\" data-multipart=\"true\" height=\"45\" viewbox=\"-17 18 45 45\" width=\"45\">\n",
      "           <path d=\"M11.525 28.078c-.472-.225-.858.002-.858.506v20.044l8.616 4.113c.948.46 1.717.14 1.717-.7v-19.3a.22.22 0 0 0-.124-.19l-9.35-4.46v-.01z\">\n",
      "           </path>\n",
      "           <path d=\"M.333 43.696l9.83-15.247c.278-.43.89-.6 1.36-.38l9.364 4.47c.06.03.082.1.047.15L10.666 48.63.333 43.698v-.002z\">\n",
      "           </path>\n",
      "           <path d=\"M-8.57 28.35c-.786-.375-1.053-.096-.592.62L.333 43.696l10.333 4.932L.356 32.635a.156.156 0 0 0-.06-.054l-8.866-4.23z\">\n",
      "           </path>\n",
      "           <path d=\"M.333 52.033c0 .84-.643 1.22-1.43.844l-8.045-3.84c-.472-.224-.858-.82-.858-1.325V28.89c0-.672.515-.976 1.145-.675l9.133 4.36a.092.092 0 0 1 .055.084v19.37z\">\n",
      "           </path>\n",
      "          </svg>\n",
      "         </span>\n",
      "         <span class=\"u-textScreenReader\">\n",
      "          Homepage\n",
      "         </span>\n",
      "        </a>\n",
      "       </div>\n",
      "       <div class=\"metabar-block u-floatRight u-xs-absolute u-xs-textAlignRight u-xs-right0 u-xs-marginRight20 u-height65 u-xs-height56\">\n",
      "        <div class=\"buttonSet\">\n",
      "         <a class=\"button button--primary button--chromeless u-accentColor--buttonNormal is-inSiteNavBar u-lineHeight30 u-height32\" data-action=\"sign-in-prompt\" data-action-source=\"nav_signup\" data-redirect=\"https://medium.com/@Cernovich/susan-rice-requested-unmasking-of-incoming-trump-administration-officials-30085b5cff16\" href=\"https://medium.com/m/signin?redirect=https%3A%2F%2Fmedium.com%2F%40Cernovich%2Fsusan-rice-requested-unmasking-of-incoming-trump-administration-officials-30085b5cff16\">\n",
      "          Sign in / Sign up\n",
      "         </a>\n",
      "        </div>\n",
      "       </div>\n",
      "      </div>\n",
      "     </div>\n",
      "     <div class=\"metabar metabar--spacer js-metabarSpacer u-height65 u-xs-height56\">\n",
      "     </div>\n",
      "     <main role=\"main\">\n",
      "      <article class=\" u-sizeViewHeightMin100 u-overflowHidden postArticle postArticle--full u-marginBottom40\" lang=\"en\">\n",
      "       <header class=\"container u-maxWidth740\">\n",
      "        <div class=\"postMetaHeader u-paddingBottom10 row\">\n",
      "         <div class=\"col u-size12of12 js-postMetaLockup\">\n",
      "          <div class=\"postMetaLockup postMetaLockup--authorWithBio u-flex js-postMetaLockup\">\n",
      "           <div class=\"u-flex0\">\n",
      "            <a class=\"link avatar u-baseColor--link\" data-action=\"show-user-card\" data-action-source=\"post_header_lockup\" data-action-type=\"hover\" data-action-value=\"d7bc7439af1b\" data-user-id=\"d7bc7439af1b\" dir=\"auto\" href=\"https://medium.com/@Cernovich?source=post_header_lockup\">\n",
      "             <div class=\"u-relative u-inlineBlock\">\n",
      "              <img alt=\"Go to the profile of Mike Cernovich\" class=\"avatar-image avatar-image--small\" src=\"https://cdn-images-1.medium.com/fit/c/60/60/0*-rfSB-n7vALDJT8j.jpg\"/>\n",
      "              <div class=\"u-absolute u-tintSpectrum u-accentColor--iconNormal u-textColorGreenNormal svgIcon\" style=\"width: calc(100% + 12px); height: calc(100% + 12px); top:-6px; left:-6px\">\n",
      "               <svg viewbox=\"0 0 114 114\" xmlns=\"http://www.w3.org/2000/svg\">\n",
      "                <path d=\"M7.66922967,32.092726 C17.0070768,13.6353618 35.9421928,1.75 57,1.75 C78.0578072,1.75 96.9929232,13.6353618 106.33077,32.092726 L107.66923,31.4155801 C98.0784505,12.4582656 78.6289015,0.25 57,0.25 C35.3710985,0.25 15.9215495,12.4582656 6.33077033,31.4155801 L7.66922967,32.092726 Z\">\n",
      "                </path>\n",
      "                <path d=\"M106.33077,81.661427 C96.9929232,100.118791 78.0578072,112.004153 57,112.004153 C35.9421928,112.004153 17.0070768,100.118791 7.66922967,81.661427 L6.33077033,82.338573 C15.9215495,101.295887 35.3710985,113.504153 57,113.504153 C78.6289015,113.504153 98.0784505,101.295887 107.66923,82.338573 L106.33077,81.661427 Z\">\n",
      "                </path>\n",
      "               </svg>\n",
      "              </div>\n",
      "             </div>\n",
      "            </a>\n",
      "           </div>\n",
      "           <div class=\"u-flex1 u-paddingLeft15 u-overflowHidden\">\n",
      "            <a class=\"link link link--darken link--darker u-baseColor--link\" data-action=\"show-user-card\" data-action-source=\"post_header_lockup\" data-action-type=\"hover\" data-action-value=\"d7bc7439af1b\" data-user-id=\"d7bc7439af1b\" dir=\"auto\" href=\"https://medium.com/@Cernovich?source=post_header_lockup\">\n",
      "             Mike Cernovich\n",
      "            </a>\n",
      "            <span class=\"followState js-followState buttonSet-inner\" data-user-id=\"d7bc7439af1b\">\n",
      "             <button class=\"button u-paddingLeft10 u-paddingRight10 u-height19 u-lineHeight13 u-verticalAlignMiddle u-fontSize12 u-uiTextMedium u-noUserSelect button--withChrome u-baseColor--buttonNormal button--withHover button--unblock js-unblockButton u-marginLeft10 u-marginTopNegative2 u-xs-hide\" data-action=\"sign-in-prompt\" data-action-source=\"post_header_lockup\" data-requires-token=\"true\" data-sign-in-action=\"toggle-block-user\">\n",
      "              <span class=\"button-label button-defaultState\">\n",
      "               Blocked\n",
      "              </span>\n",
      "              <span class=\"button-label button-hoverState\">\n",
      "               Unblock\n",
      "              </span>\n",
      "             </button>\n",
      "             <button class=\"button button--primary u-paddingLeft10 u-paddingRight10 u-height19 u-lineHeight13 u-verticalAlignMiddle u-fontSize12 u-uiTextMedium u-noUserSelect button--withChrome u-accentColor--buttonNormal button--follow js-followButton u-marginLeft10 u-marginTopNegative2 u-xs-hide\" data-action=\"sign-in-prompt\" data-action-source=\"post_header_lockup_follow\" data-redirect=\"https://medium.com/_/subscribe/user/d7bc7439af1b\" data-requires-token=\"true\" data-sign-in-action=\"toggle-subscribe-user\">\n",
      "              <span class=\"button-label button-defaultState js-buttonLabel\">\n",
      "               Follow\n",
      "              </span>\n",
      "              <span class=\"button-label button-activeState\">\n",
      "               Following\n",
      "              </span>\n",
      "             </button>\n",
      "            </span>\n",
      "            <div class=\"postMetaInline u-noWrapWithEllipsis u-xs-normalWrap u-xs-lineClamp2\">\n",
      "             Mike Cernovich is a journalist, documentary filmmaker and best-selling author of Gorilla Mindset. http://amzn.to/2n8aNJF\n",
      "            </div>\n",
      "            <div class=\"postMetaInline js-testPostMetaInlineSupplemental\">\n",
      "             <time datetime=\"2017-04-03T01:02:31.052Z\">\n",
      "              Apr 2\n",
      "             </time>\n",
      "             <span class=\"middotDivider u-fontSize12\">\n",
      "             </span>\n",
      "             <span class=\"readingTime\" title=\"3 min read\">\n",
      "             </span>\n",
      "            </div>\n",
      "           </div>\n",
      "          </div>\n",
      "         </div>\n",
      "        </div>\n",
      "       </header>\n",
      "       <div class=\"postArticle-content js-postField js-notesSource js-trackedPost\" data-post-id=\"30085b5cff16\" data-source=\"post_page\" data-tracking-context=\"postPage\">\n",
      "        <section class=\"section section--body section--first section--last\" name=\"a80e\">\n",
      "         <div class=\"section-divider\">\n",
      "          <hr class=\"section-divider\"/>\n",
      "         </div>\n",
      "         <div class=\"section-content\">\n",
      "          <div class=\"section-inner sectionLayout--insetColumn\">\n",
      "           <h1 class=\"graf graf--h3 graf--leading graf--title\" id=\"3b88\" name=\"3b88\">\n",
      "            <strong class=\"markup--strong markup--h3-strong\">\n",
      "             Susan Rice\n",
      "            </strong>\n",
      "            Requested Unmasking of Incoming Trump Administration Officials\n",
      "           </h1>\n",
      "           <p class=\"graf graf--p graf-after--h3\" id=\"db40\" name=\"db40\">\n",
      "            Susan Rice, who served as the National Security Adviser under President Obama, has been identified as the official who requested unmasking of incoming Trump officials, Cernovich Media can exclusively report.\n",
      "           </p>\n",
      "           <p class=\"graf graf--p graf-after--p\" id=\"a3ea\" name=\"a3ea\">\n",
      "            The White House Counsel’s office identified Rice as the person responsible for the unmasking after examining Rice’s document log requests. The reports Rice requested to see are kept under tightly-controlled conditions. Each person must log her name before being granted access to them.\n",
      "           </p>\n",
      "           <p class=\"graf graf--p graf-after--p\" id=\"c2b7\" name=\"c2b7\">\n",
      "            Upon learning of Rice’s actions, H. R. McMaster dispatched his close aide Derek Harvey to Capitol Hill to brief Chairman Nunes.\n",
      "           </p>\n",
      "           <p class=\"graf graf--p graf--startsWithDoubleQuote graf-after--p\" id=\"2765\" name=\"2765\">\n",
      "            “Unmasking” is the process of identifying individuals whose communications were caught in the dragnet of intelligence gathering. While conducting investigations into terrorism and other related crimes, intelligence analysts incidentally capture conversations about parties not subject to the search warrant. The identities of individuals who are not under investigation are kept confidential, for legal and moral reasons.\n",
      "           </p>\n",
      "           <figure class=\"graf graf--figure graf-after--p\" id=\"4865\" name=\"4865\">\n",
      "            <div class=\"aspectRatioPlaceholder is-locked\" style=\"max-width: 480px; max-height: 360px;\">\n",
      "             <div class=\"aspectRatioPlaceholder-fill\" style=\"padding-bottom: 75%;\">\n",
      "             </div>\n",
      "             <img class=\"graf-image\" data-height=\"360\" data-image-id=\"1*oOBiBxzsAPZoBoZdI2RGSQ.jpeg\" data-width=\"480\" src=\"https://cdn-images-1.medium.com/max/800/1*oOBiBxzsAPZoBoZdI2RGSQ.jpeg\"/>\n",
      "            </div>\n",
      "           </figure>\n",
      "           <p class=\"graf graf--p graf-after--figure\" id=\"ca24\" name=\"ca24\">\n",
      "            Under President Obama, the unmasking rules were changed.\n",
      "            <a class=\"markup--anchor markup--p-anchor\" data-href=\"http://circa.com/politics/barack-obama-changed-how-nsa-intercepts-of-americans-like-donald-trump-could-be-shared\" href=\"http://circa.com/politics/barack-obama-changed-how-nsa-intercepts-of-americans-like-donald-trump-could-be-shared\" rel=\"nofollow noopener\" target=\"_blank\">\n",
      "             Circa originally reported\n",
      "            </a>\n",
      "            :\n",
      "           </p>\n",
      "           <blockquote class=\"graf graf--blockquote graf-after--p\" id=\"dc4f\" name=\"dc4f\">\n",
      "            As his presidency drew to a close, Barack Obama’s top aides routinely reviewed intelligence reports gleaned from the National Security Agency’s incidental intercepts of Americans abroad, taking advantage of rules their boss relaxed starting in 2011 to help the government better fight terrorism, espionage by foreign enemies and hacking threats, Circa has learned.\n",
      "           </blockquote>\n",
      "           <p class=\"graf graf--p graf-after--blockquote\" id=\"fc80\" name=\"fc80\">\n",
      "            Three people close to President Obama,\n",
      "            <a class=\"markup--anchor markup--p-anchor\" data-href=\"http://www.businessinsider.com/state-department-susan-rice-benghazi-2016-6\" href=\"http://www.businessinsider.com/state-department-susan-rice-benghazi-2016-6\" rel=\"nofollow noopener\" target=\"_blank\">\n",
      "             including his “fall guy” for Benghazi (Susan Rice)\n",
      "            </a>\n",
      "            , had authorization to unmask.\n",
      "           </p>\n",
      "           <blockquote class=\"graf graf--blockquote graf-after--p\" id=\"b1cc\" name=\"b1cc\">\n",
      "            Among those cleared to request and consume unmasked NSA-based intelligence reports about U.S. citizens were Obama’s national security adviser Susan Rice, his CIA Director John Brennan and then-Attorney General Loretta Lynch.\n",
      "           </blockquote>\n",
      "           <p class=\"graf graf--p graf-after--blockquote\" id=\"a74f\" name=\"a74f\">\n",
      "            Not even mainstream outlets denied that some Trump officials had been spied on,\n",
      "            <a class=\"markup--anchor markup--p-anchor\" data-href=\"https://www.nytimes.com/2017/03/30/us/politics/devin-nunes-intelligence-reports.html\" href=\"https://www.nytimes.com/2017/03/30/us/politics/devin-nunes-intelligence-reports.html\" rel=\"nofollow noopener\" target=\"_blank\">\n",
      "             with the NY Times reporting\n",
      "            </a>\n",
      "            :\n",
      "           </p>\n",
      "           <blockquote class=\"graf graf--blockquote graf-after--p\" id=\"decc\" name=\"decc\">\n",
      "            WASHINGTON — A pair of White House officials helped provide Representative Devin Nunes of California, a Republican and the chairman of the House Intelligence Committee, with the\n",
      "            <strong class=\"markup--strong markup--blockquote-strong\">\n",
      "             intelligence reports that showed that President Trump and his associates were incidentally swept up in foreign surveillance by American spy agencies\n",
      "            </strong>\n",
      "            .\n",
      "           </blockquote>\n",
      "           <p class=\"graf graf--p graf-after--blockquote\" id=\"05af\" name=\"05af\">\n",
      "            According to WaPo,\n",
      "            <a class=\"markup--anchor markup--p-anchor\" data-href=\"https://www.washingtonpost.com/world/national-security/three-white-house-officials-tied-to-files-shared-with-house-intelligence-chairman/2017/03/30/de4b8c30-1589-11e7-9e4f-09aa75d3ec57_story.html?utm_term=.c38dd1b33fc1\" href=\"https://www.washingtonpost.com/world/national-security/three-white-house-officials-tied-to-files-shared-with-house-intelligence-chairman/2017/03/30/de4b8c30-1589-11e7-9e4f-09aa75d3ec57_story.html?utm_term=.c38dd1b33fc1\" rel=\"nofollow noopener\" target=\"_blank\">\n",
      "             there were three sources for the reports\n",
      "            </a>\n",
      "            , with Michael Ellis ultimately being blamed by WaPo and AP.\n",
      "           </p>\n",
      "           <p class=\"graf graf--p graf-after--p\" id=\"f9c0\" name=\"f9c0\">\n",
      "            What’s striking about the Times story is the spin it took. Trump had previously claimed he had been “wire tapped” (quotation marks in his original Tweet), leading to media screams that he prove it. The Times’ own reporting proves that President Trump and his associates were spied on.\n",
      "           </p>\n",
      "           <p class=\"graf graf--p graf-after--p\" id=\"eb1d\" name=\"eb1d\">\n",
      "            The Times, rather than admit Trump had been vindicated, instead focused its attention on the question of who leaked the reports to Nunes:\n",
      "           </p>\n",
      "           <blockquote class=\"graf graf--blockquote graf-after--p\" id=\"05d6\" name=\"05d6\">\n",
      "            Since disclosing the existence of the intelligence reports, Mr. Nunes has refused to identify his sources, saying he needed to protect them so others would feel safe going to the committee with sensitive information. In his public comments, he has described his sources as whistle-blowers trying to expose wrongdoing at great risk to themselves.\n",
      "           </blockquote>\n",
      "           <p class=\"graf graf--p graf-after--blockquote\" id=\"9328\" name=\"9328\">\n",
      "            Since when did journalists attempt to unmask sources? The Times, WaPo, and other outlets rely on anonymous sources in nearly every article about national security. It’s clear they have an agenda — that agenda is not telling the truth.\n",
      "           </p>\n",
      "           <p class=\"graf graf--p graf-after--p\" id=\"0eea\" name=\"0eea\">\n",
      "            This reporter has been informed that Maggie Haberman has had this story about Susan Rice for at least 48 hours, and has chosen to sit on it in an effort to protect the reputation of former President Barack Obama.\n",
      "           </p>\n",
      "           <p class=\"graf graf--p graf-after--p\" id=\"9666\" name=\"9666\">\n",
      "            — —\n",
      "           </p>\n",
      "           <p class=\"graf graf--p graf-after--p graf--trailing\" id=\"5766\" name=\"5766\">\n",
      "            <a class=\"markup--anchor markup--p-anchor\" data-href=\"https://medium.com/@Cernovich/about-mike-cernovich-64b0db7d73f4\" href=\"https://medium.com/@Cernovich/about-mike-cernovich-64b0db7d73f4\" target=\"_blank\">\n",
      "             Mike Cernovich\n",
      "            </a>\n",
      "            is a journalist, lawyer, author, and\n",
      "            <a class=\"markup--anchor markup--p-anchor\" data-href=\"https://www.amazon.com/Silenced-Alan-Dershowitz/dp/B06XS7K1TJ/\" href=\"https://www.amazon.com/Silenced-Alan-Dershowitz/dp/B06XS7K1TJ/\" rel=\"nofollow noopener\" target=\"_blank\">\n",
      "             filmmaker\n",
      "            </a>\n",
      "            . Cernovich Media is not owned by large corporate donors or robber barons.\n",
      "            <a class=\"markup--anchor markup--p-anchor\" data-href=\"https://medium.com/@Cernovich/pesos-for-play-how-a-mexican-robber-barron-turned-the-new-york-times-into-his-personal-blog-2403c4590dd0\" href=\"https://medium.com/@Cernovich/pesos-for-play-how-a-mexican-robber-barron-turned-the-new-york-times-into-his-personal-blog-2403c4590dd0\" target=\"_blank\">\n",
      "             The NY Times’ largest shareholder (whose very word can crash the stock, crippling 401K and other retirement plans) is Carlos Slim\n",
      "            </a>\n",
      "            . WaPo is owned by Jeff Bezos, who has a $600 million contract with deep state.\n",
      "            <a class=\"markup--anchor markup--p-anchor\" data-href=\"https://medium.com/@Cernovich/wapo-in-pay-for-play-scandal-phony-experts-given-free-pr-leading-to-questions-about-money-59b8911bbbbf\" href=\"https://medium.com/@Cernovich/wapo-in-pay-for-play-scandal-phony-experts-given-free-pr-leading-to-questions-about-money-59b8911bbbbf\" target=\"_blank\">\n",
      "             WaPo has also been caught in a pay-for-play scandal\n",
      "            </a>\n",
      "            .\n",
      "           </p>\n",
      "          </div>\n",
      "         </div>\n",
      "        </section>\n",
      "       </div>\n",
      "       <footer class=\"u-paddingTop10\">\n",
      "        <div class=\"container u-maxWidth740\">\n",
      "         <div class=\"row\">\n",
      "          <div class=\"col u-size12of12\">\n",
      "          </div>\n",
      "         </div>\n",
      "         <div class=\"row\">\n",
      "          <div class=\"col u-size12of12 js-postTags\">\n",
      "           <div class=\"u-paddingBottom10\">\n",
      "            <ul class=\"tags tags--postTags tags--borderless\">\n",
      "             <li>\n",
      "              <a class=\"link u-baseColor--link\" data-action-source=\"post\" href=\"https://medium.com/tag/mike-cernovich?source=post\">\n",
      "               Mike Cernovich\n",
      "              </a>\n",
      "             </li>\n",
      "             <li>\n",
      "              <a class=\"link u-baseColor--link\" data-action-source=\"post\" href=\"https://medium.com/tag/journalism?source=post\">\n",
      "               Journalism\n",
      "              </a>\n",
      "             </li>\n",
      "             <li>\n",
      "              <a class=\"link u-baseColor--link\" data-action-source=\"post\" href=\"https://medium.com/tag/national-security?source=post\">\n",
      "               National Security\n",
      "              </a>\n",
      "             </li>\n",
      "             <li>\n",
      "              <a class=\"link u-baseColor--link\" data-action-source=\"post\" href=\"https://medium.com/tag/susan-rice?source=post\">\n",
      "               Susan Rice\n",
      "              </a>\n",
      "             </li>\n",
      "             <li>\n",
      "              <a class=\"link u-baseColor--link\" data-action-source=\"post\" href=\"https://medium.com/tag/unmasking?source=post\">\n",
      "               Unmasking\n",
      "              </a>\n",
      "             </li>\n",
      "            </ul>\n",
      "           </div>\n",
      "          </div>\n",
      "         </div>\n",
      "         <div class=\"row js-postActionsFooter\">\n",
      "          <div class=\"postActions col u-size12of12\">\n",
      "           <div class=\"u-floatLeft buttonSet buttonSet--withLabels\">\n",
      "            <div class=\"buttonSet-inner\">\n",
      "             <div class=\"js-actionRecommend\" data-has-recommend-list=\"true\" data-is-icon-29px=\"true\" data-post-id=\"30085b5cff16\" data-source=\"post_actions_footer\">\n",
      "              <button aria-label=\"Recommend to share this article with your followers and let the author know you liked it\" class=\"button button--primary button--large button--chromeless is-touchIconFadeInPulse u-accentColor--buttonNormal button--withIcon button--withSvgIcon u-accentColor--iconLight js-actionRecommendButton\" data-action=\"sign-in-prompt\" data-action-source=\"post_actions_footer\" data-redirect=\"https://medium.com/_/vote/p/30085b5cff16\" data-requires-token=\"true\" data-sign-in-action=\"upvote\" title=\"Recommend to share this article with your followers and let the author know you liked it\">\n",
      "               <span class=\"button-defaultState\">\n",
      "                <span class=\"svgIcon svgIcon--heart svgIcon--29px\">\n",
      "                 <svg class=\"svgIcon-use\" height=\"29\" viewbox=\"0 0 29 29\" width=\"29\">\n",
      "                  <path d=\"M16.215 23.716c-.348.288-.984.826-1.376 1.158a.526.526 0 0 1-.68 0c-.36-.307-.92-.78-1.22-1.03C9.22 20.734 3 15.527 3 10.734 3 7.02 5.916 4 9.5 4c1.948 0 3.77.898 5 2.434C15.73 4.898 17.552 4 19.5 4c3.584 0 6.5 3.02 6.5 6.734 0 4.9-6.125 9.96-9.785 12.982zM19.5 5.2c-1.774 0-3.423.923-4.41 2.468a.699.699 0 0 1-.59.323.706.706 0 0 1-.59-.32c-.988-1.54-2.637-2.47-4.41-2.47-2.922 0-5.3 2.49-5.3 5.54 0 4.23 6.19 9.41 9.517 12.19.217.18.566.48.783.66l.952-.79c3.496-2.88 9.348-7.72 9.348-12.05 0-3.05-2.378-5.53-5.3-5.53z\">\n",
      "                  </path>\n",
      "                 </svg>\n",
      "                </span>\n",
      "               </span>\n",
      "               <span class=\"button-activeState\">\n",
      "                <span class=\"svgIcon svgIcon--heartFilled svgIcon--29px\">\n",
      "                 <svg class=\"svgIcon-use\" height=\"29\" viewbox=\"0 0 29 29\" width=\"29\">\n",
      "                  <path d=\"M19.5 4c-1.948 0-3.77.898-5 2.434C13.27 4.898 11.448 4 9.5 4 5.916 4 3 7.02 3 10.734c0 4.793 6.227 10 9.95 13.11.296.25.853.723 1.212 1.03.196.166.48.166.677 0 .39-.332 1.02-.87 1.37-1.158 3.66-3.022 9.79-8.08 9.79-12.982C26 7.02 23.08 4 19.5 4z\" fill-rule=\"evenodd\">\n",
      "                  </path>\n",
      "                 </svg>\n",
      "                </span>\n",
      "               </span>\n",
      "              </button>\n",
      "              <button class=\"button button--chromeless u-baseColor--buttonNormal\" data-action=\"show-recommends\" data-action-value=\"30085b5cff16\">\n",
      "               396\n",
      "              </button>\n",
      "             </div>\n",
      "            </div>\n",
      "            <div class=\"buttonSet-inner\">\n",
      "             <button class=\"button button--large button--dark button--chromeless is-touchIconBlackPulse u-baseColor--buttonDark button--withIcon button--withSvgIcon\" data-action=\"scroll-to-responses\" data-action-source=\"post_actions_footer\">\n",
      "              <span class=\"svgIcon svgIcon--response svgIcon--29px\">\n",
      "               <svg class=\"svgIcon-use\" height=\"29\" viewbox=\"0 0 29 29\" width=\"29\">\n",
      "                <path d=\"M21.27 20.058c1.89-1.826 2.754-4.17 2.754-6.674C24.024 8.21 19.67 4 14.1 4 8.53 4 4 8.21 4 13.384c0 5.175 4.53 9.385 10.1 9.385 1.007 0 2-.14 2.95-.41.285.25.592.49.918.7 1.306.87 2.716 1.31 4.19 1.31.276-.01.494-.14.6-.36a.625.625 0 0 0-.052-.65c-.61-.84-1.042-1.71-1.282-2.58a5.417 5.417 0 0 1-.154-.75zm-3.85 1.324l-.083-.28-.388.12a9.72 9.72 0 0 1-2.85.424c-4.96 0-8.99-3.706-8.99-8.262 0-4.556 4.03-8.263 8.99-8.263 4.95 0 8.77 3.71 8.77 8.27 0 2.25-.75 4.35-2.5 5.92l-.24.21v.32c0 .07 0 .19.02.37.03.29.1.6.19.92.19.7.49 1.4.89 2.08-.93-.14-1.83-.49-2.67-1.06-.34-.22-.88-.48-1.16-.74z\">\n",
      "                </path>\n",
      "               </svg>\n",
      "              </span>\n",
      "             </button>\n",
      "             <button class=\"button button--chromeless u-baseColor--buttonNormal\" data-action=\"scroll-to-responses\">\n",
      "              99\n",
      "             </button>\n",
      "            </div>\n",
      "           </div>\n",
      "           <div class=\"u-floatRight buttonSet buttonSet--narrow\">\n",
      "            <button aria-label=\"Share on Twitter\" class=\"button button--large button--dark button--chromeless is-touchIconBlackPulse u-baseColor--buttonDark button--withIcon button--withSvgIcon\" data-action=\"share-on-twitter\" data-action-source=\"post_actions_footer\" title=\"Share on Twitter\">\n",
      "             <span class=\"svgIcon svgIcon--twitter svgIcon--29px\">\n",
      "              <svg class=\"svgIcon-use\" height=\"29\" viewbox=\"0 0 29 29\" width=\"29\">\n",
      "               <path d=\"M21.967 11.8c.018 5.93-4.607 11.18-11.177 11.18-2.172 0-4.25-.62-6.047-1.76l-.268.422-.038.5.186.013.168.012c.3.02.44.032.6.046 2.06-.026 3.95-.686 5.49-1.86l1.12-.85-1.4-.048c-1.57-.055-2.92-1.08-3.36-2.51l-.48.146-.05.5c.22.03.48.05.75.08.48-.02.87-.07 1.25-.15l2.33-.49-2.32-.49c-1.68-.35-2.91-1.83-2.91-3.55 0-.05 0-.01-.01.03l-.49-.1-.25.44c.63.36 1.35.57 2.07.58l1.7.04L7.4 13c-.978-.662-1.59-1.79-1.618-3.047a4.08 4.08 0 0 1 .524-1.8l-.825.07a12.188 12.188 0 0 0 8.81 4.515l.59.033-.06-.59v-.02c-.05-.43-.06-.63-.06-.87a3.617 3.617 0 0 1 6.27-2.45l.2.21.28-.06c1.01-.22 1.94-.59 2.73-1.09l-.75-.56c-.1.36-.04.89.12 1.36.23.68.58 1.13 1.17.85l-.21-.45-.42-.27c-.52.8-1.17 1.48-1.92 2L22 11l.016.28c.013.2.014.35 0 .52v.04zm.998.038c.018-.22.017-.417 0-.66l-.498.034.284.41a8.183 8.183 0 0 0 2.2-2.267l.97-1.48-1.6.755c.17-.08.3-.02.34.03a.914.914 0 0 1-.13-.292c-.1-.297-.13-.64-.1-.766l.36-1.254-1.1.695c-.69.438-1.51.764-2.41.963l.48.15a4.574 4.574 0 0 0-3.38-1.484 4.616 4.616 0 0 0-4.61 4.613c0 .29.02.51.08.984l.01.02.5-.06.03-.5c-3.17-.18-6.1-1.7-8.08-4.15l-.48-.56-.36.64c-.39.69-.62 1.48-.65 2.28.04 1.61.81 3.04 2.06 3.88l.3-.92c-.55-.02-1.11-.17-1.6-.45l-.59-.34-.14.67c-.02.08-.02.16 0 .24-.01 2.12 1.55 4.01 3.69 4.46l.1-.49-.1-.49c-.33.07-.67.12-1.03.14-.18-.02-.43-.05-.64-.07l-.76-.09.23.73c.57 1.84 2.29 3.14 4.28 3.21l-.28-.89a8.252 8.252 0 0 1-4.85 1.66c-.12-.01-.26-.02-.56-.05l-.17-.01-.18-.01L2.53 21l1.694 1.07a12.233 12.233 0 0 0 6.58 1.917c7.156 0 12.2-5.73 12.18-12.18l-.002.04z\">\n",
      "               </path>\n",
      "              </svg>\n",
      "             </span>\n",
      "            </button>\n",
      "            <button aria-label=\"Share on Facebook\" class=\"button button--large button--dark button--chromeless is-touchIconBlackPulse u-baseColor--buttonDark button--withIcon button--withSvgIcon\" data-action=\"share-on-facebook\" data-action-source=\"post_actions_footer\" title=\"Share on Facebook\">\n",
      "             <span class=\"svgIcon svgIcon--facebook svgIcon--29px\">\n",
      "              <svg class=\"svgIcon-use\" height=\"29\" viewbox=\"0 0 29 29\" width=\"29\">\n",
      "               <path d=\"M16.39 23.61v-5.808h1.846a.55.55 0 0 0 .546-.48l.36-2.797a.551.551 0 0 0-.547-.62H16.39V12.67c0-.67.12-.813.828-.813h1.474a.55.55 0 0 0 .55-.55V8.803a.55.55 0 0 0-.477-.545c-.436-.06-1.36-.116-2.22-.116-2.5 0-4.13 1.62-4.13 4.248v1.513H10.56a.551.551 0 0 0-.55.55v2.797c0 .304.248.55.55.55h1.855v5.76c-4.172-.96-7.215-4.7-7.215-9.1 0-5.17 4.17-9.36 9.31-9.36 5.14 0 9.31 4.19 9.31 9.36 0 4.48-3.155 8.27-7.43 9.15M14.51 4C8.76 4 4.1 8.684 4.1 14.46c0 5.162 3.75 9.523 8.778 10.32a.55.55 0 0 0 .637-.543v-6.985a.551.551 0 0 0-.55-.55H11.11v-1.697h1.855a.55.55 0 0 0 .55-.55v-2.063c0-2.02 1.136-3.148 3.03-3.148.567 0 1.156.027 1.597.06v1.453h-.924c-1.363 0-1.93.675-1.93 1.912v1.78c0 .3.247.55.55.55h2.132l-.218 1.69H15.84c-.305 0-.55.24-.55.55v7.02c0 .33.293.59.623.54 5.135-.7 9.007-5.11 9.007-10.36C24.92 8.68 20.26 4 14.51 4\">\n",
      "               </path>\n",
      "              </svg>\n",
      "             </span>\n",
      "            </button>\n",
      "           </div>\n",
      "          </div>\n",
      "         </div>\n",
      "        </div>\n",
      "        <div class=\"js-postPromotionWrapper postPromotionWrapper\" data-location-id=\"footer_above_post_attribution\">\n",
      "        </div>\n",
      "        <div class=\"container u-maxWidth740 js-postAttributionFooterContainer u-paddingTop20 u-paddingBottom20 u-marginTop10 u-borderTopLightest u-xs-paddingTop10 u-xs-paddingBottom10\">\n",
      "         <div class=\"row js-postFooterInfo\">\n",
      "          <div class=\"col u-size12of12\">\n",
      "           <li class=\"u-block u-paddingBottom18 js-cardUser\">\n",
      "            <div class=\"u-marginLeft20 u-floatRight\">\n",
      "             <span class=\"followState js-followState buttonSet-inner\" data-user-id=\"d7bc7439af1b\">\n",
      "              <button class=\"button button--small u-noUserSelect button--withChrome u-baseColor--buttonNormal button--withHover button--unblock js-unblockButton\" data-action=\"sign-in-prompt\" data-action-source=\"footer_card\" data-requires-token=\"true\" data-sign-in-action=\"toggle-block-user\">\n",
      "               <span class=\"button-label button-defaultState\">\n",
      "                Blocked\n",
      "               </span>\n",
      "               <span class=\"button-label button-hoverState\">\n",
      "                Unblock\n",
      "               </span>\n",
      "              </button>\n",
      "              <button class=\"button button--primary button--small u-noUserSelect button--withChrome u-accentColor--buttonNormal button--follow js-followButton\" data-action=\"sign-in-prompt\" data-action-source=\"footer_card_follow\" data-redirect=\"https://medium.com/_/subscribe/user/d7bc7439af1b\" data-requires-token=\"true\" data-sign-in-action=\"toggle-subscribe-user\">\n",
      "               <span class=\"button-label button-defaultState js-buttonLabel\">\n",
      "                Follow\n",
      "               </span>\n",
      "               <span class=\"button-label button-activeState\">\n",
      "                Following\n",
      "               </span>\n",
      "              </button>\n",
      "             </span>\n",
      "            </div>\n",
      "            <div class=\"u-tableCell \">\n",
      "             <a aria-label=\"Go to the profile of Mike Cernovich\" class=\"link avatar u-baseColor--link\" data-action-source=\"footer_card\" data-user-id=\"d7bc7439af1b\" dir=\"auto\" href=\"https://medium.com/@Cernovich?source=footer_card\" title=\"Go to the profile of Mike Cernovich\">\n",
      "              <div class=\"u-relative u-inlineBlock\">\n",
      "               <img alt=\"Go to the profile of Mike Cernovich\" class=\"avatar-image avatar-image--small\" src=\"https://cdn-images-1.medium.com/fit/c/60/60/0*-rfSB-n7vALDJT8j.jpg\"/>\n",
      "               <div class=\"u-absolute u-tintSpectrum u-accentColor--iconNormal u-textColorGreenNormal svgIcon\" style=\"width: calc(100% + 12px); height: calc(100% + 12px); top:-6px; left:-6px\">\n",
      "                <svg viewbox=\"0 0 114 114\" xmlns=\"http://www.w3.org/2000/svg\">\n",
      "                 <path d=\"M7.66922967,32.092726 C17.0070768,13.6353618 35.9421928,1.75 57,1.75 C78.0578072,1.75 96.9929232,13.6353618 106.33077,32.092726 L107.66923,31.4155801 C98.0784505,12.4582656 78.6289015,0.25 57,0.25 C35.3710985,0.25 15.9215495,12.4582656 6.33077033,31.4155801 L7.66922967,32.092726 Z\">\n",
      "                 </path>\n",
      "                 <path d=\"M106.33077,81.661427 C96.9929232,100.118791 78.0578072,112.004153 57,112.004153 C35.9421928,112.004153 17.0070768,100.118791 7.66922967,81.661427 L6.33077033,82.338573 C15.9215495,101.295887 35.3710985,113.504153 57,113.504153 C78.6289015,113.504153 98.0784505,101.295887 107.66923,82.338573 L106.33077,81.661427 Z\">\n",
      "                 </path>\n",
      "                </svg>\n",
      "               </div>\n",
      "              </div>\n",
      "             </a>\n",
      "            </div>\n",
      "            <div class=\"u-tableCell u-verticalAlignMiddle u-breakWord u-paddingLeft15\">\n",
      "             <h3 class=\"u-fontSize18 u-lineHeightTighter\">\n",
      "              <a aria-label=\"Go to the profile of Mike Cernovich\" class=\"link link--primary u-accentColor--hoverTextNormal\" data-user-id=\"d7bc7439af1b\" dir=\"auto\" href=\"https://medium.com/@Cernovich\" property=\"cc:attributionName\" rel=\"author cc:attributionUrl\" title=\"Go to the profile of Mike Cernovich\">\n",
      "               Mike Cernovich\n",
      "              </a>\n",
      "             </h3>\n",
      "             <div class=\"u-textColorGreenNormal u-tintSpectrum u-accentColor--textNormal u-fontSize13 u-marginBottom7\">\n",
      "              Medium member since Apr 2017\n",
      "             </div>\n",
      "             <p class=\"u-fontSize14 u-lineHeightBaseSans u-textColorDark u-marginBottom4\">\n",
      "              Mike Cernovich is a journalist, documentary filmmaker and best-selling author of Gorilla Mindset.\n",
      "              <a href=\"http://amzn.to/2n8aNJF\" rel=\"nofollow\">\n",
      "               http://amzn.to/2n8aNJF\n",
      "              </a>\n",
      "             </p>\n",
      "            </div>\n",
      "           </li>\n",
      "          </div>\n",
      "         </div>\n",
      "        </div>\n",
      "        <div class=\"js-postFooterPlacements\">\n",
      "        </div>\n",
      "        <div class=\"u-padding0 u-clearfix u-backgroundGrayLightest u-print-hide supplementalPostContent js-responsesWrapper\">\n",
      "        </div>\n",
      "        <div class=\"supplementalPostContent js-readNext\">\n",
      "        </div>\n",
      "        <div class=\"supplementalPostContent js-heroPromo\">\n",
      "        </div>\n",
      "       </footer>\n",
      "      </article>\n",
      "     </main>\n",
      "     <div class=\"u-marginAuto u-maxWidth1000\">\n",
      "      <div class=\"js-postShareWidget u-foreground u-sm-hide u-transition--fadeOut300 u-fixed\">\n",
      "       <ul>\n",
      "        <li class=\"u-uiTextSemibold u-textAlignCenter u-textColorNormal u-fontSize12 u-textUppercase\">\n",
      "         Share\n",
      "        </li>\n",
      "        <li class=\"u-textAlignCenter\">\n",
      "         <div class=\"js-actionRecommend\" data-has-recommend-list=\"true\" data-is-icon-29px=\"true\" data-is-vertical=\"true\" data-post-id=\"30085b5cff16\" data-source=\"post_share_widget\">\n",
      "          <button aria-label=\"Recommend to share this article with your followers and let the author know you liked it\" class=\"button button--primary button--large button--chromeless is-touchIconFadeInPulse u-accentColor--buttonNormal button--withIcon button--withSvgIcon u-accentColor--iconLight js-actionRecommendButton\" data-action=\"sign-in-prompt\" data-action-source=\"post_share_widget\" data-redirect=\"https://medium.com/_/vote/p/30085b5cff16\" data-requires-token=\"true\" data-sign-in-action=\"upvote\" title=\"Recommend to share this article with your followers and let the author know you liked it\">\n",
      "           <span class=\"button-defaultState\">\n",
      "            <span class=\"svgIcon svgIcon--heart svgIcon--29px\">\n",
      "             <svg class=\"svgIcon-use\" height=\"29\" viewbox=\"0 0 29 29\" width=\"29\">\n",
      "              <path d=\"M16.215 23.716c-.348.288-.984.826-1.376 1.158a.526.526 0 0 1-.68 0c-.36-.307-.92-.78-1.22-1.03C9.22 20.734 3 15.527 3 10.734 3 7.02 5.916 4 9.5 4c1.948 0 3.77.898 5 2.434C15.73 4.898 17.552 4 19.5 4c3.584 0 6.5 3.02 6.5 6.734 0 4.9-6.125 9.96-9.785 12.982zM19.5 5.2c-1.774 0-3.423.923-4.41 2.468a.699.699 0 0 1-.59.323.706.706 0 0 1-.59-.32c-.988-1.54-2.637-2.47-4.41-2.47-2.922 0-5.3 2.49-5.3 5.54 0 4.23 6.19 9.41 9.517 12.19.217.18.566.48.783.66l.952-.79c3.496-2.88 9.348-7.72 9.348-12.05 0-3.05-2.378-5.53-5.3-5.53z\">\n",
      "              </path>\n",
      "             </svg>\n",
      "            </span>\n",
      "           </span>\n",
      "           <span class=\"button-activeState\">\n",
      "            <span class=\"svgIcon svgIcon--heartFilled svgIcon--29px\">\n",
      "             <svg class=\"svgIcon-use\" height=\"29\" viewbox=\"0 0 29 29\" width=\"29\">\n",
      "              <path d=\"M19.5 4c-1.948 0-3.77.898-5 2.434C13.27 4.898 11.448 4 9.5 4 5.916 4 3 7.02 3 10.734c0 4.793 6.227 10 9.95 13.11.296.25.853.723 1.212 1.03.196.166.48.166.677 0 .39-.332 1.02-.87 1.37-1.158 3.66-3.022 9.79-8.08 9.79-12.982C26 7.02 23.08 4 19.5 4z\" fill-rule=\"evenodd\">\n",
      "              </path>\n",
      "             </svg>\n",
      "            </span>\n",
      "           </span>\n",
      "          </button>\n",
      "          <button class=\"button button--chromeless u-baseColor--buttonNormal u-block u-marginAuto u-marginTopNegative5\" data-action=\"show-recommends\" data-action-value=\"30085b5cff16\">\n",
      "           396\n",
      "          </button>\n",
      "         </div>\n",
      "        </li>\n",
      "        <li class=\"u-textAlignCenter\">\n",
      "         <button aria-label=\"Share on Twitter\" class=\"button button--large button--dark button--chromeless is-touchIconBlackPulse u-baseColor--buttonDark button--withIcon button--withSvgIcon\" data-action=\"share-on-twitter\" data-action-source=\"post_share_widget\" title=\"Share on Twitter\">\n",
      "          <span class=\"svgIcon svgIcon--twitter svgIcon--29px\">\n",
      "           <svg class=\"svgIcon-use\" height=\"29\" viewbox=\"0 0 29 29\" width=\"29\">\n",
      "            <path d=\"M21.967 11.8c.018 5.93-4.607 11.18-11.177 11.18-2.172 0-4.25-.62-6.047-1.76l-.268.422-.038.5.186.013.168.012c.3.02.44.032.6.046 2.06-.026 3.95-.686 5.49-1.86l1.12-.85-1.4-.048c-1.57-.055-2.92-1.08-3.36-2.51l-.48.146-.05.5c.22.03.48.05.75.08.48-.02.87-.07 1.25-.15l2.33-.49-2.32-.49c-1.68-.35-2.91-1.83-2.91-3.55 0-.05 0-.01-.01.03l-.49-.1-.25.44c.63.36 1.35.57 2.07.58l1.7.04L7.4 13c-.978-.662-1.59-1.79-1.618-3.047a4.08 4.08 0 0 1 .524-1.8l-.825.07a12.188 12.188 0 0 0 8.81 4.515l.59.033-.06-.59v-.02c-.05-.43-.06-.63-.06-.87a3.617 3.617 0 0 1 6.27-2.45l.2.21.28-.06c1.01-.22 1.94-.59 2.73-1.09l-.75-.56c-.1.36-.04.89.12 1.36.23.68.58 1.13 1.17.85l-.21-.45-.42-.27c-.52.8-1.17 1.48-1.92 2L22 11l.016.28c.013.2.014.35 0 .52v.04zm.998.038c.018-.22.017-.417 0-.66l-.498.034.284.41a8.183 8.183 0 0 0 2.2-2.267l.97-1.48-1.6.755c.17-.08.3-.02.34.03a.914.914 0 0 1-.13-.292c-.1-.297-.13-.64-.1-.766l.36-1.254-1.1.695c-.69.438-1.51.764-2.41.963l.48.15a4.574 4.574 0 0 0-3.38-1.484 4.616 4.616 0 0 0-4.61 4.613c0 .29.02.51.08.984l.01.02.5-.06.03-.5c-3.17-.18-6.1-1.7-8.08-4.15l-.48-.56-.36.64c-.39.69-.62 1.48-.65 2.28.04 1.61.81 3.04 2.06 3.88l.3-.92c-.55-.02-1.11-.17-1.6-.45l-.59-.34-.14.67c-.02.08-.02.16 0 .24-.01 2.12 1.55 4.01 3.69 4.46l.1-.49-.1-.49c-.33.07-.67.12-1.03.14-.18-.02-.43-.05-.64-.07l-.76-.09.23.73c.57 1.84 2.29 3.14 4.28 3.21l-.28-.89a8.252 8.252 0 0 1-4.85 1.66c-.12-.01-.26-.02-.56-.05l-.17-.01-.18-.01L2.53 21l1.694 1.07a12.233 12.233 0 0 0 6.58 1.917c7.156 0 12.2-5.73 12.18-12.18l-.002.04z\">\n",
      "            </path>\n",
      "           </svg>\n",
      "          </span>\n",
      "         </button>\n",
      "        </li>\n",
      "        <li class=\"u-textAlignCenter\">\n",
      "         <button aria-label=\"Share on Facebook\" class=\"button button--large button--dark button--chromeless is-touchIconBlackPulse u-baseColor--buttonDark button--withIcon button--withSvgIcon\" data-action=\"share-on-facebook\" data-action-source=\"post_share_widget\" title=\"Share on Facebook\">\n",
      "          <span class=\"svgIcon svgIcon--facebook svgIcon--29px\">\n",
      "           <svg class=\"svgIcon-use\" height=\"29\" viewbox=\"0 0 29 29\" width=\"29\">\n",
      "            <path d=\"M16.39 23.61v-5.808h1.846a.55.55 0 0 0 .546-.48l.36-2.797a.551.551 0 0 0-.547-.62H16.39V12.67c0-.67.12-.813.828-.813h1.474a.55.55 0 0 0 .55-.55V8.803a.55.55 0 0 0-.477-.545c-.436-.06-1.36-.116-2.22-.116-2.5 0-4.13 1.62-4.13 4.248v1.513H10.56a.551.551 0 0 0-.55.55v2.797c0 .304.248.55.55.55h1.855v5.76c-4.172-.96-7.215-4.7-7.215-9.1 0-5.17 4.17-9.36 9.31-9.36 5.14 0 9.31 4.19 9.31 9.36 0 4.48-3.155 8.27-7.43 9.15M14.51 4C8.76 4 4.1 8.684 4.1 14.46c0 5.162 3.75 9.523 8.778 10.32a.55.55 0 0 0 .637-.543v-6.985a.551.551 0 0 0-.55-.55H11.11v-1.697h1.855a.55.55 0 0 0 .55-.55v-2.063c0-2.02 1.136-3.148 3.03-3.148.567 0 1.156.027 1.597.06v1.453h-.924c-1.363 0-1.93.675-1.93 1.912v1.78c0 .3.247.55.55.55h2.132l-.218 1.69H15.84c-.305 0-.55.24-.55.55v7.02c0 .33.293.59.623.54 5.135-.7 9.007-5.11 9.007-10.36C24.92 8.68 20.26 4 14.51 4\">\n",
      "            </path>\n",
      "           </svg>\n",
      "          </span>\n",
      "         </button>\n",
      "        </li>\n",
      "        <li class=\"u-textAlignCenter\">\n",
      "         <button aria-label=\"Bookmark this story to read later\" class=\"button button--large button--dark button--chromeless is-touchIconFadeInPulse u-baseColor--buttonDark button--withIcon button--withSvgIcon button--bookmark js-bookmarkButton\" data-action=\"sign-in-prompt\" data-redirect=\"https://medium.com/_/bookmark/p/30085b5cff16\" data-requires-token=\"true\" data-sign-in-action=\"add-to-bookmarks\" title=\"Bookmark this story to read later\">\n",
      "          <span class=\"button-defaultState\">\n",
      "           <span class=\"svgIcon svgIcon--bookmark svgIcon--29px\">\n",
      "            <svg class=\"svgIcon-use\" height=\"29\" viewbox=\"0 0 29 29\" width=\"29\">\n",
      "             <path d=\"M19.385 4h-9.77A2.623 2.623 0 0 0 7 6.615V23.01a1.022 1.022 0 0 0 1.595.847l5.905-4.004 5.905 4.004A1.022 1.022 0 0 0 22 23.011V6.62A2.625 2.625 0 0 0 19.385 4zM21 23l-5.91-3.955-.148-.107a.751.751 0 0 0-.884 0l-.147.107L8 23V6.615C8 5.725 8.725 5 9.615 5h9.77C20.275 5 21 5.725 21 6.615V23z\" fill-rule=\"evenodd\">\n",
      "             </path>\n",
      "            </svg>\n",
      "           </span>\n",
      "          </span>\n",
      "          <span class=\"button-activeState\">\n",
      "           <span class=\"svgIcon svgIcon--bookmarkFilled svgIcon--29px\">\n",
      "            <svg class=\"svgIcon-use\" height=\"29\" viewbox=\"0 0 29 29\" width=\"29\">\n",
      "             <path d=\"M19.385 4h-9.77A2.623 2.623 0 0 0 7 6.615V23.01a1.022 1.022 0 0 0 1.595.847l5.905-4.004 5.905 4.004A1.022 1.022 0 0 0 22 23.011V6.62A2.625 2.625 0 0 0 19.385 4z\" fill-rule=\"evenodd\">\n",
      "             </path>\n",
      "            </svg>\n",
      "           </span>\n",
      "          </span>\n",
      "         </button>\n",
      "        </li>\n",
      "       </ul>\n",
      "      </div>\n",
      "     </div>\n",
      "     <div class=\"u-fixed u-bottom0 u-sizeFullWidth u-backgroundWhite u-boxShadowTop u-borderBox u-paddingTop10 u-paddingBottom10 u-zIndexMetabar u-xs-paddingLeft10 u-xs-paddingRight10 js-stickyFooter\">\n",
      "      <div class=\"u-maxWidth700 u-marginAuto u-flexCenter\">\n",
      "       <div class=\"u-fontSize16 u-flex1 u-flexCenter\">\n",
      "        <div class=\"u-flex0 u-inlineBlock u-paddingRight20 u-xs-paddingRight10\">\n",
      "         <a class=\"link avatar u-inline u-baseColor--link\" data-action=\"show-user-card\" data-action-type=\"hover\" data-action-value=\"d7bc7439af1b\" data-user-id=\"d7bc7439af1b\" dir=\"auto\" href=\"https://medium.com/@Cernovich\">\n",
      "          <div class=\"u-relative u-inlineBlock\">\n",
      "           <img alt=\"Go to the profile of Mike Cernovich\" class=\"avatar-image avatar-image--smaller\" src=\"https://cdn-images-1.medium.com/fit/c/40/40/0*-rfSB-n7vALDJT8j.jpg\"/>\n",
      "           <div class=\"u-absolute u-tintSpectrum u-accentColor--iconNormal u-textColorGreenNormal svgIcon\" style=\"width: calc(100% + 10px); height: calc(100% + 10px); top:-5px; left:-5px\">\n",
      "            <svg viewbox=\"0 0 70 70\" xmlns=\"http://www.w3.org/2000/svg\">\n",
      "             <path d=\"M5.53538374,19.9430227 C11.180401,8.78497536 22.6271155,1.6 35.3571429,1.6 C48.0871702,1.6 59.5338847,8.78497536 65.178902,19.9430227 L66.2496695,19.401306 C60.4023065,7.84329843 48.5440457,0.4 35.3571429,0.4 C22.17024,0.4 10.3119792,7.84329843 4.46461626,19.401306 L5.53538374,19.9430227 Z\">\n",
      "             </path>\n",
      "             <path d=\"M65.178902,49.9077131 C59.5338847,61.0657604 48.0871702,68.2507358 35.3571429,68.2507358 C22.6271155,68.2507358 11.180401,61.0657604 5.53538374,49.9077131 L4.46461626,50.4494298 C10.3119792,62.0074373 22.17024,69.4507358 35.3571429,69.4507358 C48.5440457,69.4507358 60.4023065,62.0074373 66.2496695,50.4494298 L65.178902,49.9077131 Z\">\n",
      "             </path>\n",
      "            </svg>\n",
      "           </div>\n",
      "          </div>\n",
      "         </a>\n",
      "        </div>\n",
      "        <div class=\"u-flex1 u-inlineBlock\">\n",
      "         <div class=\"u-xs-hide\">\n",
      "          Never miss a story from\n",
      "          <strong>\n",
      "           Mike Cernovich\n",
      "          </strong>\n",
      "          , when you sign up for Medium.\n",
      "          <a class=\"link link--accent u-accentColor--textNormal u-accentColor--textDarken u-baseColor--link\" data-action-source=\"sticky_footer\" href=\"https://medium.com/@Medium/personalize-your-medium-experience-with-users-publications-tags-26a41ab1ee0c#.hx4zuv3mg\">\n",
      "           Learn more\n",
      "          </a>\n",
      "         </div>\n",
      "         <div class=\"u-xs-show\">\n",
      "          Never miss a story from\n",
      "          <strong>\n",
      "           Mike Cernovich\n",
      "          </strong>\n",
      "         </div>\n",
      "        </div>\n",
      "       </div>\n",
      "       <div class=\"u-marginLeft50 u-xs-marginAuto\">\n",
      "        <span class=\"followState js-followState buttonSet-inner\" data-user-id=\"d7bc7439af1b\">\n",
      "         <button class=\"button u-noUserSelect button--withChrome u-baseColor--buttonNormal button--withHover button--unblock js-unblockButton u-uiTextSemibold u-textUppercase u-fontSize12\" data-action=\"sign-in-prompt\" data-action-source=\"sticky_footer\" data-requires-token=\"true\" data-sign-in-action=\"toggle-block-user\">\n",
      "          <span class=\"button-label button-defaultState\">\n",
      "           Blocked\n",
      "          </span>\n",
      "          <span class=\"button-label button-hoverState\">\n",
      "           Unblock\n",
      "          </span>\n",
      "         </button>\n",
      "         <button class=\"button button--primary is-active u-noUserSelect button--withChrome u-accentColor--buttonNormal button--follow js-followButton u-uiTextSemibold u-textUppercase u-fontSize12\" data-action=\"sign-in-prompt\" data-action-source=\"sticky_footer_follow\" data-redirect=\"https://medium.com/_/subscribe/user/d7bc7439af1b\" data-requires-token=\"true\" data-sign-in-action=\"toggle-subscribe-user\">\n",
      "          <span class=\"button-label button-defaultState js-buttonLabel\">\n",
      "           Follow\n",
      "          </span>\n",
      "          <span class=\"button-label button-activeState\">\n",
      "           Get updates\n",
      "          </span>\n",
      "         </button>\n",
      "        </span>\n",
      "       </div>\n",
      "      </div>\n",
      "     </div>\n",
      "    </div>\n",
      "   </div>\n",
      "  </div>\n",
      "  <div class=\"loadingBar\">\n",
      "  </div>\n",
      "  <script>\n",
      "   // <![CDATA[\n",
      "window[\"obvInit\"] = function (opt_embedded) {window[\"obvInit\"][\"embedded\"] = opt_embedded; window[\"obvInit\"][\"ready\"] = true;}\n",
      "// ]]>\n",
      "  </script>\n",
      "  <script>\n",
      "   // <![CDATA[\n",
      "var GLOBALS = {\"audioUrl\":\"https://d1fcbxp97j4nb2.cloudfront.net\",\"baseUrl\":\"https://medium.com\",\"buildLabel\":\"28848-a784ea9\",\"currentUser\":{\"userId\":\"lo_3b3955a5b59c\",\"isVerified\":false,\"subscriberEmail\":\"\"},\"currentUserHasUnverifiedEmail\":false,\"isAuthenticated\":false,\"isCurrentUserVerified\":false,\"mediumTwitterScreenName\":\"medium\",\"miroUrl\":\"https://cdn-images-1.medium.com\",\"moduleUrls\":{\"base\":\"https://cdn-static-1.medium.com/_/fp/gen-js/main-base.bundle.KjxU8e2Gom8fXomNfS10mw.js\",\"notes\":\"https://cdn-static-1.medium.com/_/fp/gen-js/main-notes.bundle.08hd9CFuQPpT3V1mJ8Ty4w.js\",\"posters\":\"https://cdn-static-1.medium.com/_/fp/gen-js/main-posters.bundle.NzMEUAdp8G4wlpBYGDUVHg.js\",\"common-async\":\"https://cdn-static-1.medium.com/_/fp/gen-js/main-common-async.bundle.MmLo4vREpvmQffuHx8Ifdg.js\",\"stats\":\"https://cdn-static-1.medium.com/_/fp/gen-js/main-stats.bundle.mgt_b7t_8elp9Sg4BeTM3g.js\",\"home-screens\":\"https://cdn-static-1.medium.com/_/fp/gen-js/main-home-screens.bundle.Y5DrENAzKltxlbfYWgyUXg.js\",\"misc-screens\":\"https://cdn-static-1.medium.com/_/fp/gen-js/main-misc-screens.bundle.VjV_h-eKsHtV1N8ePGH_hw.js\"},\"previewConfig\":{\"weightThreshold\":1,\"weightImageParagraph\":0.51,\"weightIframeParagraph\":0.8,\"weightTextParagraph\":0.08,\"weightEmptyParagraph\":0,\"weightP\":0.003,\"weightH\":0.005,\"weightBq\":0.003,\"minPTextLength\":60,\"truncateBoundaryChars\":20,\"detectTitle\":true,\"detectTitleLevThreshold\":0.15},\"productName\":\"Medium\",\"supportsEdit\":false,\"termsUrl\":\"//medium.com/policy/9db0094a1e0f\",\"textshotHost\":\"textshot.medium.com\",\"transactionId\":\"1494009341662:9abdab8316b0\",\"useragent\":{\"browser\":\"python requests\",\"family\":\"\",\"os\":\"\",\"version\":2.13,\"supportsDesktopEdit\":false,\"supportsInteract\":false,\"supportsView\":true,\"isMobile\":false,\"isTablet\":false,\"isNative\":false,\"supportsFileAPI\":false,\"isTier1\":false,\"clientVersion\":\"\",\"unknownParagraphsBad\":false,\"clientChannel\":\"\",\"supportsRealScrollEvents\":false,\"supportsVhUnits\":false,\"ruinsViewportSections\":false,\"supportsHtml5Video\":false,\"supportsMagicUnderlines\":false,\"isWebView\":false,\"isFacebookWebView\":false,\"supportsProgressiveMedia\":false,\"supportsPromotedPosts\":true,\"isBot\":false,\"isNativeIphone\":false,\"supportsCssVariables\":false,\"supportsScrollableMetabar\":false},\"variants\":{\"allow_access\":true,\"allow_signup\":true,\"allow_test_auth\":\"disallow\",\"signin_services\":\"twitter,facebook,google,email,google-fastidv\",\"signup_services\":\"twitter,facebook,google,email,google-fastidv\",\"android_rating_prompt_recommend_threshold\":5,\"google_sign_in_android\":true,\"enable_onboarding\":true,\"ios_custom_miro_url\":\"https://cdn-images-1.medium.com\",\"reengagement_notification_duration\":3,\"enable_adsnative_integration\":true,\"browsable_stream_config_bucket\":\"curated-topics\",\"ios_small_post_preview_truncation_length\":5.5,\"ios_large_post_preview_truncation_length\":5.5,\"disable_ios_catalog_badging\":true,\"enable_series_creation\":true,\"enable_your_series_pages\":true,\"enable_productionized_series\":true,\"enable_dedicated_series_tab_api_ios\":true,\"enable_clap_milestone_notifications\":true,\"enable_series_stats_page\":true,\"enable_prepublish_share_settings\":true,\"enable_direct_auth_connect\":true,\"enable_post_import\":true,\"enable_sponsored_post_labelling\":true,\"enable_logged_in_follow_on_collection_post\":true,\"promoted_story_placement_locations\":\"POST_PAGE_FOOTER,POST_PAGE_BELOW_POST_ACTIONS\",\"show_topics\":true,\"enable_search_collection_by_tag_recency_filter\":true,\"search_collection_by_tag_filter_min_votes\":10,\"enable_sms_app_promo\":true,\"enable_export_members\":true,\"enable_series_card_background_creation\":true,\"enable_new_stats_source\":true,\"can_see_subscription_branding\":true,\"enable_subscriptions_landing_page\":true,\"enable_partner_program_landing_page\":true,\"enable_hide_broken_links\":true,\"enable_pay_for_custom_domain\":true,\"enable_promos_from_dynamo\":true,\"enable_promos_in_placement\":true,\"double_write_post_from_followed_tag_items\":true,\"enable_series_promo_in_email\":true,\"enable_sms\":true,\"enable_series_in_user_profiles\":true,\"enable_new_logged_out_bento_operation\":true,\"enable_featured_image_selector\":true,\"num_of_tags_suggested_on_publish\":3},\"xsrfToken\":\"\",\"iosAppId\":\"828256236\",\"supportEmail\":\"yourfriends@medium.com\",\"teamName\":\"Team Medium\",\"fp\":{\"/icons/favicon.svg\":\"https://cdn-static-1.medium.com/_/fp/icons/favicon.KjTfUJo7yJH_fCoUzzH3cg.svg\",\"/icons/favicon-dev-editor.ico\":\"https://cdn-static-1.medium.com/_/fp/icons/favicon-dev-editor.YKKRxBO8EMvIqhyCwIiJeQ.ico\",\"/icons/favicon-hatch-editor.ico\":\"https://cdn-static-1.medium.com/_/fp/icons/favicon-hatch-editor.BuEyHIqlyh2s_XEk4Rl32Q.ico\",\"/icons/favicon-medium-editor.ico\":\"https://cdn-static-1.medium.com/_/fp/icons/favicon-medium-editor.PiakrZWB7Yb80quUVQWM6g.ico\"},\"authBaseUrl\":\"https://medium.com\",\"imageUploadSizeMb\":25,\"isAuthDomainRequest\":true,\"algoliaApiEndpoint\":\"https://MQ57UUUQZ2-dsn.algolia.net\",\"algoliaAppId\":\"MQ57UUUQZ2\",\"algoliaSearchOnlyApiKey\":\"394474ced050e3911ae2249ecc774921\",\"iosAppStoreUrl\":\"https://itunes.apple.com/app/medium-everyones-stories/id828256236?pt=698524&mt=8\",\"iosAppLinkBaseUrl\":\"medium:\",\"algoliaIndexPrefix\":\"medium_\",\"androidPlayStoreUrl\":\"https://play.google.com/store/apps/details?id=com.medium.reader\",\"googleClientId\":\"216296035834-k1k6qe060s2tp2a2jam4ljdcms00sttg.apps.googleusercontent.com\",\"androidPackage\":\"com.medium.reader\",\"androidPlayStoreMarketScheme\":\"market://details?id=com.medium.reader\",\"googleAuthUri\":\"https://accounts.google.com/o/oauth2/auth\",\"androidScheme\":\"medium\",\"layoutData\":{\"useDynamicScripts\":false,\"googleAnalyticsTrackingCode\":\"UA-24232453-2\",\"jsShivUrl\":\"https://cdn-static-1.medium.com/_/fp/js/shiv.RI2ePTZ5gFmMgLzG5bEVAA.js\",\"useDynamicCss\":false,\"faviconUrl\":\"https://cdn-static-1.medium.com/_/fp/icons/favicon-medium.TAS6uQ-Y7kcKgi0xjcYHXw.ico\",\"faviconImageId\":\"1*W0nmth_X8nFKjn6BZ388UQ.png\",\"fontSets\":[{\"id\":1,\"url\":\"https://cdn-static-1.medium.com/_/fp/css/fonts-base.by5Oi_VbnwEIvhnWIsuUjA.css\"},{\"id\":4,\"url\":\"https://cdn-static-1.medium.com/_/fp/css/fonts-lazy-base.g08Jj5TZPAiuPWj5YNUsSg.css\"},{\"id\":6,\"url\":\"https://cdn-static-1.medium.com/_/fp/css/fonts-latin-base.141WxxXgxGxNcfeza73H7Q.css\"},{\"id\":7,\"url\":\"https://cdn-static-1.medium.com/_/fp/css/fonts-lazy-latin-base.jMU532QDmysQMOINr-cr2A.css\"}],\"editorFaviconUrl\":\"https://cdn-static-1.medium.com/_/fp/icons/favicon-medium-editor.PiakrZWB7Yb80quUVQWM6g.ico\"},\"authBaseUrlRev\":\"moc.muidem//:sptth\",\"isDnt\":false,\"stripePublishableKey\":\"pk_live_7FReX44VnNIInZwrIIx6ghjl\",\"archiveUploadSizeMb\":100,\"paymentData\":{\"currencies\":{\"1\":{\"label\":\"US Dollar\",\"external\":\"usd\"}},\"countries\":{\"1\":{\"label\":\"United States of America\",\"external\":\"US\"}},\"accountTypes\":{\"1\":{\"label\":\"Individual\",\"external\":\"individual\"},\"2\":{\"label\":\"Company\",\"external\":\"company\"}}},\"previewConfig2\":{\"weightThreshold\":1,\"weightImageParagraph\":0.05,\"raiseImage\":true,\"enforceHeaderHierarchy\":true,\"isImageInsetRight\":true},\"isAmp\":false,\"iosScheme\":\"medium\",\"isSwBoot\":false,\"lightstep\":{\"accessToken\":\"ce5be895bef60919541332990ac9fef2\",\"carrier\":\"{\\\"ot-tracer-spanid\\\":\\\"119b0fef177f65a3\\\",\\\"ot-tracer-traceid\\\":\\\"6f97c97d4e719abd\\\",\\\"ot-tracer-sampled\\\":\\\"true\\\"}\",\"host\":\"collector-medium.lightstep.com\"},\"facebook\":{\"key\":\"542599432471018\",\"secret\":\"c14df7146e9052a1131f3c900c1f0644\",\"token\":\"542599432471018|1JqjIwxSfY9jOt_KwjWEl1R7T6I\",\"namespace\":\"medium-com\",\"scope\":{\"default\":[\"public_profile\",\"email\",\"user_friends\"],\"connect\":[\"public_profile\",\"email\",\"user_friends\"],\"login\":[\"public_profile\",\"email\",\"user_friends\"],\"share\":[\"public_profile\",\"email\",\"user_friends\",\"publish_actions\"]},\"smartPublishWhitelistedPublications\":[\"bcc38c8f6edf\",\"f3726e2a5878\",\"828a270689e\",\"81c7d351c056\",\"f30e42fd7ff8\",\"8bf1d7d3081b\",\"d16afa0ae7c\",\"d8f3f6ad9c31\",\"e74de0cedea9\",\"15f753907972\",\"c8c6a6b01ebd\",\"3412b9729488\",\"2ce4bbcf83bb\",\"544c7006046e\",\"7bfcdbc6b30a\",\"a268fd916824\",\"458a773bccd2\"],\"instantArticles\":{\"published\":true,\"developmentMode\":false}},\"mailingListArchiveUploadSizeMb\":2,\"availableMembershipPlans\":[],\"editorsPicksTopicId\":\"3985d2a191c5\",\"popularOnMediumTopicId\":\"9d34e48ecf94\",\"memberContentTopicId\":\"13d7efd82fb2\",\"isDoNotAuth\":false,\"goldfinchUrl\":\"https://goldfinch.medium.com\",\"buggleUrl\":\"https://buggle.medium.com\",\"buggleAudioUrl\":\"https://s3.amazonaws.com/medium-assets-audio\"}\n",
      "// ]]>\n",
      "  </script>\n",
      "  <script async=\"\" charset=\"UTF-8\" src=\"https://cdn-static-1.medium.com/_/fp/gen-js/main-base.bundle.KjxU8e2Gom8fXomNfS10mw.js\">\n",
      "  </script>\n",
      "  <script>\n",
      "   // <![CDATA[\n",
      "window[\"obvInit\"]({\"value\":{\"id\":\"30085b5cff16\",\"versionId\":\"f88842ebd719\",\"creatorId\":\"d7bc7439af1b\",\"creator\":{\"userId\":\"d7bc7439af1b\",\"name\":\"Mike Cernovich\",\"username\":\"Cernovich\",\"createdAt\":1489357015503,\"lastPostCreatedAt\":1494003161307,\"imageId\":\"0*-rfSB-n7vALDJT8j.jpg\",\"backgroundImageId\":\"\",\"bio\":\"Mike Cernovich is a journalist, documentary filmmaker and best-selling author of Gorilla Mindset. http://amzn.to/2n8aNJF\",\"twitterScreenName\":\"Cernovich\",\"socialStats\":{\"userId\":\"d7bc7439af1b\",\"usersFollowedCount\":320,\"usersFollowedByCount\":12974,\"type\":\"SocialStats\"},\"social\":{\"userId\":\"lo_3b3955a5b59c\",\"targetUserId\":\"d7bc7439af1b\",\"type\":\"Social\"},\"facebookAccountId\":\"10212456601874188\",\"allowNotes\":1,\"mediumMemberAt\":1491695507000,\"type\":\"User\"},\"homeCollectionId\":\"\",\"title\":\"Susan Rice Requested Unmasking of Incoming Trump Administration Officials\",\"detectedLanguage\":\"en\",\"latestVersion\":\"f88842ebd719\",\"latestPublishedVersion\":\"f88842ebd719\",\"hasUnpublishedEdits\":false,\"latestRev\":323,\"createdAt\":1491177638804,\"updatedAt\":1493963316768,\"acceptedAt\":0,\"firstPublishedAt\":1491181351052,\"latestPublishedAt\":1491181351052,\"vote\":false,\"experimentalCss\":\"\",\"displayAuthor\":\"\",\"content\":{\"subtitle\":\"Susan Rice, who served as the National Security Adviser under President Obama, has been identified as the official who requested unmasking…\",\"bodyModel\":{\"paragraphs\":[{\"name\":\"3b88\",\"type\":3,\"text\":\"Susan Rice Requested Unmasking of Incoming Trump Administration Officials\",\"markups\":[{\"type\":1,\"start\":0,\"end\":10}]},{\"name\":\"db40\",\"type\":1,\"text\":\"Susan Rice, who served as the National Security Adviser under President Obama, has been identified as the official who requested unmasking of incoming Trump officials, Cernovich Media can exclusively report.\",\"markups\":[]},{\"name\":\"a3ea\",\"type\":1,\"text\":\"The White House Counsel’s office identified Rice as the person responsible for the unmasking after examining Rice’s document log requests. The reports Rice requested to see are kept under tightly-controlled conditions. Each person must log her name before being granted access to them.\",\"markups\":[]},{\"name\":\"c2b7\",\"type\":1,\"text\":\"Upon learning of Rice’s actions, H. R. McMaster dispatched his close aide Derek Harvey to Capitol Hill to brief Chairman Nunes.\",\"markups\":[]},{\"name\":\"2765\",\"type\":1,\"text\":\"“Unmasking” is the process of identifying individuals whose communications were caught in the dragnet of intelligence gathering. While conducting investigations into terrorism and other related crimes, intelligence analysts incidentally capture conversations about parties not subject to the search warrant. The identities of individuals who are not under investigation are kept confidential, for legal and moral reasons.\",\"markups\":[]},{\"name\":\"4865\",\"type\":4,\"text\":\"\",\"markups\":[],\"layout\":1,\"metadata\":{\"id\":\"1*oOBiBxzsAPZoBoZdI2RGSQ.jpeg\",\"originalWidth\":480,\"originalHeight\":360}},{\"name\":\"ca24\",\"type\":1,\"text\":\"Under President Obama, the unmasking rules were changed. Circa originally reported:\",\"markups\":[{\"type\":3,\"start\":57,\"end\":82,\"href\":\"http://circa.com/politics/barack-obama-changed-how-nsa-intercepts-of-americans-like-donald-trump-could-be-shared\",\"title\":\"\",\"rel\":\"\",\"anchorType\":0}]},{\"name\":\"dc4f\",\"type\":6,\"text\":\"As his presidency drew to a close, Barack Obama’s top aides routinely reviewed intelligence reports gleaned from the National Security Agency’s incidental intercepts of Americans abroad, taking advantage of rules their boss relaxed starting in 2011 to help the government better fight terrorism, espionage by foreign enemies and hacking threats, Circa has learned.\",\"markups\":[]},{\"name\":\"fc80\",\"type\":1,\"text\":\"Three people close to President Obama, including his “fall guy” for Benghazi (Susan Rice), had authorization to unmask.\",\"markups\":[{\"type\":3,\"start\":39,\"end\":89,\"href\":\"http://www.businessinsider.com/state-department-susan-rice-benghazi-2016-6\",\"title\":\"\",\"rel\":\"\",\"anchorType\":0}]},{\"name\":\"b1cc\",\"type\":6,\"text\":\"Among those cleared to request and consume unmasked NSA-based intelligence reports about U.S. citizens were Obama’s national security adviser Susan Rice, his CIA Director John Brennan and then-Attorney General Loretta Lynch.\",\"markups\":[]},{\"name\":\"a74f\",\"type\":1,\"text\":\"Not even mainstream outlets denied that some Trump officials had been spied on, with the NY Times reporting:\",\"markups\":[{\"type\":3,\"start\":80,\"end\":107,\"href\":\"https://www.nytimes.com/2017/03/30/us/politics/devin-nunes-intelligence-reports.html\",\"title\":\"\",\"rel\":\"\",\"anchorType\":0}]},{\"name\":\"decc\",\"type\":6,\"text\":\"WASHINGTON — A pair of White House officials helped provide Representative Devin Nunes of California, a Republican and the chairman of the House Intelligence Committee, with the intelligence reports that showed that President Trump and his associates were incidentally swept up in foreign surveillance by American spy agencies.\",\"markups\":[{\"type\":1,\"start\":178,\"end\":326}]},{\"name\":\"05af\",\"type\":1,\"text\":\"According to WaPo, there were three sources for the reports, with Michael Ellis ultimately being blamed by WaPo and AP.\",\"markups\":[{\"type\":3,\"start\":19,\"end\":59,\"href\":\"https://www.washingtonpost.com/world/national-security/three-white-house-officials-tied-to-files-shared-with-house-intelligence-chairman/2017/03/30/de4b8c30-1589-11e7-9e4f-09aa75d3ec57_story.html?utm_term=.c38dd1b33fc1\",\"title\":\"\",\"rel\":\"\",\"anchorType\":0}]},{\"name\":\"f9c0\",\"type\":1,\"text\":\"What’s striking about the Times story is the spin it took. Trump had previously claimed he had been “wire tapped” (quotation marks in his original Tweet), leading to media screams that he prove it. The Times’ own reporting proves that President Trump and his associates were spied on.\",\"markups\":[]},{\"name\":\"eb1d\",\"type\":1,\"text\":\"The Times, rather than admit Trump had been vindicated, instead focused its attention on the question of who leaked the reports to Nunes:\",\"markups\":[]},{\"name\":\"05d6\",\"type\":6,\"text\":\"Since disclosing the existence of the intelligence reports, Mr. Nunes has refused to identify his sources, saying he needed to protect them so others would feel safe going to the committee with sensitive information. In his public comments, he has described his sources as whistle-blowers trying to expose wrongdoing at great risk to themselves.\",\"markups\":[]},{\"name\":\"9328\",\"type\":1,\"text\":\"Since when did journalists attempt to unmask sources? The Times, WaPo, and other outlets rely on anonymous sources in nearly every article about national security. It’s clear they have an agenda — that agenda is not telling the truth.\",\"markups\":[]},{\"name\":\"0eea\",\"type\":1,\"text\":\"This reporter has been informed that Maggie Haberman has had this story about Susan Rice for at least 48 hours, and has chosen to sit on it in an effort to protect the reputation of former President Barack Obama.\",\"markups\":[]},{\"name\":\"9666\",\"type\":1,\"text\":\"— —\",\"markups\":[]},{\"name\":\"5766\",\"type\":1,\"text\":\"Mike Cernovich is a journalist, lawyer, author, and filmmaker. Cernovich Media is not owned by large corporate donors or robber barons. The NY Times’ largest shareholder (whose very word can crash the stock, crippling 401K and other retirement plans) is Carlos Slim. WaPo is owned by Jeff Bezos, who has a $600 million contract with deep state. WaPo has also been caught in a pay-for-play scandal.\",\"markups\":[{\"type\":3,\"start\":0,\"end\":14,\"href\":\"https://medium.com/@Cernovich/about-mike-cernovich-64b0db7d73f4\",\"title\":\"\",\"rel\":\"\",\"anchorType\":0},{\"type\":3,\"start\":52,\"end\":61,\"href\":\"https://www.amazon.com/Silenced-Alan-Dershowitz/dp/B06XS7K1TJ/\",\"title\":\"\",\"rel\":\"\",\"anchorType\":0},{\"type\":3,\"start\":136,\"end\":265,\"href\":\"https://medium.com/@Cernovich/pesos-for-play-how-a-mexican-robber-barron-turned-the-new-york-times-into-his-personal-blog-2403c4590dd0\",\"title\":\"\",\"rel\":\"\",\"anchorType\":0},{\"type\":3,\"start\":345,\"end\":396,\"href\":\"https://medium.com/@Cernovich/wapo-in-pay-for-play-scandal-phony-experts-given-free-pr-leading-to-questions-about-money-59b8911bbbbf\",\"title\":\"\",\"rel\":\"\",\"anchorType\":0}]}],\"sections\":[{\"name\":\"a80e\",\"startIndex\":0}]},\"postDisplay\":{\"coverless\":true}},\"virtuals\":{\"allowNotes\":true,\"previewImage\":{\"imageId\":\"1*oOBiBxzsAPZoBoZdI2RGSQ.jpeg\",\"filter\":\"\",\"backgroundSize\":\"\",\"originalWidth\":480,\"originalHeight\":360,\"strategy\":\"resample\",\"height\":0,\"width\":0},\"wordCount\":635,\"imageCount\":1,\"readingTime\":2.59622641509434,\"subtitle\":\"Susan Rice, who served as the National Security Adviser under President Obama, has been identified as the official who requested unmasking…\",\"usersBySocialRecommends\":[],\"recommends\":396,\"socialRecommends\":[],\"isBookmarked\":false,\"tags\":[{\"slug\":\"mike-cernovich\",\"name\":\"Mike Cernovich\",\"postCount\":129,\"virtuals\":{\"isFollowing\":false},\"metadata\":{\"followerCount\":54,\"postCount\":129,\"coverImage\":{\"id\":\"1*uB24p4-qdnL3m5FmGKTrEQ.jpeg\",\"originalWidth\":1170,\"originalHeight\":1357,\"isFeatured\":true}},\"type\":\"Tag\"},{\"slug\":\"journalism\",\"name\":\"Journalism\",\"postCount\":22010,\"virtuals\":{\"isFollowing\":false},\"metadata\":{\"followerCount\":459137,\"postCount\":22010,\"coverImage\":{\"id\":\"1*QeMHAHnL3vgcEOB3zv8cBQ.jpeg\"}},\"type\":\"Tag\"},{\"slug\":\"national-security\",\"name\":\"National Security\",\"postCount\":478,\"virtuals\":{\"isFollowing\":false},\"metadata\":{\"followerCount\":50,\"postCount\":478,\"coverImage\":{\"id\":\"1*kwl5y52rrR5-Z2fD065YIg.png\",\"originalWidth\":976,\"originalHeight\":930}},\"type\":\"Tag\"},{\"slug\":\"susan-rice\",\"name\":\"Susan Rice\",\"postCount\":87,\"virtuals\":{\"isFollowing\":false},\"metadata\":{\"followerCount\":1,\"postCount\":87,\"coverImage\":{\"id\":\"1*NYakpq9yI8vAE2vuqxlUPA@2x.jpeg\",\"originalWidth\":550,\"originalHeight\":420,\"backgroundSize\":\"\",\"filter\":\"\",\"isFeatured\":false,\"externalSrc\":\"\",\"focusPercentX\":-1,\"focusPercentY\":-1,\"alt\":\"\"}},\"type\":\"Tag\"},{\"slug\":\"unmasking\",\"name\":\"Unmasking\",\"postCount\":2,\"virtuals\":{\"isFollowing\":false},\"metadata\":{\"followerCount\":3,\"postCount\":2,\"coverImage\":{\"id\":\"1*BHqRKjSVmb37SXKgRBEGqQ.jpeg\",\"originalWidth\":600,\"originalHeight\":360}},\"type\":\"Tag\"}],\"socialRecommendsCount\":0,\"responsesCreatedCount\":99,\"links\":{\"entries\":[{\"url\":\"http://www.businessinsider.com/state-department-susan-rice-benghazi-2016-6\",\"alts\":[{\"type\":1,\"url\":\"https://cdn.ampproject.org/c/s/amp.businessinsider.com/state-department-susan-rice-benghazi-2016-6\"}]},{\"url\":\"https://www.washingtonpost.com/world/national-security/three-white-house-officials-tied-to-files-shared-with-house-intelligence-chairman/2017/03/30/de4b8c30-1589-11e7-9e4f-09aa75d3ec57_story.html?utm_term=.c38dd1b33fc1\",\"alts\":[{\"type\":1,\"url\":\"https://cdn.ampproject.org/c/s/www.washingtonpost.com/amphtml/world/national-security/three-white-house-officials-tied-to-files-shared-with-house-intelligence-chairman/2017/03/30/de4b8c30-1589-11e7-9e4f-09aa75d3ec57_story.html\"}]},{\"url\":\"https://www.nytimes.com/2017/03/30/us/politics/devin-nunes-intelligence-reports.html\",\"alts\":[{\"type\":3,\"url\":\"nytimes://reader/id/100000005017751\"},{\"type\":2,\"url\":\"nytimes://www.nytimes.com/2017/03/30/us/politics/devin-nunes-intelligence-reports.html\"}]},{\"url\":\"https://medium.com/@Cernovich/about-mike-cernovich-64b0db7d73f4\",\"alts\":[{\"type\":2,\"url\":\"medium://p/64b0db7d73f4\"},{\"type\":3,\"url\":\"medium://p/64b0db7d73f4\"}]},{\"url\":\"https://medium.com/@Cernovich/pesos-for-play-how-a-mexican-robber-barron-turned-the-new-york-times-into-his-personal-blog-2403c4590dd0\",\"alts\":[{\"type\":3,\"url\":\"medium://p/2403c4590dd0\"},{\"type\":2,\"url\":\"medium://p/2403c4590dd0\"}]},{\"url\":\"https://medium.com/@Cernovich/wapo-in-pay-for-play-scandal-phony-experts-given-free-pr-leading-to-questions-about-money-59b8911bbbbf\",\"alts\":[{\"type\":3,\"url\":\"medium://p/59b8911bbbbf\"},{\"type\":2,\"url\":\"medium://p/59b8911bbbbf\"}]}],\"version\":\"0.3\",\"generatedAt\":1491181351957},\"isLockedPreviewOnly\":false,\"takeoverId\":\"\",\"metaDescription\":\"\",\"totalClapCount\":0},\"coverless\":true,\"slug\":\"susan-rice-requested-unmasking-of-incoming-trump-administration-officials\",\"translationSourcePostId\":\"\",\"translationSourceCreatorId\":\"\",\"isApprovedTranslation\":false,\"inResponseToPostId\":\"\",\"inResponseToRemovedAt\":0,\"isTitleSynthesized\":true,\"allowResponses\":true,\"importedUrl\":\"\",\"importedPublishedAt\":0,\"visibility\":0,\"uniqueSlug\":\"susan-rice-requested-unmasking-of-incoming-trump-administration-officials-30085b5cff16\",\"previewContent\":{\"bodyModel\":{\"paragraphs\":[{\"name\":\"3b88\",\"type\":3,\"text\":\"Susan Rice Requested Unmasking of Incoming Trump Administration Officials\",\"markups\":[{\"type\":1,\"start\":0,\"end\":10}],\"alignment\":1},{\"name\":\"db40\",\"type\":1,\"text\":\"Susan Rice, who served as the National Security Adviser under President Obama, has been identified as the official who requested unmasking of incoming Trump officials, Cernovich Media can exclusively…\",\"markups\":[],\"alignment\":1}],\"sections\":[{\"startIndex\":0}]},\"isFullContent\":false},\"license\":0,\"inResponseToMediaResourceId\":\"\",\"canonicalUrl\":\"https://medium.com/@Cernovich/susan-rice-requested-unmasking-of-incoming-trump-administration-officials-30085b5cff16\",\"approvedHomeCollectionId\":\"\",\"newsletterId\":\"\",\"webCanonicalUrl\":\"https://medium.com/@Cernovich/susan-rice-requested-unmasking-of-incoming-trump-administration-officials-30085b5cff16\",\"mediumUrl\":\"https://medium.com/@Cernovich/susan-rice-requested-unmasking-of-incoming-trump-administration-officials-30085b5cff16\",\"migrationId\":\"\",\"notifyFollowers\":true,\"notifyTwitter\":true,\"isSponsored\":false,\"isRequestToPubDisabled\":false,\"notifyFacebook\":true,\"responseHiddenOnParentPostAt\":0,\"isSeries\":false,\"isSubscriptionLocked\":false,\"seriesLastAppendedAt\":0,\"audioVersionDurationSec\":0,\"type\":\"Post\"},\"mentionedUsers\":[],\"collaborators\":[],\"membershipPlans\":[],\"collectionUserRelations\":[],\"mode\":null,\"references\":{\"User\":{\"d7bc7439af1b\":{\"userId\":\"d7bc7439af1b\",\"name\":\"Mike Cernovich\",\"username\":\"Cernovich\",\"createdAt\":1489357015503,\"lastPostCreatedAt\":1494003161307,\"imageId\":\"0*-rfSB-n7vALDJT8j.jpg\",\"backgroundImageId\":\"\",\"bio\":\"Mike Cernovich is a journalist, documentary filmmaker and best-selling author of Gorilla Mindset. http://amzn.to/2n8aNJF\",\"twitterScreenName\":\"Cernovich\",\"socialStats\":{\"userId\":\"d7bc7439af1b\",\"usersFollowedCount\":320,\"usersFollowedByCount\":12974,\"type\":\"SocialStats\"},\"social\":{\"userId\":\"lo_3b3955a5b59c\",\"targetUserId\":\"d7bc7439af1b\",\"type\":\"Social\"},\"facebookAccountId\":\"10212456601874188\",\"allowNotes\":1,\"mediumMemberAt\":1491695507000,\"type\":\"User\"}},\"Social\":{\"d7bc7439af1b\":{\"userId\":\"lo_3b3955a5b59c\",\"targetUserId\":\"d7bc7439af1b\",\"type\":\"Social\"}},\"SocialStats\":{\"d7bc7439af1b\":{\"userId\":\"d7bc7439af1b\",\"usersFollowedCount\":320,\"usersFollowedByCount\":12974,\"type\":\"SocialStats\"}}}})\n",
      "// ]]>\n",
      "  </script>\n",
      " </body>\n",
      "</html>\n"
     ]
    }
   ],
   "source": [
    "print page.prettify()"
   ]
  },
  {
   "cell_type": "code",
   "execution_count": 50,
   "metadata": {
    "collapsed": false,
    "deletable": true,
    "editable": true,
    "scrolled": true
   },
   "outputs": [
    {
     "name": "stdout",
     "output_type": "stream",
     "text": [
      "[<p class=\"graf graf--p graf-after--h3\" id=\"db40\" name=\"db40\">Susan Rice, who served as the National Security Adviser under President Obama, has been identified as the official who requested unmasking of incoming Trump officials, Cernovich Media can exclusively report.</p>, <p class=\"graf graf--p graf-after--p\" id=\"a3ea\" name=\"a3ea\">The White House Counsel\\u2019s office identified Rice as the person responsible for the unmasking after examining Rice\\u2019s document log requests. The reports Rice requested to see are kept under tightly-controlled conditions. Each person must log her name before being granted access to them.</p>, <p class=\"graf graf--p graf-after--p\" id=\"c2b7\" name=\"c2b7\">Upon learning of Rice\\u2019s actions, H. R. McMaster dispatched his close aide Derek Harvey to Capitol Hill to brief Chairman Nunes.</p>, <p class=\"graf graf--p graf--startsWithDoubleQuote graf-after--p\" id=\"2765\" name=\"2765\">\\u201cUnmasking\\u201d is the process of identifying individuals whose communications were caught in the dragnet of intelligence gathering. While conducting investigations into terrorism and other related crimes, intelligence analysts incidentally capture conversations about parties not subject to the search warrant. The identities of individuals who are not under investigation are kept confidential, for legal and moral reasons.</p>, <p class=\"graf graf--p graf-after--figure\" id=\"ca24\" name=\"ca24\">Under President Obama, the unmasking rules were changed. <a class=\"markup--anchor markup--p-anchor\" data-href=\"http://circa.com/politics/barack-obama-changed-how-nsa-intercepts-of-americans-like-donald-trump-could-be-shared\" href=\"http://circa.com/politics/barack-obama-changed-how-nsa-intercepts-of-americans-like-donald-trump-could-be-shared\" rel=\"nofollow noopener\" target=\"_blank\">Circa originally reported</a>:</p>, <p class=\"graf graf--p graf-after--blockquote\" id=\"fc80\" name=\"fc80\">Three people close to President Obama, <a class=\"markup--anchor markup--p-anchor\" data-href=\"http://www.businessinsider.com/state-department-susan-rice-benghazi-2016-6\" href=\"http://www.businessinsider.com/state-department-susan-rice-benghazi-2016-6\" rel=\"nofollow noopener\" target=\"_blank\">including his \\u201cfall guy\\u201d for Benghazi (Susan Rice)</a>, had authorization to unmask.</p>, <p class=\"graf graf--p graf-after--blockquote\" id=\"a74f\" name=\"a74f\">Not even mainstream outlets denied that some Trump officials had been spied on, <a class=\"markup--anchor markup--p-anchor\" data-href=\"https://www.nytimes.com/2017/03/30/us/politics/devin-nunes-intelligence-reports.html\" href=\"https://www.nytimes.com/2017/03/30/us/politics/devin-nunes-intelligence-reports.html\" rel=\"nofollow noopener\" target=\"_blank\">with the NY Times reporting</a>:</p>, <p class=\"graf graf--p graf-after--blockquote\" id=\"05af\" name=\"05af\">According to WaPo, <a class=\"markup--anchor markup--p-anchor\" data-href=\"https://www.washingtonpost.com/world/national-security/three-white-house-officials-tied-to-files-shared-with-house-intelligence-chairman/2017/03/30/de4b8c30-1589-11e7-9e4f-09aa75d3ec57_story.html?utm_term=.c38dd1b33fc1\" href=\"https://www.washingtonpost.com/world/national-security/three-white-house-officials-tied-to-files-shared-with-house-intelligence-chairman/2017/03/30/de4b8c30-1589-11e7-9e4f-09aa75d3ec57_story.html?utm_term=.c38dd1b33fc1\" rel=\"nofollow noopener\" target=\"_blank\">there were three sources for the reports</a>, with Michael Ellis ultimately being blamed by WaPo and AP.</p>, <p class=\"graf graf--p graf-after--p\" id=\"f9c0\" name=\"f9c0\">What\\u2019s striking about the Times story is the spin it took. Trump had previously claimed he had been \\u201cwire tapped\\u201d (quotation marks in his original Tweet), leading to media screams that he prove it. The Times\\u2019 own reporting proves that President Trump and his associates were spied on.</p>, <p class=\"graf graf--p graf-after--p\" id=\"eb1d\" name=\"eb1d\">The Times, rather than admit Trump had been vindicated, instead focused its attention on the question of who leaked the reports to Nunes:</p>, <p class=\"graf graf--p graf-after--blockquote\" id=\"9328\" name=\"9328\">Since when did journalists attempt to unmask sources? The Times, WaPo, and other outlets rely on anonymous sources in nearly every article about national security. It\\u2019s clear they have an agenda\\u200a\\u2014\\u200athat agenda is not telling the truth.</p>, <p class=\"graf graf--p graf-after--p\" id=\"0eea\" name=\"0eea\">This reporter has been informed that Maggie Haberman has had this story about Susan Rice for at least 48 hours, and has chosen to sit on it in an effort to protect the reputation of former President Barack Obama.</p>, <p class=\"graf graf--p graf-after--p\" id=\"9666\" name=\"9666\">\\u2014 \\u2014</p>, <p class=\"graf graf--p graf-after--p graf--trailing\" id=\"5766\" name=\"5766\"><a class=\"markup--anchor markup--p-anchor\" data-href=\"https://medium.com/@Cernovich/about-mike-cernovich-64b0db7d73f4\" href=\"https://medium.com/@Cernovich/about-mike-cernovich-64b0db7d73f4\" target=\"_blank\">Mike Cernovich</a> is a journalist, lawyer, author, and <a class=\"markup--anchor markup--p-anchor\" data-href=\"https://www.amazon.com/Silenced-Alan-Dershowitz/dp/B06XS7K1TJ/\" href=\"https://www.amazon.com/Silenced-Alan-Dershowitz/dp/B06XS7K1TJ/\" rel=\"nofollow noopener\" target=\"_blank\">filmmaker</a>. Cernovich Media is not owned by large corporate donors or robber barons. <a class=\"markup--anchor markup--p-anchor\" data-href=\"https://medium.com/@Cernovich/pesos-for-play-how-a-mexican-robber-barron-turned-the-new-york-times-into-his-personal-blog-2403c4590dd0\" href=\"https://medium.com/@Cernovich/pesos-for-play-how-a-mexican-robber-barron-turned-the-new-york-times-into-his-personal-blog-2403c4590dd0\" target=\"_blank\">The NY Times\\u2019 largest shareholder (whose very word can crash the stock, crippling 401K and other retirement plans) is Carlos Slim</a>. WaPo is owned by Jeff Bezos, who has a $600 million contract with deep state. <a class=\"markup--anchor markup--p-anchor\" data-href=\"https://medium.com/@Cernovich/wapo-in-pay-for-play-scandal-phony-experts-given-free-pr-leading-to-questions-about-money-59b8911bbbbf\" href=\"https://medium.com/@Cernovich/wapo-in-pay-for-play-scandal-phony-experts-given-free-pr-leading-to-questions-about-money-59b8911bbbbf\" target=\"_blank\">WaPo has also been caught in a pay-for-play scandal</a>.</p>, <p class=\"u-fontSize14 u-lineHeightBaseSans u-textColorDark u-marginBottom4\">Mike Cernovich is a journalist, documentary filmmaker and best-selling author of Gorilla Mindset. <a href=\"http://amzn.to/2n8aNJF\" rel=\"nofollow\">http://amzn.to/2n8aNJF</a></p>]\n"
     ]
    }
   ],
   "source": [
    "print page.find_all('p')"
   ]
  },
  {
   "cell_type": "code",
   "execution_count": 51,
   "metadata": {
    "collapsed": true,
    "deletable": true,
    "editable": true
   },
   "outputs": [],
   "source": [
    "Cernovich_Medium_Text = str(page.find_all('p'))"
   ]
  },
  {
   "cell_type": "code",
   "execution_count": 52,
   "metadata": {
    "collapsed": false,
    "deletable": true,
    "editable": true
   },
   "outputs": [],
   "source": [
    "#print (page.get_text())"
   ]
  },
  {
   "cell_type": "code",
   "execution_count": 53,
   "metadata": {
    "collapsed": false,
    "deletable": true,
    "editable": true
   },
   "outputs": [],
   "source": [
    "#print(page.get_text())"
   ]
  },
  {
   "cell_type": "code",
   "execution_count": 54,
   "metadata": {
    "collapsed": false,
    "deletable": true,
    "editable": true,
    "scrolled": true
   },
   "outputs": [
    {
     "name": "stdout",
     "output_type": "stream",
     "text": [
      "[nltk_data] Downloading package brown to\n",
      "[nltk_data]     /Users/christinehansen/nltk_data...\n",
      "[nltk_data]   Package brown is already up-to-date!\n",
      "[nltk_data] Downloading package punkt to\n",
      "[nltk_data]     /Users/christinehansen/nltk_data...\n",
      "[nltk_data]   Package punkt is already up-to-date!\n",
      "[nltk_data] Downloading package maxent_ne_chunker to\n",
      "[nltk_data]     /Users/christinehansen/nltk_data...\n",
      "[nltk_data]   Package maxent_ne_chunker is already up-to-date!\n",
      "[nltk_data] Downloading package words to\n",
      "[nltk_data]     /Users/christinehansen/nltk_data...\n",
      "[nltk_data]   Package words is already up-to-date!\n",
      "[nltk_data] Downloading package conll2000 to\n",
      "[nltk_data]     /Users/christinehansen/nltk_data...\n",
      "[nltk_data]   Package conll2000 is already up-to-date!\n",
      "[nltk_data] Downloading package maxent_treebank_pos_tagger to\n",
      "[nltk_data]     /Users/christinehansen/nltk_data...\n",
      "[nltk_data]   Package maxent_treebank_pos_tagger is already up-to-\n",
      "[nltk_data]       date!\n",
      "[nltk_data] Downloading package averaged_perceptron_tagger to\n",
      "[nltk_data]     /Users/christinehansen/nltk_data...\n",
      "[nltk_data]   Package averaged_perceptron_tagger is already up-to-\n",
      "[nltk_data]       date!\n"
     ]
    },
    {
     "data": {
      "text/plain": [
       "True"
      ]
     },
     "execution_count": 54,
     "metadata": {},
     "output_type": "execute_result"
    }
   ],
   "source": [
    "from nltk import download\n",
    "download('brown')\n",
    "download('punkt')\n",
    "download('maxent_ne_chunker')\n",
    "download('words')\n",
    "download('conll2000')\n",
    "download('maxent_treebank_pos_tagger')\n",
    "download('averaged_perceptron_tagger')"
   ]
  },
  {
   "cell_type": "code",
   "execution_count": 55,
   "metadata": {
    "collapsed": false,
    "deletable": true,
    "editable": true
   },
   "outputs": [],
   "source": [
    "from textblob import TextBlob\n",
    "\n",
    "Cernovich_Medium_Text_tb = TextBlob(Cernovich_Medium_Text)"
   ]
  },
  {
   "cell_type": "code",
   "execution_count": 56,
   "metadata": {
    "collapsed": false,
    "deletable": true,
    "editable": true,
    "scrolled": true
   },
   "outputs": [
    {
     "data": {
      "text/plain": [
       "WordList(['p', 'class', 'graf', 'graf', 'p', 'graf-after', 'h3', 'id', 'db40', 'name', 'db40', 'Susan', 'Rice', 'who', 'served', 'as', 'the', 'National', 'Security', 'Adviser', 'under', 'President', 'Obama', 'has', 'been', 'identified', 'as', 'the', 'official', 'who', 'requested', 'unmasking', 'of', 'incoming', 'Trump', 'officials', 'Cernovich', 'Media', 'can', 'exclusively', 'report', 'p', 'p', 'class', 'graf', 'graf', 'p', 'graf-after', 'p', 'id', 'a3ea', 'name', 'a3ea', 'The', 'White', 'House', 'Counsel\\\\u2019s', 'office', 'identified', 'Rice', 'as', 'the', 'person', 'responsible', 'for', 'the', 'unmasking', 'after', 'examining', 'Rice\\\\u2019s', 'document', 'log', 'requests', 'The', 'reports', 'Rice', 'requested', 'to', 'see', 'are', 'kept', 'under', 'tightly-controlled', 'conditions', 'Each', 'person', 'must', 'log', 'her', 'name', 'before', 'being', 'granted', 'access', 'to', 'them', 'p', 'p', 'class', 'graf', 'graf', 'p', 'graf-after', 'p', 'id', 'c2b7', 'name', 'c2b7', 'Upon', 'learning', 'of', 'Rice\\\\u2019s', 'actions', 'H', 'R', 'McMaster', 'dispatched', 'his', 'close', 'aide', 'Derek', 'Harvey', 'to', 'Capitol', 'Hill', 'to', 'brief', 'Chairman', 'Nunes', 'p', 'p', 'class', 'graf', 'graf', 'p', 'graf', 'startsWithDoubleQuote', 'graf-after', 'p', 'id', '2765', 'name', '2765', 'u201cUnmasking\\\\u201d', 'is', 'the', 'process', 'of', 'identifying', 'individuals', 'whose', 'communications', 'were', 'caught', 'in', 'the', 'dragnet', 'of', 'intelligence', 'gathering', 'While', 'conducting', 'investigations', 'into', 'terrorism', 'and', 'other', 'related', 'crimes', 'intelligence', 'analysts', 'incidentally', 'capture', 'conversations', 'about', 'parties', 'not', 'subject', 'to', 'the', 'search', 'warrant', 'The', 'identities', 'of', 'individuals', 'who', 'are', 'not', 'under', 'investigation', 'are', 'kept', 'confidential', 'for', 'legal', 'and', 'moral', 'reasons', 'p', 'p', 'class', 'graf', 'graf', 'p', 'graf-after', 'figure', 'id', 'ca24', 'name', 'ca24', 'Under', 'President', 'Obama', 'the', 'unmasking', 'rules', 'were', 'changed', 'a', 'class', 'markup', 'anchor', 'markup', 'p-anchor', 'data-href', 'http', 'circa.com/politics/barack-obama-changed-how-nsa-intercepts-of-americans-like-donald-trump-could-be-shared', 'href', 'http', 'circa.com/politics/barack-obama-changed-how-nsa-intercepts-of-americans-like-donald-trump-could-be-shared', 'rel', 'nofollow', 'noopener', 'target', 'blank', 'Circa', 'originally', 'reported', 'a', 'p', 'p', 'class', 'graf', 'graf', 'p', 'graf-after', 'blockquote', 'id', 'fc80', 'name', 'fc80', 'Three', 'people', 'close', 'to', 'President', 'Obama', 'a', 'class', 'markup', 'anchor', 'markup', 'p-anchor', 'data-href', 'http', 'www.businessinsider.com/state-department-susan-rice-benghazi-2016-6', 'href', 'http', 'www.businessinsider.com/state-department-susan-rice-benghazi-2016-6', 'rel', 'nofollow', 'noopener', 'target', 'blank', 'including', 'his', 'u201cfall', 'guy\\\\u201d', 'for', 'Benghazi', 'Susan', 'Rice', 'a', 'had', 'authorization', 'to', 'unmask', 'p', 'p', 'class', 'graf', 'graf', 'p', 'graf-after', 'blockquote', 'id', 'a74f', 'name', 'a74f', 'Not', 'even', 'mainstream', 'outlets', 'denied', 'that', 'some', 'Trump', 'officials', 'had', 'been', 'spied', 'on', 'a', 'class', 'markup', 'anchor', 'markup', 'p-anchor', 'data-href', 'https', 'www.nytimes.com/2017/03/30/us/politics/devin-nunes-intelligence-reports.html', 'href', 'https', 'www.nytimes.com/2017/03/30/us/politics/devin-nunes-intelligence-reports.html', 'rel', 'nofollow', 'noopener', 'target', 'blank', 'with', 'the', 'NY', 'Times', 'reporting', 'a', 'p', 'p', 'class', 'graf', 'graf', 'p', 'graf-after', 'blockquote', 'id', '05af', 'name', '05af', 'According', 'to', 'WaPo', 'a', 'class', 'markup', 'anchor', 'markup', 'p-anchor', 'data-href', 'https', 'www.washingtonpost.com/world/national-security/three-white-house-officials-tied-to-files-shared-with-house-intelligence-chairman/2017/03/30/de4b8c30-1589-11e7-9e4f-09aa75d3ec57_story.html', 'utm_term=.c38dd1b33fc1', 'href', 'https', 'www.washingtonpost.com/world/national-security/three-white-house-officials-tied-to-files-shared-with-house-intelligence-chairman/2017/03/30/de4b8c30-1589-11e7-9e4f-09aa75d3ec57_story.html', 'utm_term=.c38dd1b33fc1', 'rel', 'nofollow', 'noopener', 'target', 'blank', 'there', 'were', 'three', 'sources', 'for', 'the', 'reports', 'a', 'with', 'Michael', 'Ellis', 'ultimately', 'being', 'blamed', 'by', 'WaPo', 'and', 'AP', 'p', 'p', 'class', 'graf', 'graf', 'p', 'graf-after', 'p', 'id', 'f9c0', 'name', 'f9c0', 'What\\\\u2019s', 'striking', 'about', 'the', 'Times', 'story', 'is', 'the', 'spin', 'it', 'took', 'Trump', 'had', 'previously', 'claimed', 'he', 'had', 'been', 'u201cwire', 'tapped\\\\u201d', 'quotation', 'marks', 'in', 'his', 'original', 'Tweet', 'leading', 'to', 'media', 'screams', 'that', 'he', 'prove', 'it', 'The', 'Times\\\\u2019', 'own', 'reporting', 'proves', 'that', 'President', 'Trump', 'and', 'his', 'associates', 'were', 'spied', 'on', 'p', 'p', 'class', 'graf', 'graf', 'p', 'graf-after', 'p', 'id', 'eb1d', 'name', 'eb1d', 'The', 'Times', 'rather', 'than', 'admit', 'Trump', 'had', 'been', 'vindicated', 'instead', 'focused', 'its', 'attention', 'on', 'the', 'question', 'of', 'who', 'leaked', 'the', 'reports', 'to', 'Nunes', 'p', 'p', 'class', 'graf', 'graf', 'p', 'graf-after', 'blockquote', 'id', '9328', 'name', '9328', 'Since', 'when', 'did', 'journalists', 'attempt', 'to', 'unmask', 'sources', 'The', 'Times', 'WaPo', 'and', 'other', 'outlets', 'rely', 'on', 'anonymous', 'sources', 'in', 'nearly', 'every', 'article', 'about', 'national', 'security', 'It\\\\u2019s', 'clear', 'they', 'have', 'an', 'agenda\\\\u200a\\\\u2014\\\\u200athat', 'agenda', 'is', 'not', 'telling', 'the', 'truth', 'p', 'p', 'class', 'graf', 'graf', 'p', 'graf-after', 'p', 'id', '0eea', 'name', '0eea', 'This', 'reporter', 'has', 'been', 'informed', 'that', 'Maggie', 'Haberman', 'has', 'had', 'this', 'story', 'about', 'Susan', 'Rice', 'for', 'at', 'least', '48', 'hours', 'and', 'has', 'chosen', 'to', 'sit', 'on', 'it', 'in', 'an', 'effort', 'to', 'protect', 'the', 'reputation', 'of', 'former', 'President', 'Barack', 'Obama', 'p', 'p', 'class', 'graf', 'graf', 'p', 'graf-after', 'p', 'id', '9666', 'name', '9666', 'u2014', 'u2014', 'p', 'p', 'class', 'graf', 'graf', 'p', 'graf-after', 'p', 'graf', 'trailing', 'id', '5766', 'name', '5766', 'a', 'class', 'markup', 'anchor', 'markup', 'p-anchor', 'data-href', 'https', 'medium.com', 'Cernovich/about-mike-cernovich-64b0db7d73f4', 'href', 'https', 'medium.com', 'Cernovich/about-mike-cernovich-64b0db7d73f4', 'target', 'blank', 'Mike', 'Cernovich', 'a', 'is', 'a', 'journalist', 'lawyer', 'author', 'and', 'a', 'class', 'markup', 'anchor', 'markup', 'p-anchor', 'data-href', 'https', 'www.amazon.com/Silenced-Alan-Dershowitz/dp/B06XS7K1TJ', 'href', 'https', 'www.amazon.com/Silenced-Alan-Dershowitz/dp/B06XS7K1TJ', 'rel', 'nofollow', 'noopener', 'target', 'blank', 'filmmaker', 'a', 'Cernovich', 'Media', 'is', 'not', 'owned', 'by', 'large', 'corporate', 'donors', 'or', 'robber', 'barons', 'a', 'class', 'markup', 'anchor', 'markup', 'p-anchor', 'data-href', 'https', 'medium.com', 'Cernovich/pesos-for-play-how-a-mexican-robber-barron-turned-the-new-york-times-into-his-personal-blog-2403c4590dd0', 'href', 'https', 'medium.com', 'Cernovich/pesos-for-play-how-a-mexican-robber-barron-turned-the-new-york-times-into-his-personal-blog-2403c4590dd0', 'target', 'blank', 'The', 'NY', 'Times\\\\u2019', 'largest', 'shareholder', 'whose', 'very', 'word', 'can', 'crash', 'the', 'stock', 'crippling', '401K', 'and', 'other', 'retirement', 'plans', 'is', 'Carlos', 'Slim', 'a', 'WaPo', 'is', 'owned', 'by', 'Jeff', 'Bezos', 'who', 'has', 'a', '600', 'million', 'contract', 'with', 'deep', 'state', 'a', 'class', 'markup', 'anchor', 'markup', 'p-anchor', 'data-href', 'https', 'medium.com', 'Cernovich/wapo-in-pay-for-play-scandal-phony-experts-given-free-pr-leading-to-questions-about-money-59b8911bbbbf', 'href', 'https', 'medium.com', 'Cernovich/wapo-in-pay-for-play-scandal-phony-experts-given-free-pr-leading-to-questions-about-money-59b8911bbbbf', 'target', 'blank', 'WaPo', 'has', 'also', 'been', 'caught', 'in', 'a', 'pay-for-play', 'scandal', 'a', 'p', 'p', 'class', 'u-fontSize14', 'u-lineHeightBaseSans', 'u-textColorDark', 'u-marginBottom4', 'Mike', 'Cernovich', 'is', 'a', 'journalist', 'documentary', 'filmmaker', 'and', 'best-selling', 'author', 'of', 'Gorilla', 'Mindset', 'a', 'href', 'http', 'amzn.to/2n8aNJF', 'rel', 'nofollow', 'http', 'amzn.to/2n8aNJF', 'a', 'p'])"
      ]
     },
     "execution_count": 56,
     "metadata": {},
     "output_type": "execute_result"
    }
   ],
   "source": [
    "Cernovich_Medium_Text_tb.words"
   ]
  },
  {
   "cell_type": "code",
   "execution_count": 57,
   "metadata": {
    "collapsed": false,
    "deletable": true,
    "editable": true
   },
   "outputs": [],
   "source": [
    "Cernovich_NounPhrases = Cernovich_Medium_Text_tb.noun_phrases"
   ]
  },
  {
   "cell_type": "code",
   "execution_count": 58,
   "metadata": {
    "collapsed": true,
    "deletable": true,
    "editable": true
   },
   "outputs": [],
   "source": [
    "Bloomberg_url = \"https://www.bloomberg.com/view/articles/2017-04-03/top-obama-adviser-sought-names-of-trump-associates-in-intel\"\n",
    "head_data = {'From': 'as5165@columbia.edu'}\n",
    "\n",
    "response = get(Bloomberg_url,headers=head_data)    \n",
    "Bloomberg_page = BeautifulSoup(response.text)"
   ]
  },
  {
   "cell_type": "code",
   "execution_count": 59,
   "metadata": {
    "collapsed": false,
    "deletable": true,
    "editable": true
   },
   "outputs": [
    {
     "name": "stdout",
     "output_type": "stream",
     "text": [
      "<!DOCTYPE html>\n",
      "<html xmlns:cc=\"http://creativecommons.org/ns#\">\n",
      " <head prefix=\"og: http://ogp.me/ns# fb: http://ogp.me/ns/fb# medium-com: http://ogp.me/ns/fb/medium-com#\">\n",
      "  <meta content=\"text/html; charset=utf-8\" http-equiv=\"Content-Type\"/>\n",
      "  <meta content=\"width=device-width, initial-scale=1\" name=\"viewport\"/>\n",
      "  <title>\n",
      "   Susan Rice Requested Unmasking of Incoming Trump Administration Officials\n",
      "  </title>\n",
      "  <link href=\"https://medium.com/@Cernovich/susan-rice-requested-unmasking-of-incoming-trump-administration-officials-30085b5cff16\" rel=\"canonical\"/>\n",
      "  <meta content=\"Susan Rice Requested Unmasking of Incoming Trump Administration Officials\" name=\"title\"/>\n",
      "  <meta content=\"unsafe-url\" name=\"referrer\"/>\n",
      "  <meta content=\"Susan Rice, who served as the National Security Adviser under President Obama, has been identified as the official who requested unmasking of incoming Trump officials, Cernovich Media can exclusively…\" name=\"description\"/>\n",
      "  <meta content=\"#000000\" name=\"theme-color\"/>\n",
      "  <meta content=\"Susan Rice Requested Unmasking of Incoming Trump Administration Officials\" property=\"og:title\"/>\n",
      "  <meta content=\"https://medium.com/@Cernovich/susan-rice-requested-unmasking-of-incoming-trump-administration-officials-30085b5cff16\" property=\"og:url\"/>\n",
      "  <meta content=\"https://cdn-images-1.medium.com/max/1200/1*oOBiBxzsAPZoBoZdI2RGSQ.jpeg\" property=\"og:image\"/>\n",
      "  <meta content=\"542599432471018\" property=\"fb:app_id\"/>\n",
      "  <meta content=\"Susan Rice, who served as the National Security Adviser under President Obama, has been identified as the official who requested unmasking…\" property=\"og:description\"/>\n",
      "  <meta content=\"Susan Rice, who served as the National Security Adviser under President Obama, has been identified as the official who requested unmasking…\" name=\"twitter:description\"/>\n",
      "  <meta content=\"https://cdn-images-1.medium.com/max/1200/1*oOBiBxzsAPZoBoZdI2RGSQ.jpeg\" name=\"twitter:image:src\"/>\n",
      "  <link href=\"https://plus.google.com/103654360130207659246\" rel=\"publisher\"/>\n",
      "  <link href=\"https://medium.com/@Cernovich\" rel=\"author\"/>\n",
      "  <meta content=\"Mike Cernovich\" property=\"author\"/>\n",
      "  <meta content=\"article\" property=\"og:type\"/>\n",
      "  <meta content=\"summary_large_image\" name=\"twitter:card\"/>\n",
      "  <meta content=\"https://www.facebook.com/medium\" property=\"article:publisher\"/>\n",
      "  <meta content=\"https://medium.com/@Cernovich\" property=\"article:author\"/>\n",
      "  <meta content=\"noauto\" property=\"fb:smart_publish:robots\"/>\n",
      "  <meta content=\"index, follow\" name=\"robots\"/>\n",
      "  <meta content=\"2017-04-03T01:02:31.052Z\" property=\"article:published_time\"/>\n",
      "  <meta content=\"@Cernovich\" name=\"twitter:creator\"/>\n",
      "  <meta content=\"@Medium\" name=\"twitter:site\"/>\n",
      "  <meta content=\"Medium\" property=\"og:site_name\"/>\n",
      "  <meta name=\"twitter:label1\" value=\"Reading time\"/>\n",
      "  <meta name=\"twitter:data1\" value=\"3 min read\"/>\n",
      "  <script type=\"application/ld+json\">\n",
      "   {\"@context\":\"http://schema.org\",\"@type\":\"NewsArticle\",\"image\":{\"@type\":\"ImageObject\",\"width\":480,\"height\":360,\"url\":\"https://cdn-images-1.medium.com/max/480/1*oOBiBxzsAPZoBoZdI2RGSQ.jpeg\"},\"datePublished\":\"2017-04-03T01:02:31.052Z\",\"dateModified\":\"2017-05-05T05:48:36.768Z\",\"headline\":\"Susan Rice Requested Unmasking of Incoming Trump Administration Officials\",\"name\":\"Susan Rice Requested Unmasking of Incoming Trump Administration Officials\",\"keywords\":[\"Mike Cernovich\",\"Journalism\",\"National Security\",\"Susan Rice\",\"Unmasking\"],\"author\":{\"@type\":\"Person\",\"name\":\"Mike Cernovich\",\"url\":\"https://medium.com/@Cernovich\"},\"creator\":[\"Mike Cernovich\"],\"mainEntityOfPage\":\"https://medium.com/@Cernovich/susan-rice-requested-unmasking-of-incoming-trump-administration-officials-30085b5cff16\"}\n",
      "  </script>\n",
      "  <meta content=\"Medium\" name=\"twitter:app:name:iphone\"/>\n",
      "  <meta content=\"828256236\" name=\"twitter:app:id:iphone\"/>\n",
      "  <meta content=\"medium://p/30085b5cff16\" name=\"twitter:app:url:iphone\"/>\n",
      "  <meta content=\"Medium\" property=\"al:ios:app_name\"/>\n",
      "  <meta content=\"828256236\" property=\"al:ios:app_store_id\"/>\n",
      "  <meta content=\"com.medium.reader\" property=\"al:android:package\"/>\n",
      "  <meta content=\"Medium\" property=\"al:android:app_name\"/>\n",
      "  <meta content=\"medium://p/30085b5cff16\" property=\"al:ios:url\"/>\n",
      "  <meta content=\"medium://p/30085b5cff16\" property=\"al:android:url\"/>\n",
      "  <meta content=\"https://medium.com/@Cernovich/susan-rice-requested-unmasking-of-incoming-trump-administration-officials-30085b5cff16\" property=\"al:web:url\"/>\n",
      "  <link href=\"/osd.xml\" rel=\"search\" title=\"Medium\" type=\"application/opensearchdescription+xml\"/>\n",
      "  <link href=\"android-app://com.medium.reader/https/medium.com/p/30085b5cff16\" rel=\"alternate\"/>\n",
      "  <link href=\"https://cdn-static-1.medium.com/_/fp/css/main-base.hbOBa6y2abNsRv9iPnbu-w.css\" rel=\"stylesheet\"/>\n",
      "  <script>\n",
      "   if (window.top !== window.self) window.top.location = window.self.location.href;var OB_startTime = new Date().getTime(); var OB_loadErrors = []; function _onerror(e) { OB_loadErrors.push(e) }; if (document.addEventListener) document.addEventListener(\"error\", _onerror, true); else if (document.attachEvent) document.attachEvent(\"onerror\", _onerror); function _asyncScript(u) {var d = document, f = d.getElementsByTagName(\"script\")[0], s = d.createElement(\"script\"); s.type = \"text/javascript\"; s.async = true; s.src = u; f.parentNode.insertBefore(s, f);}function _asyncStyles(u) {var d = document, f = d.getElementsByTagName(\"script\")[0], s = d.createElement(\"link\"); s.rel = \"stylesheet\"; s.href = u; f.parentNode.insertBefore(s, f); return s}(new Image()).src = \"/_/stat?event=pixel.load&origin=\" + encodeURIComponent(location.origin);\n",
      "  </script>\n",
      "  <script>\n",
      "   window.ga=window.ga||function(){(ga.q=ga.q||[]).push(arguments)};ga.l=+new Date; ga(\"create\", \"UA-24232453-2\", \"auto\", {\"allowLinker\": true, \"legacyCookieDomain\": window.location.hostname}); ga(\"send\", \"pageview\");\n",
      "  </script>\n",
      "  <script async=\"\" src=\"https://www.google-analytics.com/analytics.js\">\n",
      "  </script>\n",
      "  <script>\n",
      "   (function () {var height = window.innerHeight || document.documentElement.clientHeight || document.body.clientHeight; var width = window.innerWidth || document.documentElement.clientWidth || document.body.clientWidth; document.write(\"<style>section.section-image--fullBleed.is-backgrounded {padding-top: \" + Math.round(1.1 * height) + \"px;}section.section-image--fullScreen.is-backgrounded, section.section-image--coverFade.is-backgrounded {min-height: \" + height + \"px; padding-top: \" + Math.round(0.5 * height) + \"px;}.u-sizeViewHeight100 {height: \" + height + \"px !important;}.u-sizeViewHeight110 {height: \" + Math.round(1.1 * height) + \"px !important;}.u-sizeViewHeightMin100 {min-height: \" + height + \"px !important;}.u-sizeViewHeightMax100 {max-height: \" + height + \"px !important;}section.section-image--coverFade {height: \" + height + \"px;}.section-aspectRatioViewportPlaceholder, .section-aspectRatioViewportCropPlaceholder {max-height: \" + height + \"px;}.section-aspectRatioViewportBottomSpacer, .section-aspectRatioViewportBottomPlaceholder {max-height: \" + Math.round(0.5 * height) + \"px;}.zoomable:before {top: \" + (-1 * height) + \"px; left: \" + (-1 * width) + \"px; padding: \" + height + \"px \" + width + \"px;}</style>\");})()\n",
      "  </script>\n",
      "  <!--[if lt IE 9]><script charset=\"UTF-8\" src=\"https://cdn-static-1.medium.com/_/fp/js/shiv.RI2ePTZ5gFmMgLzG5bEVAA.js\"></script><![endif]-->\n",
      "  <link class=\"js-favicon\" href=\"https://cdn-static-1.medium.com/_/fp/icons/favicon-medium.TAS6uQ-Y7kcKgi0xjcYHXw.ico\" rel=\"icon\"/>\n",
      "  <link href=\"https://cdn-images-1.medium.com/fit/c/152/152/1*W0nmth_X8nFKjn6BZ388UQ.png\" rel=\"apple-touch-icon\" sizes=\"152x152\"/>\n",
      "  <link href=\"https://cdn-images-1.medium.com/fit/c/120/120/1*W0nmth_X8nFKjn6BZ388UQ.png\" rel=\"apple-touch-icon\" sizes=\"120x120\"/>\n",
      "  <link href=\"https://cdn-images-1.medium.com/fit/c/76/76/1*W0nmth_X8nFKjn6BZ388UQ.png\" rel=\"apple-touch-icon\" sizes=\"76x76\"/>\n",
      "  <link href=\"https://cdn-images-1.medium.com/fit/c/60/60/1*W0nmth_X8nFKjn6BZ388UQ.png\" rel=\"apple-touch-icon\" sizes=\"60x60\"/>\n",
      "  <link color=\"#171717\" href=\"https://cdn-static-1.medium.com/_/fp/icons/favicon.KjTfUJo7yJH_fCoUzzH3cg.svg\" rel=\"mask-icon\"/>\n",
      " </head>\n",
      " <body class=\" postShowScreen is-noJs\" itemscope=\"\">\n",
      "  <script>\n",
      "   document.body.className = document.body.className.replace(/(^|\\s)is-noJs(\\s|$)/, \"$1is-js$2\")\n",
      "  </script>\n",
      "  <div class=\"site-main\" id=\"container\">\n",
      "   <div class=\"butterBar butterBar--error\">\n",
      "   </div>\n",
      "   <div class=\"surface\">\n",
      "    <div class=\"screenContent\" id=\"prerendered\">\n",
      "     <canvas class=\"canvas-renderer\">\n",
      "     </canvas>\n",
      "     <div class=\"container u-maxWidth740 u-xs-margin0 notesPositionContainer js-notesPositionContainer\">\n",
      "     </div>\n",
      "     <div class=\"metabar u-clearfix js-metabar\">\n",
      "      <div class=\"metabar-inner u-marginAuto u-maxWidth1000 u-paddingLeft20 u-paddingRight20 js-metabarMiddle\">\n",
      "       <div class=\"metabar-block metabar-block--left u-floatLeft u-height65 u-xs-height56\">\n",
      "        <a class=\"siteNav-logo\" data-log-event=\"home\" href=\"https://medium.com/\">\n",
      "         <span class=\"svgIcon svgIcon--logoNew svgIcon--45px is-flushLeft\">\n",
      "          <svg class=\"svgIcon-use\" data-multipart=\"true\" height=\"45\" viewbox=\"-17 18 45 45\" width=\"45\">\n",
      "           <path d=\"M11.525 28.078c-.472-.225-.858.002-.858.506v20.044l8.616 4.113c.948.46 1.717.14 1.717-.7v-19.3a.22.22 0 0 0-.124-.19l-9.35-4.46v-.01z\">\n",
      "           </path>\n",
      "           <path d=\"M.333 43.696l9.83-15.247c.278-.43.89-.6 1.36-.38l9.364 4.47c.06.03.082.1.047.15L10.666 48.63.333 43.698v-.002z\">\n",
      "           </path>\n",
      "           <path d=\"M-8.57 28.35c-.786-.375-1.053-.096-.592.62L.333 43.696l10.333 4.932L.356 32.635a.156.156 0 0 0-.06-.054l-8.866-4.23z\">\n",
      "           </path>\n",
      "           <path d=\"M.333 52.033c0 .84-.643 1.22-1.43.844l-8.045-3.84c-.472-.224-.858-.82-.858-1.325V28.89c0-.672.515-.976 1.145-.675l9.133 4.36a.092.092 0 0 1 .055.084v19.37z\">\n",
      "           </path>\n",
      "          </svg>\n",
      "         </span>\n",
      "         <span class=\"u-textScreenReader\">\n",
      "          Homepage\n",
      "         </span>\n",
      "        </a>\n",
      "       </div>\n",
      "       <div class=\"metabar-block u-floatRight u-xs-absolute u-xs-textAlignRight u-xs-right0 u-xs-marginRight20 u-height65 u-xs-height56\">\n",
      "        <div class=\"buttonSet\">\n",
      "         <a class=\"button button--primary button--chromeless u-accentColor--buttonNormal is-inSiteNavBar u-lineHeight30 u-height32\" data-action=\"sign-in-prompt\" data-action-source=\"nav_signup\" data-redirect=\"https://medium.com/@Cernovich/susan-rice-requested-unmasking-of-incoming-trump-administration-officials-30085b5cff16\" href=\"https://medium.com/m/signin?redirect=https%3A%2F%2Fmedium.com%2F%40Cernovich%2Fsusan-rice-requested-unmasking-of-incoming-trump-administration-officials-30085b5cff16\">\n",
      "          Sign in / Sign up\n",
      "         </a>\n",
      "        </div>\n",
      "       </div>\n",
      "      </div>\n",
      "     </div>\n",
      "     <div class=\"metabar metabar--spacer js-metabarSpacer u-height65 u-xs-height56\">\n",
      "     </div>\n",
      "     <main role=\"main\">\n",
      "      <article class=\" u-sizeViewHeightMin100 u-overflowHidden postArticle postArticle--full u-marginBottom40\" lang=\"en\">\n",
      "       <header class=\"container u-maxWidth740\">\n",
      "        <div class=\"postMetaHeader u-paddingBottom10 row\">\n",
      "         <div class=\"col u-size12of12 js-postMetaLockup\">\n",
      "          <div class=\"postMetaLockup postMetaLockup--authorWithBio u-flex js-postMetaLockup\">\n",
      "           <div class=\"u-flex0\">\n",
      "            <a class=\"link avatar u-baseColor--link\" data-action=\"show-user-card\" data-action-source=\"post_header_lockup\" data-action-type=\"hover\" data-action-value=\"d7bc7439af1b\" data-user-id=\"d7bc7439af1b\" dir=\"auto\" href=\"https://medium.com/@Cernovich?source=post_header_lockup\">\n",
      "             <div class=\"u-relative u-inlineBlock\">\n",
      "              <img alt=\"Go to the profile of Mike Cernovich\" class=\"avatar-image avatar-image--small\" src=\"https://cdn-images-1.medium.com/fit/c/60/60/0*-rfSB-n7vALDJT8j.jpg\"/>\n",
      "              <div class=\"u-absolute u-tintSpectrum u-accentColor--iconNormal u-textColorGreenNormal svgIcon\" style=\"width: calc(100% + 12px); height: calc(100% + 12px); top:-6px; left:-6px\">\n",
      "               <svg viewbox=\"0 0 114 114\" xmlns=\"http://www.w3.org/2000/svg\">\n",
      "                <path d=\"M7.66922967,32.092726 C17.0070768,13.6353618 35.9421928,1.75 57,1.75 C78.0578072,1.75 96.9929232,13.6353618 106.33077,32.092726 L107.66923,31.4155801 C98.0784505,12.4582656 78.6289015,0.25 57,0.25 C35.3710985,0.25 15.9215495,12.4582656 6.33077033,31.4155801 L7.66922967,32.092726 Z\">\n",
      "                </path>\n",
      "                <path d=\"M106.33077,81.661427 C96.9929232,100.118791 78.0578072,112.004153 57,112.004153 C35.9421928,112.004153 17.0070768,100.118791 7.66922967,81.661427 L6.33077033,82.338573 C15.9215495,101.295887 35.3710985,113.504153 57,113.504153 C78.6289015,113.504153 98.0784505,101.295887 107.66923,82.338573 L106.33077,81.661427 Z\">\n",
      "                </path>\n",
      "               </svg>\n",
      "              </div>\n",
      "             </div>\n",
      "            </a>\n",
      "           </div>\n",
      "           <div class=\"u-flex1 u-paddingLeft15 u-overflowHidden\">\n",
      "            <a class=\"link link link--darken link--darker u-baseColor--link\" data-action=\"show-user-card\" data-action-source=\"post_header_lockup\" data-action-type=\"hover\" data-action-value=\"d7bc7439af1b\" data-user-id=\"d7bc7439af1b\" dir=\"auto\" href=\"https://medium.com/@Cernovich?source=post_header_lockup\">\n",
      "             Mike Cernovich\n",
      "            </a>\n",
      "            <span class=\"followState js-followState buttonSet-inner\" data-user-id=\"d7bc7439af1b\">\n",
      "             <button class=\"button u-paddingLeft10 u-paddingRight10 u-height19 u-lineHeight13 u-verticalAlignMiddle u-fontSize12 u-uiTextMedium u-noUserSelect button--withChrome u-baseColor--buttonNormal button--withHover button--unblock js-unblockButton u-marginLeft10 u-marginTopNegative2 u-xs-hide\" data-action=\"sign-in-prompt\" data-action-source=\"post_header_lockup\" data-requires-token=\"true\" data-sign-in-action=\"toggle-block-user\">\n",
      "              <span class=\"button-label button-defaultState\">\n",
      "               Blocked\n",
      "              </span>\n",
      "              <span class=\"button-label button-hoverState\">\n",
      "               Unblock\n",
      "              </span>\n",
      "             </button>\n",
      "             <button class=\"button button--primary u-paddingLeft10 u-paddingRight10 u-height19 u-lineHeight13 u-verticalAlignMiddle u-fontSize12 u-uiTextMedium u-noUserSelect button--withChrome u-accentColor--buttonNormal button--follow js-followButton u-marginLeft10 u-marginTopNegative2 u-xs-hide\" data-action=\"sign-in-prompt\" data-action-source=\"post_header_lockup_follow\" data-redirect=\"https://medium.com/_/subscribe/user/d7bc7439af1b\" data-requires-token=\"true\" data-sign-in-action=\"toggle-subscribe-user\">\n",
      "              <span class=\"button-label button-defaultState js-buttonLabel\">\n",
      "               Follow\n",
      "              </span>\n",
      "              <span class=\"button-label button-activeState\">\n",
      "               Following\n",
      "              </span>\n",
      "             </button>\n",
      "            </span>\n",
      "            <div class=\"postMetaInline u-noWrapWithEllipsis u-xs-normalWrap u-xs-lineClamp2\">\n",
      "             Mike Cernovich is a journalist, documentary filmmaker and best-selling author of Gorilla Mindset. http://amzn.to/2n8aNJF\n",
      "            </div>\n",
      "            <div class=\"postMetaInline js-testPostMetaInlineSupplemental\">\n",
      "             <time datetime=\"2017-04-03T01:02:31.052Z\">\n",
      "              Apr 2\n",
      "             </time>\n",
      "             <span class=\"middotDivider u-fontSize12\">\n",
      "             </span>\n",
      "             <span class=\"readingTime\" title=\"3 min read\">\n",
      "             </span>\n",
      "            </div>\n",
      "           </div>\n",
      "          </div>\n",
      "         </div>\n",
      "        </div>\n",
      "       </header>\n",
      "       <div class=\"postArticle-content js-postField js-notesSource js-trackedPost\" data-post-id=\"30085b5cff16\" data-source=\"post_page\" data-tracking-context=\"postPage\">\n",
      "        <section class=\"section section--body section--first section--last\" name=\"a80e\">\n",
      "         <div class=\"section-divider\">\n",
      "          <hr class=\"section-divider\"/>\n",
      "         </div>\n",
      "         <div class=\"section-content\">\n",
      "          <div class=\"section-inner sectionLayout--insetColumn\">\n",
      "           <h1 class=\"graf graf--h3 graf--leading graf--title\" id=\"3b88\" name=\"3b88\">\n",
      "            <strong class=\"markup--strong markup--h3-strong\">\n",
      "             Susan Rice\n",
      "            </strong>\n",
      "            Requested Unmasking of Incoming Trump Administration Officials\n",
      "           </h1>\n",
      "           <p class=\"graf graf--p graf-after--h3\" id=\"db40\" name=\"db40\">\n",
      "            Susan Rice, who served as the National Security Adviser under President Obama, has been identified as the official who requested unmasking of incoming Trump officials, Cernovich Media can exclusively report.\n",
      "           </p>\n",
      "           <p class=\"graf graf--p graf-after--p\" id=\"a3ea\" name=\"a3ea\">\n",
      "            The White House Counsel’s office identified Rice as the person responsible for the unmasking after examining Rice’s document log requests. The reports Rice requested to see are kept under tightly-controlled conditions. Each person must log her name before being granted access to them.\n",
      "           </p>\n",
      "           <p class=\"graf graf--p graf-after--p\" id=\"c2b7\" name=\"c2b7\">\n",
      "            Upon learning of Rice’s actions, H. R. McMaster dispatched his close aide Derek Harvey to Capitol Hill to brief Chairman Nunes.\n",
      "           </p>\n",
      "           <p class=\"graf graf--p graf--startsWithDoubleQuote graf-after--p\" id=\"2765\" name=\"2765\">\n",
      "            “Unmasking” is the process of identifying individuals whose communications were caught in the dragnet of intelligence gathering. While conducting investigations into terrorism and other related crimes, intelligence analysts incidentally capture conversations about parties not subject to the search warrant. The identities of individuals who are not under investigation are kept confidential, for legal and moral reasons.\n",
      "           </p>\n",
      "           <figure class=\"graf graf--figure graf-after--p\" id=\"4865\" name=\"4865\">\n",
      "            <div class=\"aspectRatioPlaceholder is-locked\" style=\"max-width: 480px; max-height: 360px;\">\n",
      "             <div class=\"aspectRatioPlaceholder-fill\" style=\"padding-bottom: 75%;\">\n",
      "             </div>\n",
      "             <img class=\"graf-image\" data-height=\"360\" data-image-id=\"1*oOBiBxzsAPZoBoZdI2RGSQ.jpeg\" data-width=\"480\" src=\"https://cdn-images-1.medium.com/max/800/1*oOBiBxzsAPZoBoZdI2RGSQ.jpeg\"/>\n",
      "            </div>\n",
      "           </figure>\n",
      "           <p class=\"graf graf--p graf-after--figure\" id=\"ca24\" name=\"ca24\">\n",
      "            Under President Obama, the unmasking rules were changed.\n",
      "            <a class=\"markup--anchor markup--p-anchor\" data-href=\"http://circa.com/politics/barack-obama-changed-how-nsa-intercepts-of-americans-like-donald-trump-could-be-shared\" href=\"http://circa.com/politics/barack-obama-changed-how-nsa-intercepts-of-americans-like-donald-trump-could-be-shared\" rel=\"nofollow noopener\" target=\"_blank\">\n",
      "             Circa originally reported\n",
      "            </a>\n",
      "            :\n",
      "           </p>\n",
      "           <blockquote class=\"graf graf--blockquote graf-after--p\" id=\"dc4f\" name=\"dc4f\">\n",
      "            As his presidency drew to a close, Barack Obama’s top aides routinely reviewed intelligence reports gleaned from the National Security Agency’s incidental intercepts of Americans abroad, taking advantage of rules their boss relaxed starting in 2011 to help the government better fight terrorism, espionage by foreign enemies and hacking threats, Circa has learned.\n",
      "           </blockquote>\n",
      "           <p class=\"graf graf--p graf-after--blockquote\" id=\"fc80\" name=\"fc80\">\n",
      "            Three people close to President Obama,\n",
      "            <a class=\"markup--anchor markup--p-anchor\" data-href=\"http://www.businessinsider.com/state-department-susan-rice-benghazi-2016-6\" href=\"http://www.businessinsider.com/state-department-susan-rice-benghazi-2016-6\" rel=\"nofollow noopener\" target=\"_blank\">\n",
      "             including his “fall guy” for Benghazi (Susan Rice)\n",
      "            </a>\n",
      "            , had authorization to unmask.\n",
      "           </p>\n",
      "           <blockquote class=\"graf graf--blockquote graf-after--p\" id=\"b1cc\" name=\"b1cc\">\n",
      "            Among those cleared to request and consume unmasked NSA-based intelligence reports about U.S. citizens were Obama’s national security adviser Susan Rice, his CIA Director John Brennan and then-Attorney General Loretta Lynch.\n",
      "           </blockquote>\n",
      "           <p class=\"graf graf--p graf-after--blockquote\" id=\"a74f\" name=\"a74f\">\n",
      "            Not even mainstream outlets denied that some Trump officials had been spied on,\n",
      "            <a class=\"markup--anchor markup--p-anchor\" data-href=\"https://www.nytimes.com/2017/03/30/us/politics/devin-nunes-intelligence-reports.html\" href=\"https://www.nytimes.com/2017/03/30/us/politics/devin-nunes-intelligence-reports.html\" rel=\"nofollow noopener\" target=\"_blank\">\n",
      "             with the NY Times reporting\n",
      "            </a>\n",
      "            :\n",
      "           </p>\n",
      "           <blockquote class=\"graf graf--blockquote graf-after--p\" id=\"decc\" name=\"decc\">\n",
      "            WASHINGTON — A pair of White House officials helped provide Representative Devin Nunes of California, a Republican and the chairman of the House Intelligence Committee, with the\n",
      "            <strong class=\"markup--strong markup--blockquote-strong\">\n",
      "             intelligence reports that showed that President Trump and his associates were incidentally swept up in foreign surveillance by American spy agencies\n",
      "            </strong>\n",
      "            .\n",
      "           </blockquote>\n",
      "           <p class=\"graf graf--p graf-after--blockquote\" id=\"05af\" name=\"05af\">\n",
      "            According to WaPo,\n",
      "            <a class=\"markup--anchor markup--p-anchor\" data-href=\"https://www.washingtonpost.com/world/national-security/three-white-house-officials-tied-to-files-shared-with-house-intelligence-chairman/2017/03/30/de4b8c30-1589-11e7-9e4f-09aa75d3ec57_story.html?utm_term=.c38dd1b33fc1\" href=\"https://www.washingtonpost.com/world/national-security/three-white-house-officials-tied-to-files-shared-with-house-intelligence-chairman/2017/03/30/de4b8c30-1589-11e7-9e4f-09aa75d3ec57_story.html?utm_term=.c38dd1b33fc1\" rel=\"nofollow noopener\" target=\"_blank\">\n",
      "             there were three sources for the reports\n",
      "            </a>\n",
      "            , with Michael Ellis ultimately being blamed by WaPo and AP.\n",
      "           </p>\n",
      "           <p class=\"graf graf--p graf-after--p\" id=\"f9c0\" name=\"f9c0\">\n",
      "            What’s striking about the Times story is the spin it took. Trump had previously claimed he had been “wire tapped” (quotation marks in his original Tweet), leading to media screams that he prove it. The Times’ own reporting proves that President Trump and his associates were spied on.\n",
      "           </p>\n",
      "           <p class=\"graf graf--p graf-after--p\" id=\"eb1d\" name=\"eb1d\">\n",
      "            The Times, rather than admit Trump had been vindicated, instead focused its attention on the question of who leaked the reports to Nunes:\n",
      "           </p>\n",
      "           <blockquote class=\"graf graf--blockquote graf-after--p\" id=\"05d6\" name=\"05d6\">\n",
      "            Since disclosing the existence of the intelligence reports, Mr. Nunes has refused to identify his sources, saying he needed to protect them so others would feel safe going to the committee with sensitive information. In his public comments, he has described his sources as whistle-blowers trying to expose wrongdoing at great risk to themselves.\n",
      "           </blockquote>\n",
      "           <p class=\"graf graf--p graf-after--blockquote\" id=\"9328\" name=\"9328\">\n",
      "            Since when did journalists attempt to unmask sources? The Times, WaPo, and other outlets rely on anonymous sources in nearly every article about national security. It’s clear they have an agenda — that agenda is not telling the truth.\n",
      "           </p>\n",
      "           <p class=\"graf graf--p graf-after--p\" id=\"0eea\" name=\"0eea\">\n",
      "            This reporter has been informed that Maggie Haberman has had this story about Susan Rice for at least 48 hours, and has chosen to sit on it in an effort to protect the reputation of former President Barack Obama.\n",
      "           </p>\n",
      "           <p class=\"graf graf--p graf-after--p\" id=\"9666\" name=\"9666\">\n",
      "            — —\n",
      "           </p>\n",
      "           <p class=\"graf graf--p graf-after--p graf--trailing\" id=\"5766\" name=\"5766\">\n",
      "            <a class=\"markup--anchor markup--p-anchor\" data-href=\"https://medium.com/@Cernovich/about-mike-cernovich-64b0db7d73f4\" href=\"https://medium.com/@Cernovich/about-mike-cernovich-64b0db7d73f4\" target=\"_blank\">\n",
      "             Mike Cernovich\n",
      "            </a>\n",
      "            is a journalist, lawyer, author, and\n",
      "            <a class=\"markup--anchor markup--p-anchor\" data-href=\"https://www.amazon.com/Silenced-Alan-Dershowitz/dp/B06XS7K1TJ/\" href=\"https://www.amazon.com/Silenced-Alan-Dershowitz/dp/B06XS7K1TJ/\" rel=\"nofollow noopener\" target=\"_blank\">\n",
      "             filmmaker\n",
      "            </a>\n",
      "            . Cernovich Media is not owned by large corporate donors or robber barons.\n",
      "            <a class=\"markup--anchor markup--p-anchor\" data-href=\"https://medium.com/@Cernovich/pesos-for-play-how-a-mexican-robber-barron-turned-the-new-york-times-into-his-personal-blog-2403c4590dd0\" href=\"https://medium.com/@Cernovich/pesos-for-play-how-a-mexican-robber-barron-turned-the-new-york-times-into-his-personal-blog-2403c4590dd0\" target=\"_blank\">\n",
      "             The NY Times’ largest shareholder (whose very word can crash the stock, crippling 401K and other retirement plans) is Carlos Slim\n",
      "            </a>\n",
      "            . WaPo is owned by Jeff Bezos, who has a $600 million contract with deep state.\n",
      "            <a class=\"markup--anchor markup--p-anchor\" data-href=\"https://medium.com/@Cernovich/wapo-in-pay-for-play-scandal-phony-experts-given-free-pr-leading-to-questions-about-money-59b8911bbbbf\" href=\"https://medium.com/@Cernovich/wapo-in-pay-for-play-scandal-phony-experts-given-free-pr-leading-to-questions-about-money-59b8911bbbbf\" target=\"_blank\">\n",
      "             WaPo has also been caught in a pay-for-play scandal\n",
      "            </a>\n",
      "            .\n",
      "           </p>\n",
      "          </div>\n",
      "         </div>\n",
      "        </section>\n",
      "       </div>\n",
      "       <footer class=\"u-paddingTop10\">\n",
      "        <div class=\"container u-maxWidth740\">\n",
      "         <div class=\"row\">\n",
      "          <div class=\"col u-size12of12\">\n",
      "          </div>\n",
      "         </div>\n",
      "         <div class=\"row\">\n",
      "          <div class=\"col u-size12of12 js-postTags\">\n",
      "           <div class=\"u-paddingBottom10\">\n",
      "            <ul class=\"tags tags--postTags tags--borderless\">\n",
      "             <li>\n",
      "              <a class=\"link u-baseColor--link\" data-action-source=\"post\" href=\"https://medium.com/tag/mike-cernovich?source=post\">\n",
      "               Mike Cernovich\n",
      "              </a>\n",
      "             </li>\n",
      "             <li>\n",
      "              <a class=\"link u-baseColor--link\" data-action-source=\"post\" href=\"https://medium.com/tag/journalism?source=post\">\n",
      "               Journalism\n",
      "              </a>\n",
      "             </li>\n",
      "             <li>\n",
      "              <a class=\"link u-baseColor--link\" data-action-source=\"post\" href=\"https://medium.com/tag/national-security?source=post\">\n",
      "               National Security\n",
      "              </a>\n",
      "             </li>\n",
      "             <li>\n",
      "              <a class=\"link u-baseColor--link\" data-action-source=\"post\" href=\"https://medium.com/tag/susan-rice?source=post\">\n",
      "               Susan Rice\n",
      "              </a>\n",
      "             </li>\n",
      "             <li>\n",
      "              <a class=\"link u-baseColor--link\" data-action-source=\"post\" href=\"https://medium.com/tag/unmasking?source=post\">\n",
      "               Unmasking\n",
      "              </a>\n",
      "             </li>\n",
      "            </ul>\n",
      "           </div>\n",
      "          </div>\n",
      "         </div>\n",
      "         <div class=\"row js-postActionsFooter\">\n",
      "          <div class=\"postActions col u-size12of12\">\n",
      "           <div class=\"u-floatLeft buttonSet buttonSet--withLabels\">\n",
      "            <div class=\"buttonSet-inner\">\n",
      "             <div class=\"js-actionRecommend\" data-has-recommend-list=\"true\" data-is-icon-29px=\"true\" data-post-id=\"30085b5cff16\" data-source=\"post_actions_footer\">\n",
      "              <button aria-label=\"Recommend to share this article with your followers and let the author know you liked it\" class=\"button button--primary button--large button--chromeless is-touchIconFadeInPulse u-accentColor--buttonNormal button--withIcon button--withSvgIcon u-accentColor--iconLight js-actionRecommendButton\" data-action=\"sign-in-prompt\" data-action-source=\"post_actions_footer\" data-redirect=\"https://medium.com/_/vote/p/30085b5cff16\" data-requires-token=\"true\" data-sign-in-action=\"upvote\" title=\"Recommend to share this article with your followers and let the author know you liked it\">\n",
      "               <span class=\"button-defaultState\">\n",
      "                <span class=\"svgIcon svgIcon--heart svgIcon--29px\">\n",
      "                 <svg class=\"svgIcon-use\" height=\"29\" viewbox=\"0 0 29 29\" width=\"29\">\n",
      "                  <path d=\"M16.215 23.716c-.348.288-.984.826-1.376 1.158a.526.526 0 0 1-.68 0c-.36-.307-.92-.78-1.22-1.03C9.22 20.734 3 15.527 3 10.734 3 7.02 5.916 4 9.5 4c1.948 0 3.77.898 5 2.434C15.73 4.898 17.552 4 19.5 4c3.584 0 6.5 3.02 6.5 6.734 0 4.9-6.125 9.96-9.785 12.982zM19.5 5.2c-1.774 0-3.423.923-4.41 2.468a.699.699 0 0 1-.59.323.706.706 0 0 1-.59-.32c-.988-1.54-2.637-2.47-4.41-2.47-2.922 0-5.3 2.49-5.3 5.54 0 4.23 6.19 9.41 9.517 12.19.217.18.566.48.783.66l.952-.79c3.496-2.88 9.348-7.72 9.348-12.05 0-3.05-2.378-5.53-5.3-5.53z\">\n",
      "                  </path>\n",
      "                 </svg>\n",
      "                </span>\n",
      "               </span>\n",
      "               <span class=\"button-activeState\">\n",
      "                <span class=\"svgIcon svgIcon--heartFilled svgIcon--29px\">\n",
      "                 <svg class=\"svgIcon-use\" height=\"29\" viewbox=\"0 0 29 29\" width=\"29\">\n",
      "                  <path d=\"M19.5 4c-1.948 0-3.77.898-5 2.434C13.27 4.898 11.448 4 9.5 4 5.916 4 3 7.02 3 10.734c0 4.793 6.227 10 9.95 13.11.296.25.853.723 1.212 1.03.196.166.48.166.677 0 .39-.332 1.02-.87 1.37-1.158 3.66-3.022 9.79-8.08 9.79-12.982C26 7.02 23.08 4 19.5 4z\" fill-rule=\"evenodd\">\n",
      "                  </path>\n",
      "                 </svg>\n",
      "                </span>\n",
      "               </span>\n",
      "              </button>\n",
      "              <button class=\"button button--chromeless u-baseColor--buttonNormal\" data-action=\"show-recommends\" data-action-value=\"30085b5cff16\">\n",
      "               396\n",
      "              </button>\n",
      "             </div>\n",
      "            </div>\n",
      "            <div class=\"buttonSet-inner\">\n",
      "             <button class=\"button button--large button--dark button--chromeless is-touchIconBlackPulse u-baseColor--buttonDark button--withIcon button--withSvgIcon\" data-action=\"scroll-to-responses\" data-action-source=\"post_actions_footer\">\n",
      "              <span class=\"svgIcon svgIcon--response svgIcon--29px\">\n",
      "               <svg class=\"svgIcon-use\" height=\"29\" viewbox=\"0 0 29 29\" width=\"29\">\n",
      "                <path d=\"M21.27 20.058c1.89-1.826 2.754-4.17 2.754-6.674C24.024 8.21 19.67 4 14.1 4 8.53 4 4 8.21 4 13.384c0 5.175 4.53 9.385 10.1 9.385 1.007 0 2-.14 2.95-.41.285.25.592.49.918.7 1.306.87 2.716 1.31 4.19 1.31.276-.01.494-.14.6-.36a.625.625 0 0 0-.052-.65c-.61-.84-1.042-1.71-1.282-2.58a5.417 5.417 0 0 1-.154-.75zm-3.85 1.324l-.083-.28-.388.12a9.72 9.72 0 0 1-2.85.424c-4.96 0-8.99-3.706-8.99-8.262 0-4.556 4.03-8.263 8.99-8.263 4.95 0 8.77 3.71 8.77 8.27 0 2.25-.75 4.35-2.5 5.92l-.24.21v.32c0 .07 0 .19.02.37.03.29.1.6.19.92.19.7.49 1.4.89 2.08-.93-.14-1.83-.49-2.67-1.06-.34-.22-.88-.48-1.16-.74z\">\n",
      "                </path>\n",
      "               </svg>\n",
      "              </span>\n",
      "             </button>\n",
      "             <button class=\"button button--chromeless u-baseColor--buttonNormal\" data-action=\"scroll-to-responses\">\n",
      "              99\n",
      "             </button>\n",
      "            </div>\n",
      "           </div>\n",
      "           <div class=\"u-floatRight buttonSet buttonSet--narrow\">\n",
      "            <button aria-label=\"Share on Twitter\" class=\"button button--large button--dark button--chromeless is-touchIconBlackPulse u-baseColor--buttonDark button--withIcon button--withSvgIcon\" data-action=\"share-on-twitter\" data-action-source=\"post_actions_footer\" title=\"Share on Twitter\">\n",
      "             <span class=\"svgIcon svgIcon--twitter svgIcon--29px\">\n",
      "              <svg class=\"svgIcon-use\" height=\"29\" viewbox=\"0 0 29 29\" width=\"29\">\n",
      "               <path d=\"M21.967 11.8c.018 5.93-4.607 11.18-11.177 11.18-2.172 0-4.25-.62-6.047-1.76l-.268.422-.038.5.186.013.168.012c.3.02.44.032.6.046 2.06-.026 3.95-.686 5.49-1.86l1.12-.85-1.4-.048c-1.57-.055-2.92-1.08-3.36-2.51l-.48.146-.05.5c.22.03.48.05.75.08.48-.02.87-.07 1.25-.15l2.33-.49-2.32-.49c-1.68-.35-2.91-1.83-2.91-3.55 0-.05 0-.01-.01.03l-.49-.1-.25.44c.63.36 1.35.57 2.07.58l1.7.04L7.4 13c-.978-.662-1.59-1.79-1.618-3.047a4.08 4.08 0 0 1 .524-1.8l-.825.07a12.188 12.188 0 0 0 8.81 4.515l.59.033-.06-.59v-.02c-.05-.43-.06-.63-.06-.87a3.617 3.617 0 0 1 6.27-2.45l.2.21.28-.06c1.01-.22 1.94-.59 2.73-1.09l-.75-.56c-.1.36-.04.89.12 1.36.23.68.58 1.13 1.17.85l-.21-.45-.42-.27c-.52.8-1.17 1.48-1.92 2L22 11l.016.28c.013.2.014.35 0 .52v.04zm.998.038c.018-.22.017-.417 0-.66l-.498.034.284.41a8.183 8.183 0 0 0 2.2-2.267l.97-1.48-1.6.755c.17-.08.3-.02.34.03a.914.914 0 0 1-.13-.292c-.1-.297-.13-.64-.1-.766l.36-1.254-1.1.695c-.69.438-1.51.764-2.41.963l.48.15a4.574 4.574 0 0 0-3.38-1.484 4.616 4.616 0 0 0-4.61 4.613c0 .29.02.51.08.984l.01.02.5-.06.03-.5c-3.17-.18-6.1-1.7-8.08-4.15l-.48-.56-.36.64c-.39.69-.62 1.48-.65 2.28.04 1.61.81 3.04 2.06 3.88l.3-.92c-.55-.02-1.11-.17-1.6-.45l-.59-.34-.14.67c-.02.08-.02.16 0 .24-.01 2.12 1.55 4.01 3.69 4.46l.1-.49-.1-.49c-.33.07-.67.12-1.03.14-.18-.02-.43-.05-.64-.07l-.76-.09.23.73c.57 1.84 2.29 3.14 4.28 3.21l-.28-.89a8.252 8.252 0 0 1-4.85 1.66c-.12-.01-.26-.02-.56-.05l-.17-.01-.18-.01L2.53 21l1.694 1.07a12.233 12.233 0 0 0 6.58 1.917c7.156 0 12.2-5.73 12.18-12.18l-.002.04z\">\n",
      "               </path>\n",
      "              </svg>\n",
      "             </span>\n",
      "            </button>\n",
      "            <button aria-label=\"Share on Facebook\" class=\"button button--large button--dark button--chromeless is-touchIconBlackPulse u-baseColor--buttonDark button--withIcon button--withSvgIcon\" data-action=\"share-on-facebook\" data-action-source=\"post_actions_footer\" title=\"Share on Facebook\">\n",
      "             <span class=\"svgIcon svgIcon--facebook svgIcon--29px\">\n",
      "              <svg class=\"svgIcon-use\" height=\"29\" viewbox=\"0 0 29 29\" width=\"29\">\n",
      "               <path d=\"M16.39 23.61v-5.808h1.846a.55.55 0 0 0 .546-.48l.36-2.797a.551.551 0 0 0-.547-.62H16.39V12.67c0-.67.12-.813.828-.813h1.474a.55.55 0 0 0 .55-.55V8.803a.55.55 0 0 0-.477-.545c-.436-.06-1.36-.116-2.22-.116-2.5 0-4.13 1.62-4.13 4.248v1.513H10.56a.551.551 0 0 0-.55.55v2.797c0 .304.248.55.55.55h1.855v5.76c-4.172-.96-7.215-4.7-7.215-9.1 0-5.17 4.17-9.36 9.31-9.36 5.14 0 9.31 4.19 9.31 9.36 0 4.48-3.155 8.27-7.43 9.15M14.51 4C8.76 4 4.1 8.684 4.1 14.46c0 5.162 3.75 9.523 8.778 10.32a.55.55 0 0 0 .637-.543v-6.985a.551.551 0 0 0-.55-.55H11.11v-1.697h1.855a.55.55 0 0 0 .55-.55v-2.063c0-2.02 1.136-3.148 3.03-3.148.567 0 1.156.027 1.597.06v1.453h-.924c-1.363 0-1.93.675-1.93 1.912v1.78c0 .3.247.55.55.55h2.132l-.218 1.69H15.84c-.305 0-.55.24-.55.55v7.02c0 .33.293.59.623.54 5.135-.7 9.007-5.11 9.007-10.36C24.92 8.68 20.26 4 14.51 4\">\n",
      "               </path>\n",
      "              </svg>\n",
      "             </span>\n",
      "            </button>\n",
      "           </div>\n",
      "          </div>\n",
      "         </div>\n",
      "        </div>\n",
      "        <div class=\"js-postPromotionWrapper postPromotionWrapper\" data-location-id=\"footer_above_post_attribution\">\n",
      "        </div>\n",
      "        <div class=\"container u-maxWidth740 js-postAttributionFooterContainer u-paddingTop20 u-paddingBottom20 u-marginTop10 u-borderTopLightest u-xs-paddingTop10 u-xs-paddingBottom10\">\n",
      "         <div class=\"row js-postFooterInfo\">\n",
      "          <div class=\"col u-size12of12\">\n",
      "           <li class=\"u-block u-paddingBottom18 js-cardUser\">\n",
      "            <div class=\"u-marginLeft20 u-floatRight\">\n",
      "             <span class=\"followState js-followState buttonSet-inner\" data-user-id=\"d7bc7439af1b\">\n",
      "              <button class=\"button button--small u-noUserSelect button--withChrome u-baseColor--buttonNormal button--withHover button--unblock js-unblockButton\" data-action=\"sign-in-prompt\" data-action-source=\"footer_card\" data-requires-token=\"true\" data-sign-in-action=\"toggle-block-user\">\n",
      "               <span class=\"button-label button-defaultState\">\n",
      "                Blocked\n",
      "               </span>\n",
      "               <span class=\"button-label button-hoverState\">\n",
      "                Unblock\n",
      "               </span>\n",
      "              </button>\n",
      "              <button class=\"button button--primary button--small u-noUserSelect button--withChrome u-accentColor--buttonNormal button--follow js-followButton\" data-action=\"sign-in-prompt\" data-action-source=\"footer_card_follow\" data-redirect=\"https://medium.com/_/subscribe/user/d7bc7439af1b\" data-requires-token=\"true\" data-sign-in-action=\"toggle-subscribe-user\">\n",
      "               <span class=\"button-label button-defaultState js-buttonLabel\">\n",
      "                Follow\n",
      "               </span>\n",
      "               <span class=\"button-label button-activeState\">\n",
      "                Following\n",
      "               </span>\n",
      "              </button>\n",
      "             </span>\n",
      "            </div>\n",
      "            <div class=\"u-tableCell \">\n",
      "             <a aria-label=\"Go to the profile of Mike Cernovich\" class=\"link avatar u-baseColor--link\" data-action-source=\"footer_card\" data-user-id=\"d7bc7439af1b\" dir=\"auto\" href=\"https://medium.com/@Cernovich?source=footer_card\" title=\"Go to the profile of Mike Cernovich\">\n",
      "              <div class=\"u-relative u-inlineBlock\">\n",
      "               <img alt=\"Go to the profile of Mike Cernovich\" class=\"avatar-image avatar-image--small\" src=\"https://cdn-images-1.medium.com/fit/c/60/60/0*-rfSB-n7vALDJT8j.jpg\"/>\n",
      "               <div class=\"u-absolute u-tintSpectrum u-accentColor--iconNormal u-textColorGreenNormal svgIcon\" style=\"width: calc(100% + 12px); height: calc(100% + 12px); top:-6px; left:-6px\">\n",
      "                <svg viewbox=\"0 0 114 114\" xmlns=\"http://www.w3.org/2000/svg\">\n",
      "                 <path d=\"M7.66922967,32.092726 C17.0070768,13.6353618 35.9421928,1.75 57,1.75 C78.0578072,1.75 96.9929232,13.6353618 106.33077,32.092726 L107.66923,31.4155801 C98.0784505,12.4582656 78.6289015,0.25 57,0.25 C35.3710985,0.25 15.9215495,12.4582656 6.33077033,31.4155801 L7.66922967,32.092726 Z\">\n",
      "                 </path>\n",
      "                 <path d=\"M106.33077,81.661427 C96.9929232,100.118791 78.0578072,112.004153 57,112.004153 C35.9421928,112.004153 17.0070768,100.118791 7.66922967,81.661427 L6.33077033,82.338573 C15.9215495,101.295887 35.3710985,113.504153 57,113.504153 C78.6289015,113.504153 98.0784505,101.295887 107.66923,82.338573 L106.33077,81.661427 Z\">\n",
      "                 </path>\n",
      "                </svg>\n",
      "               </div>\n",
      "              </div>\n",
      "             </a>\n",
      "            </div>\n",
      "            <div class=\"u-tableCell u-verticalAlignMiddle u-breakWord u-paddingLeft15\">\n",
      "             <h3 class=\"u-fontSize18 u-lineHeightTighter\">\n",
      "              <a aria-label=\"Go to the profile of Mike Cernovich\" class=\"link link--primary u-accentColor--hoverTextNormal\" data-user-id=\"d7bc7439af1b\" dir=\"auto\" href=\"https://medium.com/@Cernovich\" property=\"cc:attributionName\" rel=\"author cc:attributionUrl\" title=\"Go to the profile of Mike Cernovich\">\n",
      "               Mike Cernovich\n",
      "              </a>\n",
      "             </h3>\n",
      "             <div class=\"u-textColorGreenNormal u-tintSpectrum u-accentColor--textNormal u-fontSize13 u-marginBottom7\">\n",
      "              Medium member since Apr 2017\n",
      "             </div>\n",
      "             <p class=\"u-fontSize14 u-lineHeightBaseSans u-textColorDark u-marginBottom4\">\n",
      "              Mike Cernovich is a journalist, documentary filmmaker and best-selling author of Gorilla Mindset.\n",
      "              <a href=\"http://amzn.to/2n8aNJF\" rel=\"nofollow\">\n",
      "               http://amzn.to/2n8aNJF\n",
      "              </a>\n",
      "             </p>\n",
      "            </div>\n",
      "           </li>\n",
      "          </div>\n",
      "         </div>\n",
      "        </div>\n",
      "        <div class=\"js-postFooterPlacements\">\n",
      "        </div>\n",
      "        <div class=\"u-padding0 u-clearfix u-backgroundGrayLightest u-print-hide supplementalPostContent js-responsesWrapper\">\n",
      "        </div>\n",
      "        <div class=\"supplementalPostContent js-readNext\">\n",
      "        </div>\n",
      "        <div class=\"supplementalPostContent js-heroPromo\">\n",
      "        </div>\n",
      "       </footer>\n",
      "      </article>\n",
      "     </main>\n",
      "     <div class=\"u-marginAuto u-maxWidth1000\">\n",
      "      <div class=\"js-postShareWidget u-foreground u-sm-hide u-transition--fadeOut300 u-fixed\">\n",
      "       <ul>\n",
      "        <li class=\"u-uiTextSemibold u-textAlignCenter u-textColorNormal u-fontSize12 u-textUppercase\">\n",
      "         Share\n",
      "        </li>\n",
      "        <li class=\"u-textAlignCenter\">\n",
      "         <div class=\"js-actionRecommend\" data-has-recommend-list=\"true\" data-is-icon-29px=\"true\" data-is-vertical=\"true\" data-post-id=\"30085b5cff16\" data-source=\"post_share_widget\">\n",
      "          <button aria-label=\"Recommend to share this article with your followers and let the author know you liked it\" class=\"button button--primary button--large button--chromeless is-touchIconFadeInPulse u-accentColor--buttonNormal button--withIcon button--withSvgIcon u-accentColor--iconLight js-actionRecommendButton\" data-action=\"sign-in-prompt\" data-action-source=\"post_share_widget\" data-redirect=\"https://medium.com/_/vote/p/30085b5cff16\" data-requires-token=\"true\" data-sign-in-action=\"upvote\" title=\"Recommend to share this article with your followers and let the author know you liked it\">\n",
      "           <span class=\"button-defaultState\">\n",
      "            <span class=\"svgIcon svgIcon--heart svgIcon--29px\">\n",
      "             <svg class=\"svgIcon-use\" height=\"29\" viewbox=\"0 0 29 29\" width=\"29\">\n",
      "              <path d=\"M16.215 23.716c-.348.288-.984.826-1.376 1.158a.526.526 0 0 1-.68 0c-.36-.307-.92-.78-1.22-1.03C9.22 20.734 3 15.527 3 10.734 3 7.02 5.916 4 9.5 4c1.948 0 3.77.898 5 2.434C15.73 4.898 17.552 4 19.5 4c3.584 0 6.5 3.02 6.5 6.734 0 4.9-6.125 9.96-9.785 12.982zM19.5 5.2c-1.774 0-3.423.923-4.41 2.468a.699.699 0 0 1-.59.323.706.706 0 0 1-.59-.32c-.988-1.54-2.637-2.47-4.41-2.47-2.922 0-5.3 2.49-5.3 5.54 0 4.23 6.19 9.41 9.517 12.19.217.18.566.48.783.66l.952-.79c3.496-2.88 9.348-7.72 9.348-12.05 0-3.05-2.378-5.53-5.3-5.53z\">\n",
      "              </path>\n",
      "             </svg>\n",
      "            </span>\n",
      "           </span>\n",
      "           <span class=\"button-activeState\">\n",
      "            <span class=\"svgIcon svgIcon--heartFilled svgIcon--29px\">\n",
      "             <svg class=\"svgIcon-use\" height=\"29\" viewbox=\"0 0 29 29\" width=\"29\">\n",
      "              <path d=\"M19.5 4c-1.948 0-3.77.898-5 2.434C13.27 4.898 11.448 4 9.5 4 5.916 4 3 7.02 3 10.734c0 4.793 6.227 10 9.95 13.11.296.25.853.723 1.212 1.03.196.166.48.166.677 0 .39-.332 1.02-.87 1.37-1.158 3.66-3.022 9.79-8.08 9.79-12.982C26 7.02 23.08 4 19.5 4z\" fill-rule=\"evenodd\">\n",
      "              </path>\n",
      "             </svg>\n",
      "            </span>\n",
      "           </span>\n",
      "          </button>\n",
      "          <button class=\"button button--chromeless u-baseColor--buttonNormal u-block u-marginAuto u-marginTopNegative5\" data-action=\"show-recommends\" data-action-value=\"30085b5cff16\">\n",
      "           396\n",
      "          </button>\n",
      "         </div>\n",
      "        </li>\n",
      "        <li class=\"u-textAlignCenter\">\n",
      "         <button aria-label=\"Share on Twitter\" class=\"button button--large button--dark button--chromeless is-touchIconBlackPulse u-baseColor--buttonDark button--withIcon button--withSvgIcon\" data-action=\"share-on-twitter\" data-action-source=\"post_share_widget\" title=\"Share on Twitter\">\n",
      "          <span class=\"svgIcon svgIcon--twitter svgIcon--29px\">\n",
      "           <svg class=\"svgIcon-use\" height=\"29\" viewbox=\"0 0 29 29\" width=\"29\">\n",
      "            <path d=\"M21.967 11.8c.018 5.93-4.607 11.18-11.177 11.18-2.172 0-4.25-.62-6.047-1.76l-.268.422-.038.5.186.013.168.012c.3.02.44.032.6.046 2.06-.026 3.95-.686 5.49-1.86l1.12-.85-1.4-.048c-1.57-.055-2.92-1.08-3.36-2.51l-.48.146-.05.5c.22.03.48.05.75.08.48-.02.87-.07 1.25-.15l2.33-.49-2.32-.49c-1.68-.35-2.91-1.83-2.91-3.55 0-.05 0-.01-.01.03l-.49-.1-.25.44c.63.36 1.35.57 2.07.58l1.7.04L7.4 13c-.978-.662-1.59-1.79-1.618-3.047a4.08 4.08 0 0 1 .524-1.8l-.825.07a12.188 12.188 0 0 0 8.81 4.515l.59.033-.06-.59v-.02c-.05-.43-.06-.63-.06-.87a3.617 3.617 0 0 1 6.27-2.45l.2.21.28-.06c1.01-.22 1.94-.59 2.73-1.09l-.75-.56c-.1.36-.04.89.12 1.36.23.68.58 1.13 1.17.85l-.21-.45-.42-.27c-.52.8-1.17 1.48-1.92 2L22 11l.016.28c.013.2.014.35 0 .52v.04zm.998.038c.018-.22.017-.417 0-.66l-.498.034.284.41a8.183 8.183 0 0 0 2.2-2.267l.97-1.48-1.6.755c.17-.08.3-.02.34.03a.914.914 0 0 1-.13-.292c-.1-.297-.13-.64-.1-.766l.36-1.254-1.1.695c-.69.438-1.51.764-2.41.963l.48.15a4.574 4.574 0 0 0-3.38-1.484 4.616 4.616 0 0 0-4.61 4.613c0 .29.02.51.08.984l.01.02.5-.06.03-.5c-3.17-.18-6.1-1.7-8.08-4.15l-.48-.56-.36.64c-.39.69-.62 1.48-.65 2.28.04 1.61.81 3.04 2.06 3.88l.3-.92c-.55-.02-1.11-.17-1.6-.45l-.59-.34-.14.67c-.02.08-.02.16 0 .24-.01 2.12 1.55 4.01 3.69 4.46l.1-.49-.1-.49c-.33.07-.67.12-1.03.14-.18-.02-.43-.05-.64-.07l-.76-.09.23.73c.57 1.84 2.29 3.14 4.28 3.21l-.28-.89a8.252 8.252 0 0 1-4.85 1.66c-.12-.01-.26-.02-.56-.05l-.17-.01-.18-.01L2.53 21l1.694 1.07a12.233 12.233 0 0 0 6.58 1.917c7.156 0 12.2-5.73 12.18-12.18l-.002.04z\">\n",
      "            </path>\n",
      "           </svg>\n",
      "          </span>\n",
      "         </button>\n",
      "        </li>\n",
      "        <li class=\"u-textAlignCenter\">\n",
      "         <button aria-label=\"Share on Facebook\" class=\"button button--large button--dark button--chromeless is-touchIconBlackPulse u-baseColor--buttonDark button--withIcon button--withSvgIcon\" data-action=\"share-on-facebook\" data-action-source=\"post_share_widget\" title=\"Share on Facebook\">\n",
      "          <span class=\"svgIcon svgIcon--facebook svgIcon--29px\">\n",
      "           <svg class=\"svgIcon-use\" height=\"29\" viewbox=\"0 0 29 29\" width=\"29\">\n",
      "            <path d=\"M16.39 23.61v-5.808h1.846a.55.55 0 0 0 .546-.48l.36-2.797a.551.551 0 0 0-.547-.62H16.39V12.67c0-.67.12-.813.828-.813h1.474a.55.55 0 0 0 .55-.55V8.803a.55.55 0 0 0-.477-.545c-.436-.06-1.36-.116-2.22-.116-2.5 0-4.13 1.62-4.13 4.248v1.513H10.56a.551.551 0 0 0-.55.55v2.797c0 .304.248.55.55.55h1.855v5.76c-4.172-.96-7.215-4.7-7.215-9.1 0-5.17 4.17-9.36 9.31-9.36 5.14 0 9.31 4.19 9.31 9.36 0 4.48-3.155 8.27-7.43 9.15M14.51 4C8.76 4 4.1 8.684 4.1 14.46c0 5.162 3.75 9.523 8.778 10.32a.55.55 0 0 0 .637-.543v-6.985a.551.551 0 0 0-.55-.55H11.11v-1.697h1.855a.55.55 0 0 0 .55-.55v-2.063c0-2.02 1.136-3.148 3.03-3.148.567 0 1.156.027 1.597.06v1.453h-.924c-1.363 0-1.93.675-1.93 1.912v1.78c0 .3.247.55.55.55h2.132l-.218 1.69H15.84c-.305 0-.55.24-.55.55v7.02c0 .33.293.59.623.54 5.135-.7 9.007-5.11 9.007-10.36C24.92 8.68 20.26 4 14.51 4\">\n",
      "            </path>\n",
      "           </svg>\n",
      "          </span>\n",
      "         </button>\n",
      "        </li>\n",
      "        <li class=\"u-textAlignCenter\">\n",
      "         <button aria-label=\"Bookmark this story to read later\" class=\"button button--large button--dark button--chromeless is-touchIconFadeInPulse u-baseColor--buttonDark button--withIcon button--withSvgIcon button--bookmark js-bookmarkButton\" data-action=\"sign-in-prompt\" data-redirect=\"https://medium.com/_/bookmark/p/30085b5cff16\" data-requires-token=\"true\" data-sign-in-action=\"add-to-bookmarks\" title=\"Bookmark this story to read later\">\n",
      "          <span class=\"button-defaultState\">\n",
      "           <span class=\"svgIcon svgIcon--bookmark svgIcon--29px\">\n",
      "            <svg class=\"svgIcon-use\" height=\"29\" viewbox=\"0 0 29 29\" width=\"29\">\n",
      "             <path d=\"M19.385 4h-9.77A2.623 2.623 0 0 0 7 6.615V23.01a1.022 1.022 0 0 0 1.595.847l5.905-4.004 5.905 4.004A1.022 1.022 0 0 0 22 23.011V6.62A2.625 2.625 0 0 0 19.385 4zM21 23l-5.91-3.955-.148-.107a.751.751 0 0 0-.884 0l-.147.107L8 23V6.615C8 5.725 8.725 5 9.615 5h9.77C20.275 5 21 5.725 21 6.615V23z\" fill-rule=\"evenodd\">\n",
      "             </path>\n",
      "            </svg>\n",
      "           </span>\n",
      "          </span>\n",
      "          <span class=\"button-activeState\">\n",
      "           <span class=\"svgIcon svgIcon--bookmarkFilled svgIcon--29px\">\n",
      "            <svg class=\"svgIcon-use\" height=\"29\" viewbox=\"0 0 29 29\" width=\"29\">\n",
      "             <path d=\"M19.385 4h-9.77A2.623 2.623 0 0 0 7 6.615V23.01a1.022 1.022 0 0 0 1.595.847l5.905-4.004 5.905 4.004A1.022 1.022 0 0 0 22 23.011V6.62A2.625 2.625 0 0 0 19.385 4z\" fill-rule=\"evenodd\">\n",
      "             </path>\n",
      "            </svg>\n",
      "           </span>\n",
      "          </span>\n",
      "         </button>\n",
      "        </li>\n",
      "       </ul>\n",
      "      </div>\n",
      "     </div>\n",
      "     <div class=\"u-fixed u-bottom0 u-sizeFullWidth u-backgroundWhite u-boxShadowTop u-borderBox u-paddingTop10 u-paddingBottom10 u-zIndexMetabar u-xs-paddingLeft10 u-xs-paddingRight10 js-stickyFooter\">\n",
      "      <div class=\"u-maxWidth700 u-marginAuto u-flexCenter\">\n",
      "       <div class=\"u-fontSize16 u-flex1 u-flexCenter\">\n",
      "        <div class=\"u-flex0 u-inlineBlock u-paddingRight20 u-xs-paddingRight10\">\n",
      "         <a class=\"link avatar u-inline u-baseColor--link\" data-action=\"show-user-card\" data-action-type=\"hover\" data-action-value=\"d7bc7439af1b\" data-user-id=\"d7bc7439af1b\" dir=\"auto\" href=\"https://medium.com/@Cernovich\">\n",
      "          <div class=\"u-relative u-inlineBlock\">\n",
      "           <img alt=\"Go to the profile of Mike Cernovich\" class=\"avatar-image avatar-image--smaller\" src=\"https://cdn-images-1.medium.com/fit/c/40/40/0*-rfSB-n7vALDJT8j.jpg\"/>\n",
      "           <div class=\"u-absolute u-tintSpectrum u-accentColor--iconNormal u-textColorGreenNormal svgIcon\" style=\"width: calc(100% + 10px); height: calc(100% + 10px); top:-5px; left:-5px\">\n",
      "            <svg viewbox=\"0 0 70 70\" xmlns=\"http://www.w3.org/2000/svg\">\n",
      "             <path d=\"M5.53538374,19.9430227 C11.180401,8.78497536 22.6271155,1.6 35.3571429,1.6 C48.0871702,1.6 59.5338847,8.78497536 65.178902,19.9430227 L66.2496695,19.401306 C60.4023065,7.84329843 48.5440457,0.4 35.3571429,0.4 C22.17024,0.4 10.3119792,7.84329843 4.46461626,19.401306 L5.53538374,19.9430227 Z\">\n",
      "             </path>\n",
      "             <path d=\"M65.178902,49.9077131 C59.5338847,61.0657604 48.0871702,68.2507358 35.3571429,68.2507358 C22.6271155,68.2507358 11.180401,61.0657604 5.53538374,49.9077131 L4.46461626,50.4494298 C10.3119792,62.0074373 22.17024,69.4507358 35.3571429,69.4507358 C48.5440457,69.4507358 60.4023065,62.0074373 66.2496695,50.4494298 L65.178902,49.9077131 Z\">\n",
      "             </path>\n",
      "            </svg>\n",
      "           </div>\n",
      "          </div>\n",
      "         </a>\n",
      "        </div>\n",
      "        <div class=\"u-flex1 u-inlineBlock\">\n",
      "         <div class=\"u-xs-hide\">\n",
      "          Never miss a story from\n",
      "          <strong>\n",
      "           Mike Cernovich\n",
      "          </strong>\n",
      "          , when you sign up for Medium.\n",
      "          <a class=\"link link--accent u-accentColor--textNormal u-accentColor--textDarken u-baseColor--link\" data-action-source=\"sticky_footer\" href=\"https://medium.com/@Medium/personalize-your-medium-experience-with-users-publications-tags-26a41ab1ee0c#.hx4zuv3mg\">\n",
      "           Learn more\n",
      "          </a>\n",
      "         </div>\n",
      "         <div class=\"u-xs-show\">\n",
      "          Never miss a story from\n",
      "          <strong>\n",
      "           Mike Cernovich\n",
      "          </strong>\n",
      "         </div>\n",
      "        </div>\n",
      "       </div>\n",
      "       <div class=\"u-marginLeft50 u-xs-marginAuto\">\n",
      "        <span class=\"followState js-followState buttonSet-inner\" data-user-id=\"d7bc7439af1b\">\n",
      "         <button class=\"button u-noUserSelect button--withChrome u-baseColor--buttonNormal button--withHover button--unblock js-unblockButton u-uiTextSemibold u-textUppercase u-fontSize12\" data-action=\"sign-in-prompt\" data-action-source=\"sticky_footer\" data-requires-token=\"true\" data-sign-in-action=\"toggle-block-user\">\n",
      "          <span class=\"button-label button-defaultState\">\n",
      "           Blocked\n",
      "          </span>\n",
      "          <span class=\"button-label button-hoverState\">\n",
      "           Unblock\n",
      "          </span>\n",
      "         </button>\n",
      "         <button class=\"button button--primary is-active u-noUserSelect button--withChrome u-accentColor--buttonNormal button--follow js-followButton u-uiTextSemibold u-textUppercase u-fontSize12\" data-action=\"sign-in-prompt\" data-action-source=\"sticky_footer_follow\" data-redirect=\"https://medium.com/_/subscribe/user/d7bc7439af1b\" data-requires-token=\"true\" data-sign-in-action=\"toggle-subscribe-user\">\n",
      "          <span class=\"button-label button-defaultState js-buttonLabel\">\n",
      "           Follow\n",
      "          </span>\n",
      "          <span class=\"button-label button-activeState\">\n",
      "           Get updates\n",
      "          </span>\n",
      "         </button>\n",
      "        </span>\n",
      "       </div>\n",
      "      </div>\n",
      "     </div>\n",
      "    </div>\n",
      "   </div>\n",
      "  </div>\n",
      "  <div class=\"loadingBar\">\n",
      "  </div>\n",
      "  <script>\n",
      "   // <![CDATA[\n",
      "window[\"obvInit\"] = function (opt_embedded) {window[\"obvInit\"][\"embedded\"] = opt_embedded; window[\"obvInit\"][\"ready\"] = true;}\n",
      "// ]]>\n",
      "  </script>\n",
      "  <script>\n",
      "   // <![CDATA[\n",
      "var GLOBALS = {\"audioUrl\":\"https://d1fcbxp97j4nb2.cloudfront.net\",\"baseUrl\":\"https://medium.com\",\"buildLabel\":\"28848-a784ea9\",\"currentUser\":{\"userId\":\"lo_3b3955a5b59c\",\"isVerified\":false,\"subscriberEmail\":\"\"},\"currentUserHasUnverifiedEmail\":false,\"isAuthenticated\":false,\"isCurrentUserVerified\":false,\"mediumTwitterScreenName\":\"medium\",\"miroUrl\":\"https://cdn-images-1.medium.com\",\"moduleUrls\":{\"base\":\"https://cdn-static-1.medium.com/_/fp/gen-js/main-base.bundle.KjxU8e2Gom8fXomNfS10mw.js\",\"notes\":\"https://cdn-static-1.medium.com/_/fp/gen-js/main-notes.bundle.08hd9CFuQPpT3V1mJ8Ty4w.js\",\"posters\":\"https://cdn-static-1.medium.com/_/fp/gen-js/main-posters.bundle.NzMEUAdp8G4wlpBYGDUVHg.js\",\"common-async\":\"https://cdn-static-1.medium.com/_/fp/gen-js/main-common-async.bundle.MmLo4vREpvmQffuHx8Ifdg.js\",\"stats\":\"https://cdn-static-1.medium.com/_/fp/gen-js/main-stats.bundle.mgt_b7t_8elp9Sg4BeTM3g.js\",\"home-screens\":\"https://cdn-static-1.medium.com/_/fp/gen-js/main-home-screens.bundle.Y5DrENAzKltxlbfYWgyUXg.js\",\"misc-screens\":\"https://cdn-static-1.medium.com/_/fp/gen-js/main-misc-screens.bundle.VjV_h-eKsHtV1N8ePGH_hw.js\"},\"previewConfig\":{\"weightThreshold\":1,\"weightImageParagraph\":0.51,\"weightIframeParagraph\":0.8,\"weightTextParagraph\":0.08,\"weightEmptyParagraph\":0,\"weightP\":0.003,\"weightH\":0.005,\"weightBq\":0.003,\"minPTextLength\":60,\"truncateBoundaryChars\":20,\"detectTitle\":true,\"detectTitleLevThreshold\":0.15},\"productName\":\"Medium\",\"supportsEdit\":false,\"termsUrl\":\"//medium.com/policy/9db0094a1e0f\",\"textshotHost\":\"textshot.medium.com\",\"transactionId\":\"1494009341662:9abdab8316b0\",\"useragent\":{\"browser\":\"python requests\",\"family\":\"\",\"os\":\"\",\"version\":2.13,\"supportsDesktopEdit\":false,\"supportsInteract\":false,\"supportsView\":true,\"isMobile\":false,\"isTablet\":false,\"isNative\":false,\"supportsFileAPI\":false,\"isTier1\":false,\"clientVersion\":\"\",\"unknownParagraphsBad\":false,\"clientChannel\":\"\",\"supportsRealScrollEvents\":false,\"supportsVhUnits\":false,\"ruinsViewportSections\":false,\"supportsHtml5Video\":false,\"supportsMagicUnderlines\":false,\"isWebView\":false,\"isFacebookWebView\":false,\"supportsProgressiveMedia\":false,\"supportsPromotedPosts\":true,\"isBot\":false,\"isNativeIphone\":false,\"supportsCssVariables\":false,\"supportsScrollableMetabar\":false},\"variants\":{\"allow_access\":true,\"allow_signup\":true,\"allow_test_auth\":\"disallow\",\"signin_services\":\"twitter,facebook,google,email,google-fastidv\",\"signup_services\":\"twitter,facebook,google,email,google-fastidv\",\"android_rating_prompt_recommend_threshold\":5,\"google_sign_in_android\":true,\"enable_onboarding\":true,\"ios_custom_miro_url\":\"https://cdn-images-1.medium.com\",\"reengagement_notification_duration\":3,\"enable_adsnative_integration\":true,\"browsable_stream_config_bucket\":\"curated-topics\",\"ios_small_post_preview_truncation_length\":5.5,\"ios_large_post_preview_truncation_length\":5.5,\"disable_ios_catalog_badging\":true,\"enable_series_creation\":true,\"enable_your_series_pages\":true,\"enable_productionized_series\":true,\"enable_dedicated_series_tab_api_ios\":true,\"enable_clap_milestone_notifications\":true,\"enable_series_stats_page\":true,\"enable_prepublish_share_settings\":true,\"enable_direct_auth_connect\":true,\"enable_post_import\":true,\"enable_sponsored_post_labelling\":true,\"enable_logged_in_follow_on_collection_post\":true,\"promoted_story_placement_locations\":\"POST_PAGE_FOOTER,POST_PAGE_BELOW_POST_ACTIONS\",\"show_topics\":true,\"enable_search_collection_by_tag_recency_filter\":true,\"search_collection_by_tag_filter_min_votes\":10,\"enable_sms_app_promo\":true,\"enable_export_members\":true,\"enable_series_card_background_creation\":true,\"enable_new_stats_source\":true,\"can_see_subscription_branding\":true,\"enable_subscriptions_landing_page\":true,\"enable_partner_program_landing_page\":true,\"enable_hide_broken_links\":true,\"enable_pay_for_custom_domain\":true,\"enable_promos_from_dynamo\":true,\"enable_promos_in_placement\":true,\"double_write_post_from_followed_tag_items\":true,\"enable_series_promo_in_email\":true,\"enable_sms\":true,\"enable_series_in_user_profiles\":true,\"enable_new_logged_out_bento_operation\":true,\"enable_featured_image_selector\":true,\"num_of_tags_suggested_on_publish\":3},\"xsrfToken\":\"\",\"iosAppId\":\"828256236\",\"supportEmail\":\"yourfriends@medium.com\",\"teamName\":\"Team Medium\",\"fp\":{\"/icons/favicon.svg\":\"https://cdn-static-1.medium.com/_/fp/icons/favicon.KjTfUJo7yJH_fCoUzzH3cg.svg\",\"/icons/favicon-dev-editor.ico\":\"https://cdn-static-1.medium.com/_/fp/icons/favicon-dev-editor.YKKRxBO8EMvIqhyCwIiJeQ.ico\",\"/icons/favicon-hatch-editor.ico\":\"https://cdn-static-1.medium.com/_/fp/icons/favicon-hatch-editor.BuEyHIqlyh2s_XEk4Rl32Q.ico\",\"/icons/favicon-medium-editor.ico\":\"https://cdn-static-1.medium.com/_/fp/icons/favicon-medium-editor.PiakrZWB7Yb80quUVQWM6g.ico\"},\"authBaseUrl\":\"https://medium.com\",\"imageUploadSizeMb\":25,\"isAuthDomainRequest\":true,\"algoliaApiEndpoint\":\"https://MQ57UUUQZ2-dsn.algolia.net\",\"algoliaAppId\":\"MQ57UUUQZ2\",\"algoliaSearchOnlyApiKey\":\"394474ced050e3911ae2249ecc774921\",\"iosAppStoreUrl\":\"https://itunes.apple.com/app/medium-everyones-stories/id828256236?pt=698524&mt=8\",\"iosAppLinkBaseUrl\":\"medium:\",\"algoliaIndexPrefix\":\"medium_\",\"androidPlayStoreUrl\":\"https://play.google.com/store/apps/details?id=com.medium.reader\",\"googleClientId\":\"216296035834-k1k6qe060s2tp2a2jam4ljdcms00sttg.apps.googleusercontent.com\",\"androidPackage\":\"com.medium.reader\",\"androidPlayStoreMarketScheme\":\"market://details?id=com.medium.reader\",\"googleAuthUri\":\"https://accounts.google.com/o/oauth2/auth\",\"androidScheme\":\"medium\",\"layoutData\":{\"useDynamicScripts\":false,\"googleAnalyticsTrackingCode\":\"UA-24232453-2\",\"jsShivUrl\":\"https://cdn-static-1.medium.com/_/fp/js/shiv.RI2ePTZ5gFmMgLzG5bEVAA.js\",\"useDynamicCss\":false,\"faviconUrl\":\"https://cdn-static-1.medium.com/_/fp/icons/favicon-medium.TAS6uQ-Y7kcKgi0xjcYHXw.ico\",\"faviconImageId\":\"1*W0nmth_X8nFKjn6BZ388UQ.png\",\"fontSets\":[{\"id\":1,\"url\":\"https://cdn-static-1.medium.com/_/fp/css/fonts-base.by5Oi_VbnwEIvhnWIsuUjA.css\"},{\"id\":4,\"url\":\"https://cdn-static-1.medium.com/_/fp/css/fonts-lazy-base.g08Jj5TZPAiuPWj5YNUsSg.css\"},{\"id\":6,\"url\":\"https://cdn-static-1.medium.com/_/fp/css/fonts-latin-base.141WxxXgxGxNcfeza73H7Q.css\"},{\"id\":7,\"url\":\"https://cdn-static-1.medium.com/_/fp/css/fonts-lazy-latin-base.jMU532QDmysQMOINr-cr2A.css\"}],\"editorFaviconUrl\":\"https://cdn-static-1.medium.com/_/fp/icons/favicon-medium-editor.PiakrZWB7Yb80quUVQWM6g.ico\"},\"authBaseUrlRev\":\"moc.muidem//:sptth\",\"isDnt\":false,\"stripePublishableKey\":\"pk_live_7FReX44VnNIInZwrIIx6ghjl\",\"archiveUploadSizeMb\":100,\"paymentData\":{\"currencies\":{\"1\":{\"label\":\"US Dollar\",\"external\":\"usd\"}},\"countries\":{\"1\":{\"label\":\"United States of America\",\"external\":\"US\"}},\"accountTypes\":{\"1\":{\"label\":\"Individual\",\"external\":\"individual\"},\"2\":{\"label\":\"Company\",\"external\":\"company\"}}},\"previewConfig2\":{\"weightThreshold\":1,\"weightImageParagraph\":0.05,\"raiseImage\":true,\"enforceHeaderHierarchy\":true,\"isImageInsetRight\":true},\"isAmp\":false,\"iosScheme\":\"medium\",\"isSwBoot\":false,\"lightstep\":{\"accessToken\":\"ce5be895bef60919541332990ac9fef2\",\"carrier\":\"{\\\"ot-tracer-spanid\\\":\\\"119b0fef177f65a3\\\",\\\"ot-tracer-traceid\\\":\\\"6f97c97d4e719abd\\\",\\\"ot-tracer-sampled\\\":\\\"true\\\"}\",\"host\":\"collector-medium.lightstep.com\"},\"facebook\":{\"key\":\"542599432471018\",\"secret\":\"c14df7146e9052a1131f3c900c1f0644\",\"token\":\"542599432471018|1JqjIwxSfY9jOt_KwjWEl1R7T6I\",\"namespace\":\"medium-com\",\"scope\":{\"default\":[\"public_profile\",\"email\",\"user_friends\"],\"connect\":[\"public_profile\",\"email\",\"user_friends\"],\"login\":[\"public_profile\",\"email\",\"user_friends\"],\"share\":[\"public_profile\",\"email\",\"user_friends\",\"publish_actions\"]},\"smartPublishWhitelistedPublications\":[\"bcc38c8f6edf\",\"f3726e2a5878\",\"828a270689e\",\"81c7d351c056\",\"f30e42fd7ff8\",\"8bf1d7d3081b\",\"d16afa0ae7c\",\"d8f3f6ad9c31\",\"e74de0cedea9\",\"15f753907972\",\"c8c6a6b01ebd\",\"3412b9729488\",\"2ce4bbcf83bb\",\"544c7006046e\",\"7bfcdbc6b30a\",\"a268fd916824\",\"458a773bccd2\"],\"instantArticles\":{\"published\":true,\"developmentMode\":false}},\"mailingListArchiveUploadSizeMb\":2,\"availableMembershipPlans\":[],\"editorsPicksTopicId\":\"3985d2a191c5\",\"popularOnMediumTopicId\":\"9d34e48ecf94\",\"memberContentTopicId\":\"13d7efd82fb2\",\"isDoNotAuth\":false,\"goldfinchUrl\":\"https://goldfinch.medium.com\",\"buggleUrl\":\"https://buggle.medium.com\",\"buggleAudioUrl\":\"https://s3.amazonaws.com/medium-assets-audio\"}\n",
      "// ]]>\n",
      "  </script>\n",
      "  <script async=\"\" charset=\"UTF-8\" src=\"https://cdn-static-1.medium.com/_/fp/gen-js/main-base.bundle.KjxU8e2Gom8fXomNfS10mw.js\">\n",
      "  </script>\n",
      "  <script>\n",
      "   // <![CDATA[\n",
      "window[\"obvInit\"]({\"value\":{\"id\":\"30085b5cff16\",\"versionId\":\"f88842ebd719\",\"creatorId\":\"d7bc7439af1b\",\"creator\":{\"userId\":\"d7bc7439af1b\",\"name\":\"Mike Cernovich\",\"username\":\"Cernovich\",\"createdAt\":1489357015503,\"lastPostCreatedAt\":1494003161307,\"imageId\":\"0*-rfSB-n7vALDJT8j.jpg\",\"backgroundImageId\":\"\",\"bio\":\"Mike Cernovich is a journalist, documentary filmmaker and best-selling author of Gorilla Mindset. http://amzn.to/2n8aNJF\",\"twitterScreenName\":\"Cernovich\",\"socialStats\":{\"userId\":\"d7bc7439af1b\",\"usersFollowedCount\":320,\"usersFollowedByCount\":12974,\"type\":\"SocialStats\"},\"social\":{\"userId\":\"lo_3b3955a5b59c\",\"targetUserId\":\"d7bc7439af1b\",\"type\":\"Social\"},\"facebookAccountId\":\"10212456601874188\",\"allowNotes\":1,\"mediumMemberAt\":1491695507000,\"type\":\"User\"},\"homeCollectionId\":\"\",\"title\":\"Susan Rice Requested Unmasking of Incoming Trump Administration Officials\",\"detectedLanguage\":\"en\",\"latestVersion\":\"f88842ebd719\",\"latestPublishedVersion\":\"f88842ebd719\",\"hasUnpublishedEdits\":false,\"latestRev\":323,\"createdAt\":1491177638804,\"updatedAt\":1493963316768,\"acceptedAt\":0,\"firstPublishedAt\":1491181351052,\"latestPublishedAt\":1491181351052,\"vote\":false,\"experimentalCss\":\"\",\"displayAuthor\":\"\",\"content\":{\"subtitle\":\"Susan Rice, who served as the National Security Adviser under President Obama, has been identified as the official who requested unmasking…\",\"bodyModel\":{\"paragraphs\":[{\"name\":\"3b88\",\"type\":3,\"text\":\"Susan Rice Requested Unmasking of Incoming Trump Administration Officials\",\"markups\":[{\"type\":1,\"start\":0,\"end\":10}]},{\"name\":\"db40\",\"type\":1,\"text\":\"Susan Rice, who served as the National Security Adviser under President Obama, has been identified as the official who requested unmasking of incoming Trump officials, Cernovich Media can exclusively report.\",\"markups\":[]},{\"name\":\"a3ea\",\"type\":1,\"text\":\"The White House Counsel’s office identified Rice as the person responsible for the unmasking after examining Rice’s document log requests. The reports Rice requested to see are kept under tightly-controlled conditions. Each person must log her name before being granted access to them.\",\"markups\":[]},{\"name\":\"c2b7\",\"type\":1,\"text\":\"Upon learning of Rice’s actions, H. R. McMaster dispatched his close aide Derek Harvey to Capitol Hill to brief Chairman Nunes.\",\"markups\":[]},{\"name\":\"2765\",\"type\":1,\"text\":\"“Unmasking” is the process of identifying individuals whose communications were caught in the dragnet of intelligence gathering. While conducting investigations into terrorism and other related crimes, intelligence analysts incidentally capture conversations about parties not subject to the search warrant. The identities of individuals who are not under investigation are kept confidential, for legal and moral reasons.\",\"markups\":[]},{\"name\":\"4865\",\"type\":4,\"text\":\"\",\"markups\":[],\"layout\":1,\"metadata\":{\"id\":\"1*oOBiBxzsAPZoBoZdI2RGSQ.jpeg\",\"originalWidth\":480,\"originalHeight\":360}},{\"name\":\"ca24\",\"type\":1,\"text\":\"Under President Obama, the unmasking rules were changed. Circa originally reported:\",\"markups\":[{\"type\":3,\"start\":57,\"end\":82,\"href\":\"http://circa.com/politics/barack-obama-changed-how-nsa-intercepts-of-americans-like-donald-trump-could-be-shared\",\"title\":\"\",\"rel\":\"\",\"anchorType\":0}]},{\"name\":\"dc4f\",\"type\":6,\"text\":\"As his presidency drew to a close, Barack Obama’s top aides routinely reviewed intelligence reports gleaned from the National Security Agency’s incidental intercepts of Americans abroad, taking advantage of rules their boss relaxed starting in 2011 to help the government better fight terrorism, espionage by foreign enemies and hacking threats, Circa has learned.\",\"markups\":[]},{\"name\":\"fc80\",\"type\":1,\"text\":\"Three people close to President Obama, including his “fall guy” for Benghazi (Susan Rice), had authorization to unmask.\",\"markups\":[{\"type\":3,\"start\":39,\"end\":89,\"href\":\"http://www.businessinsider.com/state-department-susan-rice-benghazi-2016-6\",\"title\":\"\",\"rel\":\"\",\"anchorType\":0}]},{\"name\":\"b1cc\",\"type\":6,\"text\":\"Among those cleared to request and consume unmasked NSA-based intelligence reports about U.S. citizens were Obama’s national security adviser Susan Rice, his CIA Director John Brennan and then-Attorney General Loretta Lynch.\",\"markups\":[]},{\"name\":\"a74f\",\"type\":1,\"text\":\"Not even mainstream outlets denied that some Trump officials had been spied on, with the NY Times reporting:\",\"markups\":[{\"type\":3,\"start\":80,\"end\":107,\"href\":\"https://www.nytimes.com/2017/03/30/us/politics/devin-nunes-intelligence-reports.html\",\"title\":\"\",\"rel\":\"\",\"anchorType\":0}]},{\"name\":\"decc\",\"type\":6,\"text\":\"WASHINGTON — A pair of White House officials helped provide Representative Devin Nunes of California, a Republican and the chairman of the House Intelligence Committee, with the intelligence reports that showed that President Trump and his associates were incidentally swept up in foreign surveillance by American spy agencies.\",\"markups\":[{\"type\":1,\"start\":178,\"end\":326}]},{\"name\":\"05af\",\"type\":1,\"text\":\"According to WaPo, there were three sources for the reports, with Michael Ellis ultimately being blamed by WaPo and AP.\",\"markups\":[{\"type\":3,\"start\":19,\"end\":59,\"href\":\"https://www.washingtonpost.com/world/national-security/three-white-house-officials-tied-to-files-shared-with-house-intelligence-chairman/2017/03/30/de4b8c30-1589-11e7-9e4f-09aa75d3ec57_story.html?utm_term=.c38dd1b33fc1\",\"title\":\"\",\"rel\":\"\",\"anchorType\":0}]},{\"name\":\"f9c0\",\"type\":1,\"text\":\"What’s striking about the Times story is the spin it took. Trump had previously claimed he had been “wire tapped” (quotation marks in his original Tweet), leading to media screams that he prove it. The Times’ own reporting proves that President Trump and his associates were spied on.\",\"markups\":[]},{\"name\":\"eb1d\",\"type\":1,\"text\":\"The Times, rather than admit Trump had been vindicated, instead focused its attention on the question of who leaked the reports to Nunes:\",\"markups\":[]},{\"name\":\"05d6\",\"type\":6,\"text\":\"Since disclosing the existence of the intelligence reports, Mr. Nunes has refused to identify his sources, saying he needed to protect them so others would feel safe going to the committee with sensitive information. In his public comments, he has described his sources as whistle-blowers trying to expose wrongdoing at great risk to themselves.\",\"markups\":[]},{\"name\":\"9328\",\"type\":1,\"text\":\"Since when did journalists attempt to unmask sources? The Times, WaPo, and other outlets rely on anonymous sources in nearly every article about national security. It’s clear they have an agenda — that agenda is not telling the truth.\",\"markups\":[]},{\"name\":\"0eea\",\"type\":1,\"text\":\"This reporter has been informed that Maggie Haberman has had this story about Susan Rice for at least 48 hours, and has chosen to sit on it in an effort to protect the reputation of former President Barack Obama.\",\"markups\":[]},{\"name\":\"9666\",\"type\":1,\"text\":\"— —\",\"markups\":[]},{\"name\":\"5766\",\"type\":1,\"text\":\"Mike Cernovich is a journalist, lawyer, author, and filmmaker. Cernovich Media is not owned by large corporate donors or robber barons. The NY Times’ largest shareholder (whose very word can crash the stock, crippling 401K and other retirement plans) is Carlos Slim. WaPo is owned by Jeff Bezos, who has a $600 million contract with deep state. WaPo has also been caught in a pay-for-play scandal.\",\"markups\":[{\"type\":3,\"start\":0,\"end\":14,\"href\":\"https://medium.com/@Cernovich/about-mike-cernovich-64b0db7d73f4\",\"title\":\"\",\"rel\":\"\",\"anchorType\":0},{\"type\":3,\"start\":52,\"end\":61,\"href\":\"https://www.amazon.com/Silenced-Alan-Dershowitz/dp/B06XS7K1TJ/\",\"title\":\"\",\"rel\":\"\",\"anchorType\":0},{\"type\":3,\"start\":136,\"end\":265,\"href\":\"https://medium.com/@Cernovich/pesos-for-play-how-a-mexican-robber-barron-turned-the-new-york-times-into-his-personal-blog-2403c4590dd0\",\"title\":\"\",\"rel\":\"\",\"anchorType\":0},{\"type\":3,\"start\":345,\"end\":396,\"href\":\"https://medium.com/@Cernovich/wapo-in-pay-for-play-scandal-phony-experts-given-free-pr-leading-to-questions-about-money-59b8911bbbbf\",\"title\":\"\",\"rel\":\"\",\"anchorType\":0}]}],\"sections\":[{\"name\":\"a80e\",\"startIndex\":0}]},\"postDisplay\":{\"coverless\":true}},\"virtuals\":{\"allowNotes\":true,\"previewImage\":{\"imageId\":\"1*oOBiBxzsAPZoBoZdI2RGSQ.jpeg\",\"filter\":\"\",\"backgroundSize\":\"\",\"originalWidth\":480,\"originalHeight\":360,\"strategy\":\"resample\",\"height\":0,\"width\":0},\"wordCount\":635,\"imageCount\":1,\"readingTime\":2.59622641509434,\"subtitle\":\"Susan Rice, who served as the National Security Adviser under President Obama, has been identified as the official who requested unmasking…\",\"usersBySocialRecommends\":[],\"recommends\":396,\"socialRecommends\":[],\"isBookmarked\":false,\"tags\":[{\"slug\":\"mike-cernovich\",\"name\":\"Mike Cernovich\",\"postCount\":129,\"virtuals\":{\"isFollowing\":false},\"metadata\":{\"followerCount\":54,\"postCount\":129,\"coverImage\":{\"id\":\"1*uB24p4-qdnL3m5FmGKTrEQ.jpeg\",\"originalWidth\":1170,\"originalHeight\":1357,\"isFeatured\":true}},\"type\":\"Tag\"},{\"slug\":\"journalism\",\"name\":\"Journalism\",\"postCount\":22010,\"virtuals\":{\"isFollowing\":false},\"metadata\":{\"followerCount\":459137,\"postCount\":22010,\"coverImage\":{\"id\":\"1*QeMHAHnL3vgcEOB3zv8cBQ.jpeg\"}},\"type\":\"Tag\"},{\"slug\":\"national-security\",\"name\":\"National Security\",\"postCount\":478,\"virtuals\":{\"isFollowing\":false},\"metadata\":{\"followerCount\":50,\"postCount\":478,\"coverImage\":{\"id\":\"1*kwl5y52rrR5-Z2fD065YIg.png\",\"originalWidth\":976,\"originalHeight\":930}},\"type\":\"Tag\"},{\"slug\":\"susan-rice\",\"name\":\"Susan Rice\",\"postCount\":87,\"virtuals\":{\"isFollowing\":false},\"metadata\":{\"followerCount\":1,\"postCount\":87,\"coverImage\":{\"id\":\"1*NYakpq9yI8vAE2vuqxlUPA@2x.jpeg\",\"originalWidth\":550,\"originalHeight\":420,\"backgroundSize\":\"\",\"filter\":\"\",\"isFeatured\":false,\"externalSrc\":\"\",\"focusPercentX\":-1,\"focusPercentY\":-1,\"alt\":\"\"}},\"type\":\"Tag\"},{\"slug\":\"unmasking\",\"name\":\"Unmasking\",\"postCount\":2,\"virtuals\":{\"isFollowing\":false},\"metadata\":{\"followerCount\":3,\"postCount\":2,\"coverImage\":{\"id\":\"1*BHqRKjSVmb37SXKgRBEGqQ.jpeg\",\"originalWidth\":600,\"originalHeight\":360}},\"type\":\"Tag\"}],\"socialRecommendsCount\":0,\"responsesCreatedCount\":99,\"links\":{\"entries\":[{\"url\":\"http://www.businessinsider.com/state-department-susan-rice-benghazi-2016-6\",\"alts\":[{\"type\":1,\"url\":\"https://cdn.ampproject.org/c/s/amp.businessinsider.com/state-department-susan-rice-benghazi-2016-6\"}]},{\"url\":\"https://www.washingtonpost.com/world/national-security/three-white-house-officials-tied-to-files-shared-with-house-intelligence-chairman/2017/03/30/de4b8c30-1589-11e7-9e4f-09aa75d3ec57_story.html?utm_term=.c38dd1b33fc1\",\"alts\":[{\"type\":1,\"url\":\"https://cdn.ampproject.org/c/s/www.washingtonpost.com/amphtml/world/national-security/three-white-house-officials-tied-to-files-shared-with-house-intelligence-chairman/2017/03/30/de4b8c30-1589-11e7-9e4f-09aa75d3ec57_story.html\"}]},{\"url\":\"https://www.nytimes.com/2017/03/30/us/politics/devin-nunes-intelligence-reports.html\",\"alts\":[{\"type\":3,\"url\":\"nytimes://reader/id/100000005017751\"},{\"type\":2,\"url\":\"nytimes://www.nytimes.com/2017/03/30/us/politics/devin-nunes-intelligence-reports.html\"}]},{\"url\":\"https://medium.com/@Cernovich/about-mike-cernovich-64b0db7d73f4\",\"alts\":[{\"type\":2,\"url\":\"medium://p/64b0db7d73f4\"},{\"type\":3,\"url\":\"medium://p/64b0db7d73f4\"}]},{\"url\":\"https://medium.com/@Cernovich/pesos-for-play-how-a-mexican-robber-barron-turned-the-new-york-times-into-his-personal-blog-2403c4590dd0\",\"alts\":[{\"type\":3,\"url\":\"medium://p/2403c4590dd0\"},{\"type\":2,\"url\":\"medium://p/2403c4590dd0\"}]},{\"url\":\"https://medium.com/@Cernovich/wapo-in-pay-for-play-scandal-phony-experts-given-free-pr-leading-to-questions-about-money-59b8911bbbbf\",\"alts\":[{\"type\":3,\"url\":\"medium://p/59b8911bbbbf\"},{\"type\":2,\"url\":\"medium://p/59b8911bbbbf\"}]}],\"version\":\"0.3\",\"generatedAt\":1491181351957},\"isLockedPreviewOnly\":false,\"takeoverId\":\"\",\"metaDescription\":\"\",\"totalClapCount\":0},\"coverless\":true,\"slug\":\"susan-rice-requested-unmasking-of-incoming-trump-administration-officials\",\"translationSourcePostId\":\"\",\"translationSourceCreatorId\":\"\",\"isApprovedTranslation\":false,\"inResponseToPostId\":\"\",\"inResponseToRemovedAt\":0,\"isTitleSynthesized\":true,\"allowResponses\":true,\"importedUrl\":\"\",\"importedPublishedAt\":0,\"visibility\":0,\"uniqueSlug\":\"susan-rice-requested-unmasking-of-incoming-trump-administration-officials-30085b5cff16\",\"previewContent\":{\"bodyModel\":{\"paragraphs\":[{\"name\":\"3b88\",\"type\":3,\"text\":\"Susan Rice Requested Unmasking of Incoming Trump Administration Officials\",\"markups\":[{\"type\":1,\"start\":0,\"end\":10}],\"alignment\":1},{\"name\":\"db40\",\"type\":1,\"text\":\"Susan Rice, who served as the National Security Adviser under President Obama, has been identified as the official who requested unmasking of incoming Trump officials, Cernovich Media can exclusively…\",\"markups\":[],\"alignment\":1}],\"sections\":[{\"startIndex\":0}]},\"isFullContent\":false},\"license\":0,\"inResponseToMediaResourceId\":\"\",\"canonicalUrl\":\"https://medium.com/@Cernovich/susan-rice-requested-unmasking-of-incoming-trump-administration-officials-30085b5cff16\",\"approvedHomeCollectionId\":\"\",\"newsletterId\":\"\",\"webCanonicalUrl\":\"https://medium.com/@Cernovich/susan-rice-requested-unmasking-of-incoming-trump-administration-officials-30085b5cff16\",\"mediumUrl\":\"https://medium.com/@Cernovich/susan-rice-requested-unmasking-of-incoming-trump-administration-officials-30085b5cff16\",\"migrationId\":\"\",\"notifyFollowers\":true,\"notifyTwitter\":true,\"isSponsored\":false,\"isRequestToPubDisabled\":false,\"notifyFacebook\":true,\"responseHiddenOnParentPostAt\":0,\"isSeries\":false,\"isSubscriptionLocked\":false,\"seriesLastAppendedAt\":0,\"audioVersionDurationSec\":0,\"type\":\"Post\"},\"mentionedUsers\":[],\"collaborators\":[],\"membershipPlans\":[],\"collectionUserRelations\":[],\"mode\":null,\"references\":{\"User\":{\"d7bc7439af1b\":{\"userId\":\"d7bc7439af1b\",\"name\":\"Mike Cernovich\",\"username\":\"Cernovich\",\"createdAt\":1489357015503,\"lastPostCreatedAt\":1494003161307,\"imageId\":\"0*-rfSB-n7vALDJT8j.jpg\",\"backgroundImageId\":\"\",\"bio\":\"Mike Cernovich is a journalist, documentary filmmaker and best-selling author of Gorilla Mindset. http://amzn.to/2n8aNJF\",\"twitterScreenName\":\"Cernovich\",\"socialStats\":{\"userId\":\"d7bc7439af1b\",\"usersFollowedCount\":320,\"usersFollowedByCount\":12974,\"type\":\"SocialStats\"},\"social\":{\"userId\":\"lo_3b3955a5b59c\",\"targetUserId\":\"d7bc7439af1b\",\"type\":\"Social\"},\"facebookAccountId\":\"10212456601874188\",\"allowNotes\":1,\"mediumMemberAt\":1491695507000,\"type\":\"User\"}},\"Social\":{\"d7bc7439af1b\":{\"userId\":\"lo_3b3955a5b59c\",\"targetUserId\":\"d7bc7439af1b\",\"type\":\"Social\"}},\"SocialStats\":{\"d7bc7439af1b\":{\"userId\":\"d7bc7439af1b\",\"usersFollowedCount\":320,\"usersFollowedByCount\":12974,\"type\":\"SocialStats\"}}}})\n",
      "// ]]>\n",
      "  </script>\n",
      " </body>\n",
      "</html>\n"
     ]
    }
   ],
   "source": [
    "print page.prettify()"
   ]
  },
  {
   "cell_type": "code",
   "execution_count": 60,
   "metadata": {
    "collapsed": false,
    "deletable": true,
    "editable": true
   },
   "outputs": [],
   "source": [
    "Bloomberg_text = str(Bloomberg_page.find_all('p'))"
   ]
  },
  {
   "cell_type": "code",
   "execution_count": 61,
   "metadata": {
    "collapsed": false,
    "deletable": true,
    "editable": true,
    "scrolled": true
   },
   "outputs": [
    {
     "data": {
      "text/plain": [
       "'[<p class=\"bb-that-category__text\">Connecting decision makers to a dynamic network of information, people and ideas, Bloomberg quickly and accurately delivers business and financial information, news and insight around the world.</p>, <p class=\"bb-that-category__text\">Americas<br/>\\\\r\\\\n+1 212 318 2000</p>, <p class=\"bb-that-category__text\">Europe, Middle East, &amp; Africa<br/>\\\\r\\\\n+44 20 7330 7500</p>, <p class=\"bb-that-category__text\">Asia Pacific<br/>\\\\r\\\\n+65 6212 1000</p>, <p class=\"bb-that-category__text\">Connecting decision makers to a dynamic network of information, people and ideas, Bloomberg quickly and accurately delivers business and financial information, news and insight around the world.</p>, <p class=\"bb-that-category__text\">Americas<br/>\\\\r\\\\n+1 212 318 2000</p>, <p class=\"bb-that-category__text\">Europe, Middle East, &amp; Africa<br/>\\\\r\\\\n+44 20 7330 7500</p>, <p class=\"bb-that-category__text\">Asia Pacific<br/>\\\\r\\\\n+65 6212 1000</p>, <p><span>Investigators saw a pattern behind requests from Susan Rice.</span></p>, <p>White House lawyers last month learned\\\\xa0that the former national security adviser Susan Rice requested the identities of U.S. persons in raw intelligence reports on dozens of occasions that connect to the Donald Trump transition and campaign, according to U.S. officials familiar with the matter.</p>, <p>The pattern of Rice\\'s requests was discovered in a National Security Council review of the government\\'s policy on \"unmasking\" the identities of individuals in the U.S. who are not targets of electronic eavesdropping, but whose communications are collected incidentally. Normally those names are redacted from summaries of monitored conversations and appear in reports as something like \"U.S. Person One.\"</p>, <p>The National Security Council\\'s senior director for intelligence, Ezra Cohen-Watnick, was conducting the review, according to two U.S. officials who spoke with Bloomberg View on the condition of anonymity because they were not authorized to discuss it publicly. In February Cohen-Watnick discovered Rice\\'s multiple requests to unmask U.S. persons in intelligence reports that related to Trump transition activities. He brought this to the attention of the White House General Counsel\\'s office, who reviewed more of Rice\\'s requests and instructed him to end his own research into the unmasking policy.</p>, <p>The intelligence reports were summaries of monitored conversations -- primarily between foreign officials discussing the Trump transition, but also in some cases direct contact between members of the Trump team and monitored foreign officials. One U.S. official familiar with the reports said they contained valuable political information on the Trump transition such as whom the Trump team was meeting, the views of Trump associates on foreign policy matters and plans for the incoming administration.\\\\xa0</p>, <p>Rice did not respond to an email seeking comment on Monday morning. Her role in requesting the identities of Trump transition officials adds an important element to the dueling investigations surrounding the Trump White House since the president\\'s inauguration.</p>, <p>Both the House and Senate intelligence committees are probing any ties between Trump associates and a Russian influence operation against Hillary Clinton during the election. The chairman of the House intelligence committee, Representative Devin Nunes, is also investigating how the Obama White House kept tabs on the Trump transition after the election through unmasking the names of Trump associates incidentally collected in government eavesdropping of foreign officials.</p>, <p>Rice herself has not spoken directly on the issue of unmasking. Last month when she was asked on the \"PBS NewsHour\" about reports that Trump transition officials, including Trump himself, were swept up in incidental intelligence collection, <a data-web-url=\"https://www.youtube.com/watch?feature=youtu.be&amp;v=sH0akjRDJsY&amp;app=desktop\" href=\"https://www.youtube.com/watch?feature=youtu.be&amp;v=sH0akjRDJsY&amp;app=desktop\" rel=\"nofollow noopener\" target=\"_blank\">Rice said</a>: \"I know nothing about this,\" adding, \"I was surprised to see reports from Chairman Nunes on that account today.\"</p>, <p>Rice\\'s requests to unmask the names of Trump transition officials do not vindicate <a data-web-url=\"https://twitter.com/realDonaldTrump/status/837989835818287106?ref_src=twsrc%5Etfw&amp;ref_url=http%3A%2F%2Fmiami.cbslocal.com%2F2017%2F03%2F04%2Ftrump-obama-had-my-wires-tapped-in-trump-tower%2F\" href=\"https://twitter.com/realDonaldTrump/status/837989835818287106?ref_src=twsrc%5Etfw&amp;ref_url=http%3A%2F%2Fmiami.cbslocal.com%2F2017%2F03%2F04%2Ftrump-obama-had-my-wires-tapped-in-trump-tower%2F\" rel=\"nofollow noopener\" target=\"_blank\">Trump\\'s own tweets</a> from March 4 in which he accused Obama of illegally tapping Trump Tower. There remains no evidence to support that claim.\\\\xa0</p>, <p>But Rice\\'s multiple requests to learn the identities of Trump officials discussed in intelligence reports during the transition period does <a href=\"https://www.bloomberg.com/view/articles/2017-03-30/devin-nunes-and-the-tragedy-of-the-russia-inquiry\" target=\"_blank\">highlight a longstanding concern</a> for civil liberties advocates about U.S. surveillance programs. The standard for senior officials to learn the names of U.S. persons incidentally collected is that it must have some foreign intelligence value, a standard that can apply to almost anything. This suggests Rice\\'s unmasking requests were likely within the law.</p>, <p>The news about Rice also sheds light on the strange behavior of Nunes in the last two weeks. It emerged last week that he traveled to the White House last month, the night before he made an explosive allegation about Trump transition officials caught up in incidental surveillance. At the time he said he needed to go to the White House because the reports were only on a database for the executive branch. It now appears that he needed to view computer systems within the National Security Council that would include the logs of Rice\\'s requests to unmask U.S. persons.</p>, <p>The ranking Democrat on the committee Nunes chairs, Representative Adam Schiff, viewed these reports on Friday. In comments to the press over the weekend he declined to discuss the contents of these reports, but also said it was highly unusual for the reports to be shown only to Nunes and not himself and other members of the committee.</p>, <p>Indeed, much about this is highly unusual: if not how the surveillance was collected, then certainly how and why it was disseminated.</p>, <p class=\"news-disclaimer-text\">This column does not necessarily reflect the opinion of the editorial board or Bloomberg LP and its owners.</p>]'"
      ]
     },
     "execution_count": 61,
     "metadata": {},
     "output_type": "execute_result"
    }
   ],
   "source": [
    "Bloomberg_text"
   ]
  },
  {
   "cell_type": "code",
   "execution_count": 62,
   "metadata": {
    "collapsed": true,
    "deletable": true,
    "editable": true
   },
   "outputs": [],
   "source": [
    "Bloomberg_Text_tb = TextBlob(Bloomberg_text)"
   ]
  },
  {
   "cell_type": "code",
   "execution_count": 63,
   "metadata": {
    "collapsed": false,
    "deletable": true,
    "editable": true
   },
   "outputs": [],
   "source": [
    "Bloomberg_NounPhrases = Bloomberg_Text_tb.noun_phrases"
   ]
  },
  {
   "cell_type": "code",
   "execution_count": 64,
   "metadata": {
    "collapsed": false,
    "deletable": true,
    "editable": true
   },
   "outputs": [],
   "source": [
    "same_values = set(Bloomberg_NounPhrases) & set(Cernovich_NounPhrases)"
   ]
  },
  {
   "cell_type": "code",
   "execution_count": 65,
   "metadata": {
    "collapsed": false,
    "deletable": true,
    "editable": true
   },
   "outputs": [
    {
     "data": {
      "text/plain": [
       "{u'< /a >',\n",
       " u'< /p >',\n",
       " u'< p class=',\n",
       " u'[ < p class=',\n",
       " u'nofollow noopener',\n",
       " 'nunes',\n",
       " 'obama',\n",
       " 'rice',\n",
       " u'susan rice',\n",
       " 'trump',\n",
       " u'white house'}"
      ]
     },
     "execution_count": 65,
     "metadata": {},
     "output_type": "execute_result"
    }
   ],
   "source": [
    "same_values"
   ]
  },
  {
   "cell_type": "code",
   "execution_count": 66,
   "metadata": {
    "collapsed": true,
    "deletable": true,
    "editable": true
   },
   "outputs": [],
   "source": [
    "#other articles from April 3: \n",
    "\n",
    "#USANews = https://www.usnews.com/news/national-news/articles/2017-04-03/obama-adviser-susan-rice-sought-names-of-trump-officials-in-intel-reports\n",
    "#Circa.com = http://circa.com/politics/accountability/white-house-logs-indicate-susan-rice-consumed-unmasked-intel-on-trump-associates\n",
    "#WashingtonTimes = http://www.washingtontimes.com/news/2017/apr/3/susan-rice-ordered-unmasking-trump-team-intel-bloo/\n",
    "#WSJ = https://www.wsj.com/articles/susan-rice-unmasked-1491262064\n",
    "#Daily Caller = http://dailycaller.com/2017/04/03/susan-rice-ordered-spy-agencies-to-produce-detailed-spreadsheets-involving-trump/"
   ]
  },
  {
   "cell_type": "code",
   "execution_count": 67,
   "metadata": {
    "collapsed": true,
    "deletable": true,
    "editable": true
   },
   "outputs": [],
   "source": [
    "USANews_url = \"https://www.usnews.com/news/national-news/articles/2017-04-03/obama-adviser-susan-rice-sought-names-of-trump-officials-in-intel-reports\"\n",
    "head_data = {'From': 'as5165@columbia.edu'}\n",
    "\n",
    "response = get(USANews_url,headers=head_data)    \n",
    "USANews_page = BeautifulSoup(response.text)"
   ]
  },
  {
   "cell_type": "code",
   "execution_count": 68,
   "metadata": {
    "collapsed": true,
    "deletable": true,
    "editable": true
   },
   "outputs": [],
   "source": [
    "USANews_text = str(USANews_page.find_all('p'))"
   ]
  },
  {
   "cell_type": "code",
   "execution_count": 69,
   "metadata": {
    "collapsed": true,
    "deletable": true,
    "editable": true
   },
   "outputs": [],
   "source": [
    "USANews_Text_tb = TextBlob(USANews_text)"
   ]
  },
  {
   "cell_type": "code",
   "execution_count": 70,
   "metadata": {
    "collapsed": false,
    "deletable": true,
    "editable": true
   },
   "outputs": [],
   "source": [
    "USANews_NounPhrases = USANews_Text_tb.noun_phrases"
   ]
  },
  {
   "cell_type": "code",
   "execution_count": 109,
   "metadata": {
    "collapsed": true
   },
   "outputs": [],
   "source": [
    "DailyCaller_url = \"http://dailycaller.com/2017/04/03/susan-rice-ordered-spy-agencies-to-produce-detailed-spreadsheets-involving-trump/\"\n",
    "head_data = {'From': 'ceh2191@columbia.edu'}\n",
    "\n",
    "response = get(DailyCaller_url,headers=head_data)    \n",
    "DailyCaller_page = BeautifulSoup(response.text)"
   ]
  },
  {
   "cell_type": "code",
   "execution_count": 111,
   "metadata": {
    "collapsed": false
   },
   "outputs": [],
   "source": [
    "DailyCaller_text = str(DailyCaller_page.find_all('p'))"
   ]
  },
  {
   "cell_type": "code",
   "execution_count": 112,
   "metadata": {
    "collapsed": true
   },
   "outputs": [],
   "source": [
    "DailyCaller_Text_tb = TextBlob(DailyCaller_text)"
   ]
  },
  {
   "cell_type": "code",
   "execution_count": 113,
   "metadata": {
    "collapsed": true
   },
   "outputs": [],
   "source": [
    "USANews_NounPhrases = USANews_Text_tb.noun_phrases"
   ]
  },
  {
   "cell_type": "code",
   "execution_count": 71,
   "metadata": {
    "collapsed": true,
    "deletable": true,
    "editable": true
   },
   "outputs": [],
   "source": [
    "Circa_url = \"https://www.usnews.com/news/national-news/articles/2017-04-03/obama-adviser-susan-rice-sought-names-of-trump-officials-in-intel-reports\"\n",
    "head_data = {'From': 'as5165@columbia.edu'}\n",
    "\n",
    "response = get(Circa_url,headers=head_data)    \n",
    "Circa_page = BeautifulSoup(response.text)"
   ]
  },
  {
   "cell_type": "code",
   "execution_count": 72,
   "metadata": {
    "collapsed": true,
    "deletable": true,
    "editable": true
   },
   "outputs": [],
   "source": [
    "Circa_text = str(Circa_page.find_all('p'))"
   ]
  },
  {
   "cell_type": "code",
   "execution_count": 73,
   "metadata": {
    "collapsed": true,
    "deletable": true,
    "editable": true
   },
   "outputs": [],
   "source": [
    "Circa_Text_tb = TextBlob(Circa_text)"
   ]
  },
  {
   "cell_type": "code",
   "execution_count": 74,
   "metadata": {
    "collapsed": true,
    "deletable": true,
    "editable": true
   },
   "outputs": [],
   "source": [
    "Circa_NounPhrases = Circa_Text_tb.noun_phrases"
   ]
  },
  {
   "cell_type": "code",
   "execution_count": 75,
   "metadata": {
    "collapsed": false,
    "deletable": true,
    "editable": true
   },
   "outputs": [
    {
     "data": {
      "text/plain": [
       "WordList([u'[ < p > \\\\nreference # 18.c7a83d42.1494009364.38c2985\\\\n < /p > ]'])"
      ]
     },
     "execution_count": 75,
     "metadata": {},
     "output_type": "execute_result"
    }
   ],
   "source": [
    "Circa_NounPhrases"
   ]
  },
  {
   "cell_type": "code",
   "execution_count": 76,
   "metadata": {
    "collapsed": true,
    "deletable": true,
    "editable": true
   },
   "outputs": [],
   "source": [
    "WashingtonTimes_url = \"http://www.washingtontimes.com/news/2017/apr/3/susan-rice-ordered-unmasking-trump-team-intel-bloo/\"\n",
    "head_data = {'From': 'as5165@columbia.edu'}\n",
    "\n",
    "response = get(WashingtonTimes_url,headers=head_data)    \n",
    "WashingtonTimes_page = BeautifulSoup(response.text)"
   ]
  },
  {
   "cell_type": "code",
   "execution_count": 77,
   "metadata": {
    "collapsed": true,
    "deletable": true,
    "editable": true
   },
   "outputs": [],
   "source": [
    "WashingtonTimes_text = str(WashingtonTimes_page.find_all('p'))"
   ]
  },
  {
   "cell_type": "code",
   "execution_count": 78,
   "metadata": {
    "collapsed": true,
    "deletable": true,
    "editable": true
   },
   "outputs": [],
   "source": [
    "WashingtonTimes_Text_tb = TextBlob(WashingtonTimes_text)"
   ]
  },
  {
   "cell_type": "code",
   "execution_count": 79,
   "metadata": {
    "collapsed": true,
    "deletable": true,
    "editable": true
   },
   "outputs": [],
   "source": [
    "WashingtonTimes_NounPhrases = WashingtonTimes_Text_tb.noun_phrases"
   ]
  },
  {
   "cell_type": "code",
   "execution_count": 80,
   "metadata": {
    "collapsed": true,
    "deletable": true,
    "editable": true
   },
   "outputs": [],
   "source": [
    "WSJ_url = \"https://www.wsj.com/articles/susan-rice-unmasked-1491262064\"\n",
    "head_data = {'From': 'as5165@columbia.edu'}\n",
    "\n",
    "response = get(WSJ_url,headers=head_data)    \n",
    "WSJ_page = BeautifulSoup(response.text)"
   ]
  },
  {
   "cell_type": "code",
   "execution_count": 81,
   "metadata": {
    "collapsed": false,
    "deletable": true,
    "editable": true
   },
   "outputs": [],
   "source": [
    "WSJ_text = str(WSJ_page.find_all('p'))"
   ]
  },
  {
   "cell_type": "code",
   "execution_count": 82,
   "metadata": {
    "collapsed": true,
    "deletable": true,
    "editable": true
   },
   "outputs": [],
   "source": [
    "WSJ_Text_tb = TextBlob(WSJ_text)"
   ]
  },
  {
   "cell_type": "code",
   "execution_count": 83,
   "metadata": {
    "collapsed": true,
    "deletable": true,
    "editable": true
   },
   "outputs": [],
   "source": [
    "WSJ_NounPhrases = WSJ_Text_tb.noun_phrases"
   ]
  },
  {
   "cell_type": "code",
   "execution_count": 84,
   "metadata": {
    "collapsed": false,
    "deletable": true,
    "editable": true
   },
   "outputs": [
    {
     "data": {
      "text/plain": [
       "WordList([u'[ < p >', 'well', 'trump', u'transition officials', 'u.s.', u'intelligence reports', u'susan rice', u'barack obama\\\\u2019s', u'national security adviser', u'< /p >', u'< p >', 'u.s.', u'official confirms', u'bombshell news', 'bloomberg', u'ms. rice', 'trump', u'intelligence report', u'... \\\\n < /p >', u'< p > \\\\n < span class=', u'> <', 'subscribe', u'< /a > < /span > < span class=', u'> <', u'target=http % 3a % 2f % 2fwww.wsj.com % 2farticles % 2fsusan-rice-unmasked-1491262064', 'sign', u'< /a > < /span > \\\\n < /p >', u'< p class=', u'wsj membership', u'< /p >', u'< p class=', 'customer', u'service < /p >', u'< p class=', 'tools', 'features', u'< /p >', u'< p class=', 'ads', u'< /p >', u'< p class=', u'< /p > ]'])"
      ]
     },
     "execution_count": 84,
     "metadata": {},
     "output_type": "execute_result"
    }
   ],
   "source": [
    "WSJ_NounPhrases"
   ]
  },
  {
   "cell_type": "code",
   "execution_count": 85,
   "metadata": {
    "collapsed": true,
    "deletable": true,
    "editable": true
   },
   "outputs": [],
   "source": [
    "#so for April 3 we have: \n",
    "#Bloomberg = Bloomberg_NounPhrases\n",
    "#Cernovich/Medium = Cernovich_NounPhrases\n",
    "#USA News = USANews_NounPhrases\n",
    "#Circa = Circa_NounPhrases\n",
    "#Washington Times = WashingtonTimes_NounPhrases\n",
    "#WSJ = WSJ_NounPhrases"
   ]
  },
  {
   "cell_type": "code",
   "execution_count": 86,
   "metadata": {
    "collapsed": false,
    "deletable": true,
    "editable": true
   },
   "outputs": [
    {
     "name": "stdout",
     "output_type": "stream",
     "text": [
      "Counter({'trump': 17, u'< p >': 12, 'rice': 11, 'u.s.': 9, u'< /p >': 8, u'< p class=': 8, u'white house': 5, 'nunes': 4, u\"'s requests\": 4, u'transition officials': 4, u'intelligence reports': 3, 'bloomberg': 3, u'ref_url=http % 3a % 2f % 2fmiami.cbslocal.com %': 2, u'< br/ > \\\\r\\\\n+1': 2, u'multiple requests': 2, u'delivers business': 2, u'financial information': 2, 'asia': 2, 'connecting': 2, 'europe': 2, 'americas': 2, u'% 2ftrump-obama-had-my-wires-tapped-in-trump-tower % 2f': 2, 'africa': 2, u'foreign officials': 2, u'ref_src=twsrc % 5etfw': 2, u'dynamic network': 2, u'world. < /p >': 2, u'pacific < br/ > \\\\r\\\\n+65': 2, u'< br/ > \\\\r\\\\n+44': 2, u'nofollow noopener': 2, u'decision makers': 2, 'obama': 2, u'< /a >': 1, u'administration.\\\\xa0 < /p >': 1, u\"president 's inauguration. < /p >\": 1, u'direct contact': 1, u'adam schiff': 1, u'russian influence operation': 1, 'march': 1, u'editorial board': 1, u'view computer systems': 1, 'counsel': 1, u'law. < /p >': 1, u'incidental surveillance': 1, 'democrat': 1, 'investigators': 1, u'senate intelligence committees': 1, u'foreign policy matters': 1, u'> highlight': 1, u'senior director': 1, u'month learned\\\\xa0that': 1, u'white house lawyers': 1, u'transition activities': 1, u'civil liberties advocates': 1, u\"government 's policy\": 1, u'own research': 1, u'vindicate <': 1, u'february cohen-watnick': 1, u'< /span > < /p >': 1, u'pbs newshour': 1, u'surveillance programs': 1, u'foreign officials. < /p >': 1, u'committee. < /p >': 1, u'ezra cohen-watnick': 1, u'senior officials': 1, u'bloomberg lp': 1, u'strange behavior': 1, u'own tweets < /a >': 1, u'devin nunes': 1, u'persons. < /p >': 1, u'raw intelligence reports': 1, u'important element': 1, u'longstanding concern < /a >': 1, u'house intelligence committee': 1, u'susan rice': 1, u'matter. < /p >': 1, u'hillary clinton': 1, u'transition period': 1, u'trump tower': 1, u'national security adviser': 1, u'owners. < /p > ]': 1, 'u.s': 1, u'incidental intelligence collection': 1, u\"national security council 's\": 1, u'national security council': 1, u'policy. < /p >': 1, u'susan rice.': 1, u'valuable political information': 1, u'explosive allegation': 1, u'donald trump': 1, u'sheds light': 1, u'[ < p class=': 1, u'national security council review': 1, u'claim.\\\\xa0 < /p >': 1, u'< p > < span >': 1, u'foreign intelligence value': 1, u'disseminated. < /p >': 1, u\"'s office\": 1, 'normally': 1})\n"
     ]
    }
   ],
   "source": [
    "from collections import Counter\n",
    "counts = Counter(Bloomberg_NounPhrases)\n",
    "print(counts)"
   ]
  },
  {
   "cell_type": "code",
   "execution_count": 87,
   "metadata": {
    "collapsed": true,
    "deletable": true,
    "editable": true
   },
   "outputs": [],
   "source": [
    "#https://www.digitalocean.com/community/tutorials/how-to-graph-word-frequency-using-matplotlib-with-python-3"
   ]
  },
  {
   "cell_type": "code",
   "execution_count": 88,
   "metadata": {
    "collapsed": false,
    "deletable": true,
    "editable": true,
    "scrolled": true
   },
   "outputs": [
    {
     "name": "stdout",
     "output_type": "stream",
     "text": [
      "showing info https://raw.githubusercontent.com/nltk/nltk_data/gh-pages/index.xml\n"
     ]
    },
    {
     "data": {
      "text/plain": [
       "True"
      ]
     },
     "execution_count": 88,
     "metadata": {},
     "output_type": "execute_result"
    }
   ],
   "source": [
    "import nltk\n",
    "nltk.download()"
   ]
  },
  {
   "cell_type": "code",
   "execution_count": 89,
   "metadata": {
    "collapsed": false,
    "deletable": true,
    "editable": true
   },
   "outputs": [
    {
     "name": "stdout",
     "output_type": "stream",
     "text": [
      "*** Introductory Examples for the NLTK Book ***\n",
      "Loading text1, ..., text9 and sent1, ..., sent9\n",
      "Type the name of the text or sentence to view it.\n",
      "Type: 'texts()' or 'sents()' to list the materials.\n",
      "text1: Moby Dick by Herman Melville 1851\n",
      "text2: Sense and Sensibility by Jane Austen 1811\n",
      "text3: The Book of Genesis\n",
      "text4: Inaugural Address Corpus\n",
      "text5: Chat Corpus\n",
      "text6: Monty Python and the Holy Grail\n",
      "text7: Wall Street Journal\n",
      "text8: Personals Corpus\n",
      "text9: The Man Who Was Thursday by G . K . Chesterton 1908\n"
     ]
    }
   ],
   "source": [
    "from nltk.book import *"
   ]
  },
  {
   "cell_type": "code",
   "execution_count": 90,
   "metadata": {
    "collapsed": false,
    "deletable": true,
    "editable": true
   },
   "outputs": [
    {
     "data": {
      "text/plain": [
       "1661"
      ]
     },
     "execution_count": 90,
     "metadata": {},
     "output_type": "execute_result"
    }
   ],
   "source": [
    "text1.count(\"he\")"
   ]
  },
  {
   "cell_type": "code",
   "execution_count": 91,
   "metadata": {
    "collapsed": false,
    "deletable": true,
    "editable": true
   },
   "outputs": [
    {
     "name": "stdout",
     "output_type": "stream",
     "text": [
      "<FreqDist with 99 samples and 195 outcomes>\n"
     ]
    }
   ],
   "source": [
    "fdist1 = FreqDist(Bloomberg_NounPhrases) \n",
    "print(fdist1) "
   ]
  },
  {
   "cell_type": "code",
   "execution_count": 92,
   "metadata": {
    "collapsed": false,
    "deletable": true,
    "editable": true,
    "scrolled": true
   },
   "outputs": [
    {
     "data": {
      "text/plain": [
       "[('trump', 17),\n",
       " (u'< p >', 12),\n",
       " ('rice', 11),\n",
       " ('u.s.', 9),\n",
       " (u'< /p >', 8),\n",
       " (u'< p class=', 8),\n",
       " (u'white house', 5),\n",
       " ('nunes', 4),\n",
       " (u\"'s requests\", 4),\n",
       " (u'transition officials', 4),\n",
       " (u'intelligence reports', 3),\n",
       " ('bloomberg', 3),\n",
       " (u'ref_url=http % 3a % 2f % 2fmiami.cbslocal.com %', 2),\n",
       " (u'< br/ > \\\\r\\\\n+1', 2),\n",
       " (u'multiple requests', 2),\n",
       " (u'delivers business', 2),\n",
       " (u'financial information', 2),\n",
       " ('asia', 2),\n",
       " ('connecting', 2),\n",
       " ('europe', 2),\n",
       " ('americas', 2),\n",
       " (u'% 2ftrump-obama-had-my-wires-tapped-in-trump-tower % 2f', 2),\n",
       " ('africa', 2),\n",
       " (u'foreign officials', 2),\n",
       " (u'ref_src=twsrc % 5etfw', 2),\n",
       " (u'dynamic network', 2),\n",
       " (u'world. < /p >', 2),\n",
       " (u'pacific < br/ > \\\\r\\\\n+65', 2),\n",
       " (u'< br/ > \\\\r\\\\n+44', 2),\n",
       " (u'nofollow noopener', 2),\n",
       " (u'decision makers', 2),\n",
       " ('obama', 2),\n",
       " (u'< /a >', 1),\n",
       " (u'administration.\\\\xa0 < /p >', 1),\n",
       " (u\"president 's inauguration. < /p >\", 1),\n",
       " (u'direct contact', 1),\n",
       " (u'adam schiff', 1),\n",
       " (u'russian influence operation', 1),\n",
       " ('march', 1),\n",
       " (u'editorial board', 1),\n",
       " (u'view computer systems', 1),\n",
       " ('counsel', 1),\n",
       " (u'law. < /p >', 1),\n",
       " (u'incidental surveillance', 1),\n",
       " ('democrat', 1),\n",
       " ('investigators', 1),\n",
       " (u'senate intelligence committees', 1),\n",
       " (u'foreign policy matters', 1),\n",
       " (u'> highlight', 1),\n",
       " (u'senior director', 1)]"
      ]
     },
     "execution_count": 92,
     "metadata": {},
     "output_type": "execute_result"
    }
   ],
   "source": [
    "fdist1.most_common(50) "
   ]
  },
  {
   "cell_type": "code",
   "execution_count": null,
   "metadata": {
    "collapsed": true,
    "deletable": true,
    "editable": true
   },
   "outputs": [],
   "source": []
  },
  {
   "cell_type": "code",
   "execution_count": 93,
   "metadata": {
    "collapsed": false,
    "deletable": true,
    "editable": true
   },
   "outputs": [],
   "source": [
    "Bloomberg_Rice = Bloomberg_text.count(\"Rice\")\n",
    "WSJ_Rice = WSJ_text.count(\"Rice\")\n",
    "Cernovich_Rice = Cernovich_Medium_Text.count(\"Rice\")\n",
    "Circa_Rice = Circa_text.count(\"Rice\")\n",
    "USANews_Rice = USANews_text.count(\"Rice\")\n",
    "WashingtonTimes_Rice = WashingtonTimes_text.count(\"Rice\")"
   ]
  },
  {
   "cell_type": "code",
   "execution_count": 94,
   "metadata": {
    "collapsed": false,
    "deletable": true,
    "editable": true
   },
   "outputs": [
    {
     "data": {
      "text/plain": [
       "13"
      ]
     },
     "execution_count": 94,
     "metadata": {},
     "output_type": "execute_result"
    }
   ],
   "source": [
    "Bloomberg_Rice"
   ]
  },
  {
   "cell_type": "code",
   "execution_count": 95,
   "metadata": {
    "collapsed": false,
    "deletable": true,
    "editable": true
   },
   "outputs": [
    {
     "data": {
      "text/plain": [
       "2"
      ]
     },
     "execution_count": 95,
     "metadata": {},
     "output_type": "execute_result"
    }
   ],
   "source": [
    "WSJ_Rice"
   ]
  },
  {
   "cell_type": "code",
   "execution_count": 96,
   "metadata": {
    "collapsed": false,
    "deletable": true,
    "editable": true
   },
   "outputs": [
    {
     "data": {
      "text/plain": [
       "7"
      ]
     },
     "execution_count": 96,
     "metadata": {},
     "output_type": "execute_result"
    }
   ],
   "source": [
    "Cernovich_Rice"
   ]
  },
  {
   "cell_type": "code",
   "execution_count": 97,
   "metadata": {
    "collapsed": false,
    "deletable": true,
    "editable": true
   },
   "outputs": [
    {
     "data": {
      "text/plain": [
       "0"
      ]
     },
     "execution_count": 97,
     "metadata": {},
     "output_type": "execute_result"
    }
   ],
   "source": [
    "Circa_Rice"
   ]
  },
  {
   "cell_type": "code",
   "execution_count": 98,
   "metadata": {
    "collapsed": false,
    "deletable": true,
    "editable": true
   },
   "outputs": [
    {
     "data": {
      "text/plain": [
       "0"
      ]
     },
     "execution_count": 98,
     "metadata": {},
     "output_type": "execute_result"
    }
   ],
   "source": [
    "USANews_Rice"
   ]
  },
  {
   "cell_type": "code",
   "execution_count": 99,
   "metadata": {
    "collapsed": false,
    "deletable": true,
    "editable": true
   },
   "outputs": [
    {
     "data": {
      "text/plain": [
       "9"
      ]
     },
     "execution_count": 99,
     "metadata": {},
     "output_type": "execute_result"
    }
   ],
   "source": [
    "WashingtonTimes_Rice"
   ]
  },
  {
   "cell_type": "code",
   "execution_count": 101,
   "metadata": {
    "collapsed": false,
    "deletable": true,
    "editable": true,
    "scrolled": true
   },
   "outputs": [
    {
     "data": {
      "text/html": [
       "<iframe id=\"igraph\" scrolling=\"no\" style=\"border:none;\" seamless=\"seamless\" src=\"https://plot.ly/~as5165/239.embed\" height=\"400px\" width=\"400px\"></iframe>"
      ],
      "text/plain": [
       "<plotly.tools.PlotlyDisplay object>"
      ]
     },
     "execution_count": 101,
     "metadata": {},
     "output_type": "execute_result"
    }
   ],
   "source": [
    "from plotly.plotly import iplot, sign_in\n",
    "import plotly.graph_objs as go\n",
    "\n",
    "sign_in(\"as5165\",\"1hGDdK1pPutHYCgidQoM\")\n",
    "\n",
    "data = [Bloomberg_Rice, WSJ_Rice, Cernovich_Rice, Circa_Rice, USANews_Rice, WashingtonTimes_Rice];\n",
    "\n",
    "#trendy_tops = trendy[trendy[\"topic_name\"].isin(tops)]\n",
    "\n",
    "mydata = [go.Scatter(x=data,y=data,mode=\"markers\")]\n",
    "mylayout = go.Layout(autosize=False, width=400,height=400,margin=go.Margin(l=150,r=50,b=100,t=100,pad=4))\n",
    "myfigure = go.Figure(data = mydata, layout = mylayout)\n",
    "iplot(myfigure)"
   ]
  },
  {
   "cell_type": "markdown",
   "metadata": {
    "collapsed": true,
    "deletable": true,
    "editable": true
   },
   "source": [
    "**Next up: **\n",
    "Cernovich said the story was \"stolen\" from him. \n",
    "How many outlets mentioned Cernovich in their coverage?"
   ]
  },
  {
   "cell_type": "code",
   "execution_count": 114,
   "metadata": {
    "collapsed": true
   },
   "outputs": [],
   "source": [
    "Bloomberg_Cv = Bloomberg_text.count(\"Cernovich\")\n",
    "WSJ_Cv = WSJ_text.count(\"Cernovich\")\n",
    "Circa_Cv = Circa_text.count(\"Cernovich\")\n",
    "USANews_Cv = USANews_text.count(\"Cernovich\")\n",
    "WashingtonTimes_Cv = WashingtonTimes_text.count(\"Cernovich\")\n",
    "DailyCaller_Cv = DailyCaller_text.count(\"Cernovich\")"
   ]
  },
  {
   "cell_type": "code",
   "execution_count": 104,
   "metadata": {
    "collapsed": false,
    "deletable": true,
    "editable": true
   },
   "outputs": [
    {
     "data": {
      "text/plain": [
       "0"
      ]
     },
     "execution_count": 104,
     "metadata": {},
     "output_type": "execute_result"
    }
   ],
   "source": [
    "Bloomberg_Cv"
   ]
  },
  {
   "cell_type": "code",
   "execution_count": 105,
   "metadata": {
    "collapsed": false
   },
   "outputs": [
    {
     "data": {
      "text/plain": [
       "0"
      ]
     },
     "execution_count": 105,
     "metadata": {},
     "output_type": "execute_result"
    }
   ],
   "source": [
    "WSJ_Cv"
   ]
  },
  {
   "cell_type": "code",
   "execution_count": 106,
   "metadata": {
    "collapsed": false
   },
   "outputs": [
    {
     "data": {
      "text/plain": [
       "0"
      ]
     },
     "execution_count": 106,
     "metadata": {},
     "output_type": "execute_result"
    }
   ],
   "source": [
    "Circa_Cv"
   ]
  },
  {
   "cell_type": "code",
   "execution_count": 107,
   "metadata": {
    "collapsed": false
   },
   "outputs": [
    {
     "data": {
      "text/plain": [
       "0"
      ]
     },
     "execution_count": 107,
     "metadata": {},
     "output_type": "execute_result"
    }
   ],
   "source": [
    "USANews_Cv"
   ]
  },
  {
   "cell_type": "code",
   "execution_count": 108,
   "metadata": {
    "collapsed": false
   },
   "outputs": [
    {
     "data": {
      "text/plain": [
       "0"
      ]
     },
     "execution_count": 108,
     "metadata": {},
     "output_type": "execute_result"
    }
   ],
   "source": [
    "WashingtonTimes_Cv"
   ]
  },
  {
   "cell_type": "code",
   "execution_count": 115,
   "metadata": {
    "collapsed": false
   },
   "outputs": [
    {
     "data": {
      "text/plain": [
       "0"
      ]
     },
     "execution_count": 115,
     "metadata": {},
     "output_type": "execute_result"
    }
   ],
   "source": [
    "DailyCaller_Cv"
   ]
  },
  {
   "cell_type": "markdown",
   "metadata": {
    "collapsed": true,
    "deletable": true,
    "editable": true
   },
   "source": []
  },
  {
   "cell_type": "code",
   "execution_count": null,
   "metadata": {
    "collapsed": true,
    "deletable": true,
    "editable": true
   },
   "outputs": [],
   "source": []
  },
  {
   "cell_type": "code",
   "execution_count": null,
   "metadata": {
    "collapsed": true,
    "deletable": true,
    "editable": true
   },
   "outputs": [],
   "source": []
  }
 ],
 "metadata": {
  "kernelspec": {
   "display_name": "py2",
   "language": "python",
   "name": "py2"
  },
  "language_info": {
   "codemirror_mode": {
    "name": "ipython",
    "version": 2
   },
   "file_extension": ".py",
   "mimetype": "text/x-python",
   "name": "python",
   "nbconvert_exporter": "python",
   "pygments_lexer": "ipython2",
   "version": "2.7.10"
  }
 },
 "nbformat": 4,
 "nbformat_minor": 2
}
